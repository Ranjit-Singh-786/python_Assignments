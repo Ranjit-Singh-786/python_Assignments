{
 "cells": [
  {
   "cell_type": "markdown",
   "id": "eef74eee",
   "metadata": {},
   "source": [
    "# 1. What is the concept of human learning? Please give two examples."
   ]
  },
  {
   "cell_type": "markdown",
   "id": "8f2b8d8b",
   "metadata": {},
   "source": [
    "Human Learning is the process of acquiring new understanding, knowledge, behaviors, skills, values, attitudes, and preferences.\n",
    "Many examples of this case are found in case of human learning. Learning to drive a motor-car, typewriting, singing or memorizing a poem or a mathematical table, and music etc."
   ]
  },
  {
   "cell_type": "markdown",
   "id": "b745f453",
   "metadata": {},
   "source": [
    "# 2. What different forms of human learning are there? Are there any machine learning equivalents?"
   ]
  },
  {
   "cell_type": "markdown",
   "id": "d7065a8b",
   "metadata": {},
   "source": [
    "Three Major Types of Learning\n",
    "Learning through association - Classical Conditioning.\n",
    "Learning through consequences – Operant Conditioning.\n",
    "Learning through observation – Modeling/Observational Learning.\n",
    "\n",
    "There are many ways to frame this idea, but largely there are three major recognized categories: supervised learning, unsupervised learning, and reinforcement learning."
   ]
  },
  {
   "cell_type": "markdown",
   "id": "a901ea03",
   "metadata": {},
   "source": [
    "# 3. What is machine learning, and how does it work? What are the key responsibilities of machine learning?"
   ]
  },
  {
   "cell_type": "markdown",
   "id": "06316d55",
   "metadata": {},
   "source": [
    "Machine learning (ML) is a type of artificial intelligence (AI) that allows software applications to become more accurate at predicting outcomes without being explicitly programmed to do so. Machine learning algorithms use historical data as input to predict new output values."
   ]
  },
  {
   "cell_type": "markdown",
   "id": "4d1cd9d6",
   "metadata": {},
   "source": [
    "# 4. Define the terms \"penalty\" and \"reward\" in the context of reinforcement learning."
   ]
  },
  {
   "cell_type": "markdown",
   "id": "aaacdb39",
   "metadata": {},
   "source": [
    "A reinforcement learning algorithm, which may also be referred to as an agent, learns by interacting with its environment. The agent receives rewards by performing correctly and penalties for performing incorrectly. The agent learns without intervention from a human by maximizing its reward and minimizing its penalty."
   ]
  },
  {
   "cell_type": "markdown",
   "id": "3d3ea767",
   "metadata": {},
   "source": [
    "# 5. Explain the term learning as a search?"
   ]
  },
  {
   "cell_type": "markdown",
   "id": "1fc50f41",
   "metadata": {},
   "source": [
    "Learning can be viewed as a search through the space of all sentences in a concept description language for a sentence that best describes the data. Alternatively, it can be viewed as a search through all hypotheses in a hypothesis space."
   ]
  },
  {
   "cell_type": "markdown",
   "id": "b0367d08",
   "metadata": {},
   "source": [
    "# 6. What are the various goals of machine learning? What is the relationship between these and human learning?"
   ]
  },
  {
   "cell_type": "markdown",
   "id": "e515b423",
   "metadata": {},
   "source": [
    "The goal of machine learning, closely coupled with the goal of AI, is to achieve a thorough understanding about the nature of learning process (both human learning and other forms of learning), about the computational aspects of learning behaviors, and to implant the learning capability in computer systems."
   ]
  },
  {
   "cell_type": "markdown",
   "id": "9c447716",
   "metadata": {},
   "source": [
    "# 7. Illustrate the various elements of machine learning using a real-life illustration."
   ]
  },
  {
   "cell_type": "markdown",
   "id": "8c3ff1ff",
   "metadata": {},
   "source": [
    "Today we can see many machine learning real-world examples. We may or may not be aware that machine learning is used in various applications like – voice search technology, image recognition, automated translation, self-driven cars, etc."
   ]
  },
  {
   "cell_type": "markdown",
   "id": "2f4e5c2d",
   "metadata": {},
   "source": [
    "# 8. Provide an example of the abstraction method."
   ]
  },
  {
   "cell_type": "markdown",
   "id": "11b5475b",
   "metadata": {},
   "source": [
    "Making coffee with a coffee machine is a good example of abstraction. You need to know how to use your coffee machine to make coffee. You need to provide water and coffee beans, switch it on and select the kind of coffee you want to get."
   ]
  },
  {
   "cell_type": "markdown",
   "id": "727016ae",
   "metadata": {},
   "source": [
    "# 9. What is the concept of generalization? What function does it play in the machine learning process?"
   ]
  },
  {
   "cell_type": "markdown",
   "id": "a1e0e074",
   "metadata": {},
   "source": [
    "Generalization refers to your model's ability to adapt properly to new, previously unseen data, drawn from the same distribution as the one used to create the model. Develop intuition about overfitting. Determine whether a model is good or not. Divide a data set into a training set and a test set."
   ]
  },
  {
   "cell_type": "markdown",
   "id": "dfb60d4c",
   "metadata": {},
   "source": [
    "# What is classification, exactly? What are the main distinctions between classification and regression?"
   ]
  },
  {
   "cell_type": "markdown",
   "id": "32648235",
   "metadata": {},
   "source": [
    "The most significant difference between regression vs classification is that while regression helps predict a continuous quantity, classification predicts discrete class labels. There are also some overlaps between the two types of machine learning algorithms.\n",
    "The key distinction between Classification vs Regression algorithms is Regression algorithms are used to determine continuous values such as price, income, age, etc. and Classification algorithms are used to forecast or classify the distinct values such as Real or False, Male or Female, Spam or Not Spam, etc."
   ]
  },
  {
   "cell_type": "markdown",
   "id": "7a9ad072",
   "metadata": {},
   "source": [
    "# 11. What is regression, and how does it work? Give an example of a real-world problem that was solved using regression."
   ]
  },
  {
   "cell_type": "markdown",
   "id": "66ab9336",
   "metadata": {},
   "source": [
    "A regression model determines a relationship between an independent variable and a dependent variable, by providing a function. Formulating a regression analysis helps you predict the effects of the independent variable on the dependent one. \n",
    "\n",
    "Example: we can say that age and height can be described using a linear regression model. Since a person’s height increases as age increases, they have a linear relationship. \n",
    "\n",
    "Regression models are commonly used as statistical proof of claims regarding everyday facts. "
   ]
  },
  {
   "cell_type": "markdown",
   "id": "16beefb4",
   "metadata": {},
   "source": [
    "# 12. Describe the clustering mechanism in detail."
   ]
  },
  {
   "cell_type": "markdown",
   "id": "6f42a2bf",
   "metadata": {},
   "source": [
    "Clustering is the task of dividing the population or data points into a number of groups such that data points in the same groups are more similar to other data points in the same group than those in other groups. In simple words, the aim is to segregate groups with similar traits and assign them into clusters."
   ]
  },
  {
   "cell_type": "markdown",
   "id": "e925f587",
   "metadata": {},
   "source": [
    "# 13. Make brief observations on two of the following topics:"
   ]
  },
  {
   "cell_type": "markdown",
   "id": "be546cb4",
   "metadata": {},
   "source": [
    "# i. Machine learning algorithms are used"
   ]
  },
  {
   "cell_type": "markdown",
   "id": "137165ce",
   "metadata": {},
   "source": [
    "Machine learning algorithms can be applied on IIoT to reap the rewards of cost savings, improved time, and performance. In the recent era we all have experienced the benefits of machine learning techniques from streaming movie services that recommend titles to watch based on viewing habits to monitor fraudulent activity based on spending pattern of the customers. It can handle large and complex data to draw interesting patterns or trends in them such as anomalies. Machines are needed to process information fast and make decisions when it reaches the threshold. "
   ]
  },
  {
   "cell_type": "markdown",
   "id": "5e19208b",
   "metadata": {},
   "source": [
    "# ii. Studying under supervision"
   ]
  },
  {
   "cell_type": "markdown",
   "id": "adb8aece",
   "metadata": {},
   "source": [
    "Supervised learning is the types of machine learning in which machines are trained using well \"labelled\" training data, and on basis of that data, machines predict the output. The labelled data means some input data is already tagged with the correct output.\n",
    "\n",
    "In supervised learning, the training data provided to the machines work as the supervisor that teaches the machines to predict the output correctly. It applies the same concept as a student learns in the supervision of the teacher.\n",
    "\n",
    "Supervised learning is a process of providing input data as well as correct output data to the machine learning model. The aim of a supervised learning algorithm is to find a mapping function to map the input variable(x) with the output variable(y).\n",
    "\n",
    "In the real-world, supervised learning can be used for Risk Assessment, Image classification, Fraud Detection, spam filtering, etc.\n"
   ]
  },
  {
   "cell_type": "markdown",
   "id": "f08f8e41",
   "metadata": {},
   "source": [
    "# iii. Studying without supervision"
   ]
  },
  {
   "cell_type": "markdown",
   "id": "5080421d",
   "metadata": {},
   "source": [
    "As the name suggests, unsupervised learning is a machine learning technique in which models are not supervised using training dataset. Instead, models itself find the hidden patterns and insights from the given data. It can be compared to learning which takes place in the human brain while learning new things. It can be defined as:\n",
    "\n",
    "Unsupervised learning is a type of machine learning in which models are trained using unlabeled dataset and are allowed to act on that data without any supervision.\n",
    "\n",
    "Unsupervised learning cannot be directly applied to a regression or classification problem because unlike supervised learning, we have the input data but no corresponding output data. The goal of unsupervised learning is to find the underlying structure of dataset, group that data according to similarities, and represent that dataset in a compressed format."
   ]
  },
  {
   "cell_type": "markdown",
   "id": "ab5df58a",
   "metadata": {},
   "source": [
    "# iv. Reinforcement learning is a form of learning based on positive reinforcement."
   ]
  },
  {
   "cell_type": "markdown",
   "id": "c217e715",
   "metadata": {},
   "source": [
    "Reinforcement Learning(RL) is a type of machine learning technique that enables an agent to learn in an interactive environment by trial and error using feedback from its own actions and experiences.\n",
    "\n",
    "Though both supervised and reinforcement learning use mapping between input and output, unlike supervised learning where the feedback provided to the agent is correct set of actions for performing a task, reinforcement learning uses rewards and punishments as signals for positive and negative behavior.\n",
    "\n",
    "As compared to unsupervised learning, reinforcement learning is different in terms of goals. While the goal in unsupervised learning is to find similarities and differences between data points, in the case of reinforcement learning the goal is to find a suitable action model that would maximize the total cumulative reward of the agent. The figure below illustrates the action-reward feedback loop of a generic RL model.\n",
    "\n"
   ]
  },
  {
   "cell_type": "code",
   "execution_count": null,
   "id": "f7be9b80",
   "metadata": {},
   "outputs": [],
   "source": []
  }
 ],
 "metadata": {
  "kernelspec": {
   "display_name": "Python 3 (ipykernel)",
   "language": "python",
   "name": "python3"
  },
  "language_info": {
   "codemirror_mode": {
    "name": "ipython",
    "version": 3
   },
   "file_extension": ".py",
   "mimetype": "text/x-python",
   "name": "python",
   "nbconvert_exporter": "python",
   "pygments_lexer": "ipython3",
   "version": "3.9.12"
  }
 },
 "nbformat": 4,
 "nbformat_minor": 5
}
