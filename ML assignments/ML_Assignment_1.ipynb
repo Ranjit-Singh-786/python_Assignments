{
 "cells": [
  {
   "cell_type": "markdown",
   "id": "685d14a9",
   "metadata": {},
   "source": [
    "# 1. What does one mean by the term \"machine learning\"?"
   ]
  },
  {
   "cell_type": "markdown",
   "id": "1353eb70",
   "metadata": {},
   "source": [
    "Machine learning (ML) is a field of inquiry devoted to understanding and building methods that 'learn', that is, methods that leverage data to improve performance on some set of tasks"
   ]
  },
  {
   "cell_type": "markdown",
   "id": "9f6d0c04",
   "metadata": {},
   "source": [
    "# 2.Can you think of 4 distinct types of issues where it shines?"
   ]
  },
  {
   "cell_type": "markdown",
   "id": "3ddb9404",
   "metadata": {},
   "source": [
    "Four main challenges in Machine Learning include overfitting the data (using a model too complicated), underfitting the data (using a simple model), lacking in data and nonrepresentative data."
   ]
  },
  {
   "cell_type": "markdown",
   "id": "fde92af5",
   "metadata": {},
   "source": [
    "# 3.What is a labeled training set, and how does it work?"
   ]
  },
  {
   "cell_type": "markdown",
   "id": "65c88a42",
   "metadata": {},
   "source": [
    "The training set is used to train the algorithm, and then you use the trained model on the test set to predict the response variable values that are already known. The final step is to compare the predicted responses against the actual (observed) responses to see how close they are"
   ]
  },
  {
   "cell_type": "markdown",
   "id": "dc27b04f",
   "metadata": {},
   "source": [
    "# 4.What are the two most important tasks that are supervised?"
   ]
  },
  {
   "cell_type": "markdown",
   "id": "444d2504",
   "metadata": {},
   "source": [
    "The two most common supervised tasks are regression and classification. Common unsupervised tasks include clustering, visualization, dimensionality reduction, and association rule learning."
   ]
  },
  {
   "cell_type": "markdown",
   "id": "40bcde96",
   "metadata": {},
   "source": [
    "# 5.Can you think of four examples of unsupervised tasks?"
   ]
  },
  {
   "cell_type": "markdown",
   "id": "7b9610d2",
   "metadata": {},
   "source": [
    "Common unsupervised tasks include clustering, visualization, dimensionality reduction, and association rule learning."
   ]
  },
  {
   "cell_type": "markdown",
   "id": "5d754e2e",
   "metadata": {},
   "source": [
    "# 6.State the machine learning model that would be best to make a robot walk through various unfamiliar terrian?"
   ]
  },
  {
   "cell_type": "markdown",
   "id": "a92e358c",
   "metadata": {},
   "source": [
    "The best Machine Learning algorithm to allow a robot to walk in unknown terrain is Reinforced Learning, where the robot can learn from response of the terrain to optimize itself."
   ]
  },
  {
   "cell_type": "markdown",
   "id": "b63c674d",
   "metadata": {},
   "source": [
    "# 7.Which algorithm will you use to divide your customers into different groups?"
   ]
  },
  {
   "cell_type": "markdown",
   "id": "9283f45a",
   "metadata": {},
   "source": [
    "We will use the k-means clustering algorithm to derive the optimum number of clusters and understand the underlying customer segments based on the data provided."
   ]
  },
  {
   "cell_type": "markdown",
   "id": "2c8fec8c",
   "metadata": {},
   "source": [
    "# 8.Will you consider the problem of spam detection to be a supervised or unsupervised learning problem?"
   ]
  },
  {
   "cell_type": "markdown",
   "id": "3932317c",
   "metadata": {},
   "source": [
    "supervised learning problem"
   ]
  },
  {
   "cell_type": "markdown",
   "id": "0ccdfdc1",
   "metadata": {},
   "source": [
    "# 9.What is the concept of an online learning system?"
   ]
  },
  {
   "cell_type": "markdown",
   "id": "4d148c2d",
   "metadata": {},
   "source": [
    "In online learning, you train the system incrementally by feeding it data instances\n",
    "sequentially, either individually or by small groups called mini-batches. Each learning\n",
    "step is fast and cheap, so the system can learn about new data on the fly, as it arrives\n",
    "Online learning is great for systems that receive data as a continuous flow (e.g., stock\n",
    "prices) and need to adapt to change rapidly or autonomously. "
   ]
  },
  {
   "cell_type": "markdown",
   "id": "dd1d3f14",
   "metadata": {},
   "source": [
    "# 10.What is out-of-core learning, and how does it differ from core learning?"
   ]
  },
  {
   "cell_type": "markdown",
   "id": "2a7dcdc7",
   "metadata": {},
   "source": [
    "Out-of-core learning refers to a set of algorithms working with data that cannot fit into the memory of a single computer, but that can easily fit into some data storage such as a local hard disk or web repository. Your available RAM, the core memory on your single machine, may indeed range from a few gigabytes (sometimes 2 GB, more commonly 4 GB, but we assume that you have 2 GB at maximum) up to 256 GB on large server machines. "
   ]
  },
  {
   "cell_type": "markdown",
   "id": "f745e31d",
   "metadata": {},
   "source": [
    "# 11.What kind of learning algorithm makes predictions using a similarity measure?"
   ]
  },
  {
   "cell_type": "markdown",
   "id": "88c5a1f1",
   "metadata": {},
   "source": [
    "Learning algorithm that relies on a similarity measure to make predictions is instance-based algorithm."
   ]
  },
  {
   "cell_type": "markdown",
   "id": "4be32c35",
   "metadata": {},
   "source": [
    "# 12.What's the difference between a model parameter and a hyperparameter in a learning algorithm?"
   ]
  },
  {
   "cell_type": "markdown",
   "id": "f5dd7ff4",
   "metadata": {},
   "source": [
    "In summary, model parameters are estimated from data automatically and model hyperparameters are set manually and are used in processes to help estimate model parameters. Model hyperparameters are often referred to as parameters because they are the parts of the machine learning that must be set manually and tuned.\n",
    "\n",
    "Model parameter determines how a model will predict given a new instance; model usually has more than one parameter (i.e. slope of a linear model). Hyperparameter is a parameter for the learning algorithm, not of a model."
   ]
  },
  {
   "cell_type": "markdown",
   "id": "2a1a79a4",
   "metadata": {},
   "source": [
    "# 13.What are the criteria that model-based learning algorithms look for? What is the most popular method they use to achieve success? What method do they use to make predictions?"
   ]
  },
  {
   "cell_type": "markdown",
   "id": "517d1f4b",
   "metadata": {},
   "source": [
    "Model based learning algorithm search for the optimal value of parameters in a model that will give the best results for the new instances. We often use a cost function or similar to determine what the parameter value has to be in order to minimize the function. The model makes prediction by using the value of the new instance and the parameters in its function."
   ]
  },
  {
   "cell_type": "markdown",
   "id": "316759ad",
   "metadata": {},
   "source": [
    "# 14.Can you name four of the most important Machine Learning challenges?"
   ]
  },
  {
   "cell_type": "markdown",
   "id": "c9e26497",
   "metadata": {},
   "source": [
    "Four main challenges in Machine Learning include overfitting the data (using a model too complicated), underfitting the data (using a simple model), lacking in data and nonrepresentative data."
   ]
  },
  {
   "cell_type": "markdown",
   "id": "6f4fb594",
   "metadata": {},
   "source": [
    "# 15.What happens if the model performs well on the training data but fails to generalize the results to new situations? Can you think of three different options?"
   ]
  },
  {
   "cell_type": "markdown",
   "id": "b426a5f1",
   "metadata": {},
   "source": [
    "If the model performs poorly to new instances, then it has overfit on the training data. To solve this, we can do any of the following three: get more data, implement a simpler model, or eliminate outliers or noise from the existing data set."
   ]
  },
  {
   "cell_type": "markdown",
   "id": "762be115",
   "metadata": {},
   "source": [
    "# 16.What exactly is a test set, and why would you need one?"
   ]
  },
  {
   "cell_type": "markdown",
   "id": "b18db4bd",
   "metadata": {},
   "source": [
    "Test set is a set that you test your model (fit using training data) to see how it performs. Test set is necessary so that you can determine how good (or bad) your model performs."
   ]
  },
  {
   "cell_type": "markdown",
   "id": "b74568fe",
   "metadata": {},
   "source": [
    "# 17.What is a validation set's purpose?"
   ]
  },
  {
   "cell_type": "markdown",
   "id": "61470bb8",
   "metadata": {},
   "source": [
    "Validation set is a set used to compare between different training models."
   ]
  },
  {
   "cell_type": "markdown",
   "id": "aa1e1d71",
   "metadata": {},
   "source": [
    "# 18.What precisely is the train-dev kit, when will you need it, how do you put it to use?"
   ]
  },
  {
   "cell_type": "markdown",
   "id": "a7c5399e",
   "metadata": {},
   "source": [
    "The goal of dev-set is to rank the models in term of their accuracy and helps us decide which model to proceed further with. Using Dev set we rank all our models in terms of their accuracy and pick the best performing model."
   ]
  },
  {
   "cell_type": "markdown",
   "id": "3416da88",
   "metadata": {},
   "source": [
    "# 19.What could go wrong if you use the test set to tune hyperparameters?"
   ]
  },
  {
   "cell_type": "markdown",
   "id": "14bd6d8c",
   "metadata": {},
   "source": [
    "If you tune hyperparameters using the test sets, then it may not perform well on the out-of-sample data because the model is tuned just for that specific set."
   ]
  },
  {
   "cell_type": "code",
   "execution_count": null,
   "id": "fd7ba6bc",
   "metadata": {},
   "outputs": [],
   "source": []
  }
 ],
 "metadata": {
  "kernelspec": {
   "display_name": "Python 3 (ipykernel)",
   "language": "python",
   "name": "python3"
  },
  "language_info": {
   "codemirror_mode": {
    "name": "ipython",
    "version": 3
   },
   "file_extension": ".py",
   "mimetype": "text/x-python",
   "name": "python",
   "nbconvert_exporter": "python",
   "pygments_lexer": "ipython3",
   "version": "3.9.12"
  }
 },
 "nbformat": 4,
 "nbformat_minor": 5
}
