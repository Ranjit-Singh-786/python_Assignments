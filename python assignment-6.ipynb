{
 "cells": [
  {
   "cell_type": "markdown",
   "id": "f2a87b10",
   "metadata": {},
   "source": [
    "# 1. What are escape characters, and how do you use them?"
   ]
  },
  {
   "cell_type": "markdown",
   "id": "86f6c45d",
   "metadata": {},
   "source": [
    "# Ans:-\n",
    "escape character is like special character that removes the drawbacks of string <br>\n",
    "for example some special character are allowed in the string as a string,<br>\n",
    "escape character is used for implement the such type of illigel charcter that are not allowed not in string.<br>\n",
    "example are discussed below."
   ]
  },
  {
   "cell_type": "code",
   "execution_count": 1,
   "id": "df2f039e",
   "metadata": {},
   "outputs": [
    {
     "ename": "SyntaxError",
     "evalue": "invalid syntax (<ipython-input-1-e71da0d2f757>, line 1)",
     "output_type": "error",
     "traceback": [
      "\u001b[1;36m  File \u001b[1;32m\"<ipython-input-1-e71da0d2f757>\"\u001b[1;36m, line \u001b[1;32m1\u001b[0m\n\u001b[1;33m    st=\"INEURON is best instition for  \"full stack data scientis\" \"\u001b[0m\n\u001b[1;37m                                        ^\u001b[0m\n\u001b[1;31mSyntaxError\u001b[0m\u001b[1;31m:\u001b[0m invalid syntax\n"
     ]
    }
   ],
   "source": [
    "st=\"INEURON is best instition for  \"full stack data scientis\" \"\n",
    "st\n",
    "\n",
    "# here inside a double quates are not allowed double quates"
   ]
  },
  {
   "cell_type": "code",
   "execution_count": 2,
   "id": "0740601d",
   "metadata": {},
   "outputs": [
    {
     "data": {
      "text/plain": [
       "'INEURON is best instition for  \"full stack data scientis\" '"
      ]
     },
     "execution_count": 2,
     "metadata": {},
     "output_type": "execute_result"
    }
   ],
   "source": [
    "st='INEURON is best instition for  \"full stack data scientis\" '\n",
    "st\n",
    "# i removed error , we have  to use in single quates double quates"
   ]
  },
  {
   "cell_type": "markdown",
   "id": "7c326155",
   "metadata": {},
   "source": [
    "# 2. What do the escape characters n and t stand for?"
   ]
  },
  {
   "cell_type": "markdown",
   "id": "8d15ea2f",
   "metadata": {},
   "source": [
    "# Ans :- \n",
    "n ----> stands for new line character<br>\n",
    "t ----> stands for tab,<br>\n",
    "\\n is used for the new line print and <br>\n",
    "\\t is used for the tab space<br>\n",
    "example discussed below"
   ]
  },
  {
   "cell_type": "code",
   "execution_count": 4,
   "id": "f711338e",
   "metadata": {},
   "outputs": [
    {
     "name": "stdout",
     "output_type": "stream",
     "text": [
      "ineuron\n",
      "\n",
      " ineuron\n"
     ]
    }
   ],
   "source": [
    "print('ineuron')             # \\n example\n",
    "print('\\n ineuron')"
   ]
  },
  {
   "cell_type": "code",
   "execution_count": 5,
   "id": "9f4b638b",
   "metadata": {},
   "outputs": [
    {
     "name": "stdout",
     "output_type": "stream",
     "text": [
      "\tineuron\n"
     ]
    }
   ],
   "source": [
    "print('\\tineuron')             #\\t example"
   ]
  },
  {
   "cell_type": "markdown",
   "id": "9ad776c6",
   "metadata": {},
   "source": [
    "# 3. What is the way to include backslash characters in a string?"
   ]
  },
  {
   "cell_type": "markdown",
   "id": "65ac40bb",
   "metadata": {},
   "source": [
    "# Ans :-\n",
    "we will use double backslash then we can define a backslash in string<br>\n",
    "for example"
   ]
  },
  {
   "cell_type": "code",
   "execution_count": 19,
   "id": "5cd98298",
   "metadata": {},
   "outputs": [
    {
     "name": "stdout",
     "output_type": "stream",
     "text": [
      "ineuron is best\\ institution center for coding.\n"
     ]
    }
   ],
   "source": [
    "st='ineuron is best\\\\ institution center for coding.'\n",
    "print(st)"
   ]
  },
  {
   "cell_type": "markdown",
   "id": "424a8467",
   "metadata": {},
   "source": [
    "# 4. The string \"Howl's Moving Castle\" is a correct value. Why isn't the single quote character in the word Howl's not escaped a problem?"
   ]
  },
  {
   "cell_type": "code",
   "execution_count": 21,
   "id": "3a023ba3",
   "metadata": {},
   "outputs": [
    {
     "data": {
      "text/plain": [
       "\"Howl's Moving Castle\""
      ]
     },
     "execution_count": 21,
     "metadata": {},
     "output_type": "execute_result"
    }
   ],
   "source": [
    "st=\"Howl's Moving Castle\"       # yes it is correct string\n",
    "st\n",
    "# because inside a double quates is a single quates it is valid for the string.\n",
    "# if inside a single quates is exists sigle quates that means it is invalid syntes\n",
    "# as you can see below"
   ]
  },
  {
   "cell_type": "code",
   "execution_count": 23,
   "id": "67d4db17",
   "metadata": {},
   "outputs": [
    {
     "ename": "SyntaxError",
     "evalue": "invalid syntax (<ipython-input-23-a50295370146>, line 1)",
     "output_type": "error",
     "traceback": [
      "\u001b[1;36m  File \u001b[1;32m\"<ipython-input-23-a50295370146>\"\u001b[1;36m, line \u001b[1;32m1\u001b[0m\n\u001b[1;33m    st='Howl's Moving Castle'\u001b[0m\n\u001b[1;37m             ^\u001b[0m\n\u001b[1;31mSyntaxError\u001b[0m\u001b[1;31m:\u001b[0m invalid syntax\n"
     ]
    }
   ],
   "source": [
    "st='Howl's Moving Castle'       \n",
    "st\n",
    "# i am taking inside a single quates into single quates"
   ]
  },
  {
   "cell_type": "markdown",
   "id": "a31855db",
   "metadata": {},
   "source": [
    "# 5. How do you write a string of newlines if you don't want to use the n character?"
   ]
  },
  {
   "cell_type": "code",
   "execution_count": 24,
   "id": "67aebc51",
   "metadata": {},
   "outputs": [],
   "source": [
    "st='INEURON'\n",
    "st2='Best instition for coding'"
   ]
  },
  {
   "cell_type": "code",
   "execution_count": 25,
   "id": "78604dd1",
   "metadata": {},
   "outputs": [
    {
     "name": "stdout",
     "output_type": "stream",
     "text": [
      "INEURON\n",
      "\n",
      "Best instition for coding\n"
     ]
    }
   ],
   "source": [
    "print(st)\n",
    "print()\n",
    "print(st2)"
   ]
  },
  {
   "cell_type": "markdown",
   "id": "87542786",
   "metadata": {},
   "source": [
    "# 6. What are the values of the given expressions?\n",
    "'Hello, world!'[1]<br>\n",
    "'Hello, world!'[0:5]<br>\n",
    "'Hello, world!'[:5]<br>\n",
    "'Hello, world!'[3:]<br>\n"
   ]
  },
  {
   "cell_type": "code",
   "execution_count": 27,
   "id": "58e4922a",
   "metadata": {},
   "outputs": [
    {
     "data": {
      "text/plain": [
       "'e'"
      ]
     },
     "execution_count": 27,
     "metadata": {},
     "output_type": "execute_result"
    }
   ],
   "source": [
    "'Hello, world!'[1]\n",
    "# it is returning character of first index"
   ]
  },
  {
   "cell_type": "code",
   "execution_count": 28,
   "id": "6e74447f",
   "metadata": {},
   "outputs": [
    {
     "data": {
      "text/plain": [
       "'Hello'"
      ]
     },
     "execution_count": 28,
     "metadata": {},
     "output_type": "execute_result"
    }
   ],
   "source": [
    "'Hello, world!'[0:5]\n",
    "# it is returning index range from 0 to 5 and 5  excluded element"
   ]
  },
  {
   "cell_type": "code",
   "execution_count": 29,
   "id": "924a6886",
   "metadata": {},
   "outputs": [
    {
     "data": {
      "text/plain": [
       "'Hello'"
      ]
     },
     "execution_count": 29,
     "metadata": {},
     "output_type": "execute_result"
    }
   ],
   "source": [
    "'Hello, world!'[:5]\n",
    "# it is returning index range from 0 to 5 and 5  excluded element\n",
    "# and here 0 is by default exists"
   ]
  },
  {
   "cell_type": "code",
   "execution_count": 30,
   "id": "0b97e510",
   "metadata": {},
   "outputs": [
    {
     "data": {
      "text/plain": [
       "'lo, world!'"
      ]
     },
     "execution_count": 30,
     "metadata": {},
     "output_type": "execute_result"
    }
   ],
   "source": [
    "'Hello, world!'[3:]\n",
    "# 3 is inclusive and it is returning 3 to last element of the string"
   ]
  },
  {
   "cell_type": "markdown",
   "id": "e8f3c717",
   "metadata": {},
   "source": [
    "# 7. What are the values of the following expressions?\n",
    "'Hello'.upper()<br>\n",
    "'Hello'.upper().isupper()<br>\n",
    "'Hello'.upper().lower()<br>\n"
   ]
  },
  {
   "cell_type": "code",
   "execution_count": 31,
   "id": "c754c609",
   "metadata": {},
   "outputs": [
    {
     "data": {
      "text/plain": [
       "'HELLO'"
      ]
     },
     "execution_count": 31,
     "metadata": {},
     "output_type": "execute_result"
    }
   ],
   "source": [
    "'Hello'.upper()       # in upper case"
   ]
  },
  {
   "cell_type": "code",
   "execution_count": 32,
   "id": "e9526e1d",
   "metadata": {},
   "outputs": [
    {
     "data": {
      "text/plain": [
       "True"
      ]
     },
     "execution_count": 32,
     "metadata": {},
     "output_type": "execute_result"
    }
   ],
   "source": [
    "'Hello'.upper().isupper()\n",
    "# first it is converting this string lower case into uppercase then it is checking\n",
    "# what the case of this string is upper by using isupper() inbuilt function\n",
    "# if case is upper then it will return True"
   ]
  },
  {
   "cell_type": "code",
   "execution_count": 34,
   "id": "124c2ddb",
   "metadata": {},
   "outputs": [
    {
     "data": {
      "text/plain": [
       "'hello'"
      ]
     },
     "execution_count": 34,
     "metadata": {},
     "output_type": "execute_result"
    }
   ],
   "source": [
    "'Hello'.upper().lower()\n",
    "# lower  to upper then upper to lower\n",
    "# finally we get the lower case of string"
   ]
  },
  {
   "cell_type": "markdown",
   "id": "4bcb9cb4",
   "metadata": {},
   "source": [
    "# 8. What are the values of the following expressions?\n",
    "'Remember, remember, the fifth of July.'.split()<br>\n",
    "'-'.join('There can only one.'.split())\n"
   ]
  },
  {
   "cell_type": "code",
   "execution_count": 35,
   "id": "1276b493",
   "metadata": {},
   "outputs": [
    {
     "data": {
      "text/plain": [
       "['Remember,', 'remember,', 'the', 'fifth', 'of', 'July.']"
      ]
     },
     "execution_count": 35,
     "metadata": {},
     "output_type": "execute_result"
    }
   ],
   "source": [
    "'Remember, remember, the fifth of July.'.split()\n",
    "# it is sort trick of make a string into list\n",
    "# split() is split the string by space and stored the string into a list"
   ]
  },
  {
   "cell_type": "code",
   "execution_count": 38,
   "id": "d25b5819",
   "metadata": {},
   "outputs": [
    {
     "data": {
      "text/plain": [
       "['Remember', ' remember', ' the fifth of July.']"
      ]
     },
     "execution_count": 38,
     "metadata": {},
     "output_type": "execute_result"
    }
   ],
   "source": [
    "'Remember, remember, the fifth of July.'.split(',') \n",
    "# and now we are spliting this string by using comma"
   ]
  },
  {
   "cell_type": "code",
   "execution_count": 43,
   "id": "cc969b15",
   "metadata": {},
   "outputs": [
    {
     "data": {
      "text/plain": [
       "'There-can-only-one.'"
      ]
     },
     "execution_count": 43,
     "metadata": {},
     "output_type": "execute_result"
    }
   ],
   "source": [
    "'-'.join('There can only one.'.split())"
   ]
  },
  {
   "cell_type": "code",
   "execution_count": 45,
   "id": "fa3063f1",
   "metadata": {},
   "outputs": [
    {
     "data": {
      "text/plain": [
       "['there', 'can', 'only', 'one']"
      ]
     },
     "execution_count": 45,
     "metadata": {},
     "output_type": "execute_result"
    }
   ],
   "source": [
    "l='there can only one'.split()\n",
    "l"
   ]
  },
  {
   "cell_type": "code",
   "execution_count": 48,
   "id": "a1292197",
   "metadata": {},
   "outputs": [
    {
     "data": {
      "text/plain": [
       "'there_can_only_one'"
      ]
     },
     "execution_count": 48,
     "metadata": {},
     "output_type": "execute_result"
    }
   ],
   "source": [
    "'_'.join(l)          # all are elements are join by underscore"
   ]
  },
  {
   "cell_type": "code",
   "execution_count": 49,
   "id": "acb9e125",
   "metadata": {},
   "outputs": [
    {
     "data": {
      "text/plain": [
       "['there', 'can', 'only', 'one']"
      ]
     },
     "execution_count": 49,
     "metadata": {},
     "output_type": "execute_result"
    }
   ],
   "source": [
    "# lets suppose i am join all these elements of list \n",
    "# by the comma\n",
    "l"
   ]
  },
  {
   "cell_type": "code",
   "execution_count": 50,
   "id": "1b5c6901",
   "metadata": {},
   "outputs": [
    {
     "data": {
      "text/plain": [
       "'there,can,only,one'"
      ]
     },
     "execution_count": 50,
     "metadata": {},
     "output_type": "execute_result"
    }
   ],
   "source": [
    "','.join(l)\n",
    "# as you can see"
   ]
  },
  {
   "cell_type": "markdown",
   "id": "97f96d89",
   "metadata": {},
   "source": [
    "# 9. What are the methods for right-justifying, left-justifying, and centering a string?"
   ]
  },
  {
   "cell_type": "markdown",
   "id": "9dc39176",
   "metadata": {},
   "source": [
    "# Ans :-\n",
    "<b>center()</b> <br>\n",
    "<b>ljust()</b><br>\n",
    "<b>rjust()</b>"
   ]
  },
  {
   "cell_type": "code",
   "execution_count": 51,
   "id": "37698506",
   "metadata": {},
   "outputs": [
    {
     "data": {
      "text/plain": [
       "'INEURON'"
      ]
     },
     "execution_count": 51,
     "metadata": {},
     "output_type": "execute_result"
    }
   ],
   "source": [
    "st='INEURON'\n",
    "st"
   ]
  },
  {
   "cell_type": "code",
   "execution_count": 53,
   "id": "61e1ad81",
   "metadata": {},
   "outputs": [
    {
     "data": {
      "text/plain": [
       "'******INEURON*******'"
      ]
     },
     "execution_count": 53,
     "metadata": {},
     "output_type": "execute_result"
    }
   ],
   "source": [
    "st.center(20,'*')        # justify the center"
   ]
  },
  {
   "cell_type": "code",
   "execution_count": 54,
   "id": "ac1e9b41",
   "metadata": {},
   "outputs": [
    {
     "data": {
      "text/plain": [
       "'INEURON***'"
      ]
     },
     "execution_count": 54,
     "metadata": {},
     "output_type": "execute_result"
    }
   ],
   "source": [
    "st.ljust(10,'*')"
   ]
  },
  {
   "cell_type": "code",
   "execution_count": 55,
   "id": "97d03fc7",
   "metadata": {},
   "outputs": [
    {
     "data": {
      "text/plain": [
       "'***INEURON'"
      ]
     },
     "execution_count": 55,
     "metadata": {},
     "output_type": "execute_result"
    }
   ],
   "source": [
    "st.rjust(10,'*')"
   ]
  },
  {
   "cell_type": "markdown",
   "id": "ae6d71b5",
   "metadata": {},
   "source": [
    "# 10. What is the best way to remove whitespace characters from the start or end?"
   ]
  },
  {
   "cell_type": "code",
   "execution_count": 58,
   "id": "0e39db1a",
   "metadata": {},
   "outputs": [
    {
     "data": {
      "text/plain": [
       "'           INEURON                 '"
      ]
     },
     "execution_count": 58,
     "metadata": {},
     "output_type": "execute_result"
    }
   ],
   "source": [
    "st='           INEURON                 '\n",
    "st"
   ]
  },
  {
   "cell_type": "code",
   "execution_count": 59,
   "id": "6b283494",
   "metadata": {},
   "outputs": [
    {
     "data": {
      "text/plain": [
       "'INEURON'"
      ]
     },
     "execution_count": 59,
     "metadata": {},
     "output_type": "execute_result"
    }
   ],
   "source": [
    "st.strip()       # remove whitespace form both side"
   ]
  },
  {
   "cell_type": "code",
   "execution_count": 61,
   "id": "448db235",
   "metadata": {},
   "outputs": [
    {
     "data": {
      "text/plain": [
       "'           INEURON'"
      ]
     },
     "execution_count": 61,
     "metadata": {},
     "output_type": "execute_result"
    }
   ],
   "source": [
    "st.rstrip()       # it is used only romeve from the right"
   ]
  },
  {
   "cell_type": "code",
   "execution_count": 62,
   "id": "4beb6e3b",
   "metadata": {},
   "outputs": [
    {
     "data": {
      "text/plain": [
       "'INEURON                 '"
      ]
     },
     "execution_count": 62,
     "metadata": {},
     "output_type": "execute_result"
    }
   ],
   "source": [
    "st.lstrip()        # it is only used for remove the whitespace from leftside"
   ]
  }
 ],
 "metadata": {
  "kernelspec": {
   "display_name": "Python 3",
   "language": "python",
   "name": "python3"
  },
  "language_info": {
   "codemirror_mode": {
    "name": "ipython",
    "version": 3
   },
   "file_extension": ".py",
   "mimetype": "text/x-python",
   "name": "python",
   "nbconvert_exporter": "python",
   "pygments_lexer": "ipython3",
   "version": "3.9.2"
  }
 },
 "nbformat": 4,
 "nbformat_minor": 5
}
