{
 "cells": [
  {
   "cell_type": "markdown",
   "id": "aff699d5",
   "metadata": {},
   "source": [
    "# Python Basic Programming Assignment 4"
   ]
  },
  {
   "cell_type": "markdown",
   "id": "bee966b3",
   "metadata": {},
   "source": [
    "### 1.Write a Python Program to Find the Factorial of a Number?"
   ]
  },
  {
   "cell_type": "code",
   "execution_count": 1,
   "id": "faa85376",
   "metadata": {},
   "outputs": [
    {
     "name": "stdout",
     "output_type": "stream",
     "text": [
      "Enter the no. whoz Factorial you want 8\n",
      "Factorial of 8 is 40320\n"
     ]
    }
   ],
   "source": [
    "#function defination for factorial\n",
    "def factorial(number):\n",
    "    if number<0:\n",
    "        s=\"\\nSorry, Number can't be negative .TRY AGAIN\"\n",
    "        return s\n",
    "    elif number==0 or number==1:\n",
    "        return 1\n",
    "    else:\n",
    "        return number*factorial(number-1)#7*6*5*4*3*2\n",
    "\n",
    "\n",
    "\n",
    "#initialized the varible number\n",
    "number=int(input(\"Enter the no. whoz Factorial you want \"))\n",
    "\n",
    "#function calling\n",
    "res=factorial(number)\n",
    "print(f\"Factorial of {number} is {res}\")"
   ]
  },
  {
   "cell_type": "markdown",
   "id": "6a95c30e",
   "metadata": {},
   "source": [
    "### 2.Write a Python Program to Display the multiplication Table?"
   ]
  },
  {
   "cell_type": "code",
   "execution_count": 2,
   "id": "2b408f34",
   "metadata": {},
   "outputs": [
    {
     "name": "stdout",
     "output_type": "stream",
     "text": [
      "Enter the Number which multiplication table you want 9\n",
      "9 x 1 = 9\n",
      "9 x 2 = 18\n",
      "9 x 3 = 27\n",
      "9 x 4 = 36\n",
      "9 x 5 = 45\n",
      "9 x 6 = 54\n",
      "9 x 7 = 63\n",
      "9 x 8 = 72\n",
      "9 x 9 = 81\n",
      "9 x 10 = 90\n"
     ]
    }
   ],
   "source": [
    "number=int(input(\"Enter the Number which multiplication table you want \"))\n",
    "for i in range(1,11):\n",
    "    print(f\"{number} x {i} = {number*i}\")     \n",
    "    "
   ]
  },
  {
   "cell_type": "markdown",
   "id": "a09d5229",
   "metadata": {},
   "source": [
    "### 3.Write a Python Program to Print the Fibonacci sequence?"
   ]
  },
  {
   "cell_type": "code",
   "execution_count": 3,
   "id": "9253f406",
   "metadata": {},
   "outputs": [
    {
     "name": "stdout",
     "output_type": "stream",
     "text": [
      "Enter the no. whoz Fibonacci sequence you want 7\n",
      "\n",
      "Fibonacci sequence is :\n",
      "\n",
      "1  1  2  3  5  8  13  21  "
     ]
    }
   ],
   "source": [
    "#initialized the varible number\n",
    "number=int(input(\"Enter the no. whoz Fibonacci sequence you want \"))\n",
    "print()\n",
    "\n",
    "#logic\n",
    "\n",
    "if number<0:\n",
    "    print(\"\\nSorry, Number can't be negative .TRY AGAIN\")\n",
    "elif number==0 or number==1:\n",
    "    print(\"Fibonacci sequence is 1 1\")\n",
    "else:\n",
    "    a,b=1,1\n",
    "    print(\"Fibonacci sequence is :\\n\")\n",
    "    print(\"1  1\",end=\"  \")\n",
    "    for i in range(2,number+1):\n",
    "        c=a+b\n",
    "        print(c,end=\"  \")\n",
    "        a=b\n",
    "        b=c"
   ]
  },
  {
   "cell_type": "markdown",
   "id": "1d3c4311",
   "metadata": {},
   "source": [
    "### 4.Write a Python Program to Check Armstrong Number?"
   ]
  },
  {
   "cell_type": "code",
   "execution_count": 4,
   "id": "890766ae",
   "metadata": {},
   "outputs": [
    {
     "name": "stdout",
     "output_type": "stream",
     "text": [
      "Enter the no. whoz Armstrong you want to check 9474\n",
      "\n",
      "9474 is Armstrong Number of 9474\n"
     ]
    }
   ],
   "source": [
    "number=int(input(\"Enter the no. whoz Armstrong you want to check \"))\n",
    "print()\n",
    "\n",
    "count=0\n",
    "\n",
    "# for size of no. and for iterable convert int to str\n",
    "num=str(number)\n",
    "size=len(num)\n",
    "\n",
    "#main logic by each no. power with size and than  adding all \n",
    "for i in num:\n",
    "    temp=int(i)**size\n",
    "    count=count+temp\n",
    "    \n",
    "#Check Armstrong Number\n",
    "\n",
    "if count== number:\n",
    "    print(f\"{count} is Armstrong Number of {number}\")\n",
    "else :   \n",
    "    print(f\"{count} is Not  Armstrong Number of {number}\")"
   ]
  },
  {
   "cell_type": "markdown",
   "id": "6b631ced",
   "metadata": {},
   "source": [
    "### 5.Write a Python Program to Find Armstrong Number in an Interval?"
   ]
  },
  {
   "cell_type": "code",
   "execution_count": 5,
   "id": "19d63af1",
   "metadata": {},
   "outputs": [
    {
     "name": "stdout",
     "output_type": "stream",
     "text": [
      "Enter the Lower Interval 100\n",
      "\n",
      "Enter the Upper Interval 100000\n",
      "\n",
      "Armstrong Number in an Interval 100 to 100000 are\n",
      "153\n",
      "370\n",
      "371\n",
      "407\n",
      "1634\n",
      "8208\n",
      "9474\n",
      "54748\n",
      "92727\n",
      "93084\n"
     ]
    }
   ],
   "source": [
    "lower_interval=int(input(\"Enter the Lower Interval \"))\n",
    "Upper_interval=int(input(\"\\nEnter the Upper Interval \"))\n",
    "print()\n",
    "print(f\"Armstrong Number in an Interval {lower_interval} to {Upper_interval} are\") \n",
    "\n",
    "for number in range(lower_interval,Upper_interval+1):\n",
    "        \n",
    "    count=0\n",
    "    num=str(number)\n",
    "    size=len(num)\n",
    "    for i in num:\n",
    "        temp=int(i)**size\n",
    "        count=count+temp\n",
    "    #Check Armstrong Number\n",
    "    if count== number:\n",
    "        print(number)"
   ]
  },
  {
   "cell_type": "markdown",
   "id": "ed3b6038",
   "metadata": {},
   "source": [
    "### 6.Write a Python Program to Find the Sum of Natural Numbers?"
   ]
  },
  {
   "cell_type": "code",
   "execution_count": 6,
   "id": "b12d97e9",
   "metadata": {},
   "outputs": [
    {
     "name": "stdout",
     "output_type": "stream",
     "text": [
      "Enter the Number 100\n",
      "Sum of Natural number of 100 is 5050\n"
     ]
    }
   ],
   "source": [
    "n=int(input(\"Enter the Number \"))\n",
    "res=int(n*(n+1)/2)\n",
    "print(f\"Sum of Natural number of {n} is {res}\")"
   ]
  }
 ],
 "metadata": {
  "kernelspec": {
   "display_name": "Python 3 (ipykernel)",
   "language": "python",
   "name": "python3"
  },
  "language_info": {
   "codemirror_mode": {
    "name": "ipython",
    "version": 3
   },
   "file_extension": ".py",
   "mimetype": "text/x-python",
   "name": "python",
   "nbconvert_exporter": "python",
   "pygments_lexer": "ipython3",
   "version": "3.9.7"
  }
 },
 "nbformat": 4,
 "nbformat_minor": 5
}