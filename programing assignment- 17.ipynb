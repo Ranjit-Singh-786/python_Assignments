{
 "cells": [
  {
   "cell_type": "markdown",
   "id": "e57e31c4",
   "metadata": {},
   "source": [
    "# Python Basic Programming Assignment 17"
   ]
  },
  {
   "cell_type": "markdown",
   "id": "3996c9ab",
   "metadata": {},
   "source": [
    "### Question1. \n",
    "Create a function that takes three arguments a, b, c and returns the sum of the numbers that are evenly divided by c from the range a, b inclusive.<br>\n",
    "\n",
    "**Examples**<br>\n",
    "evenly_divisible(1, 10, 20) ➞ 0<br>\n",
    "-- No number between 1 and 10 can be evenly divided by 20.<br>\n",
    "evenly_divisible(1, 10, 2) ➞ 30<br>\n",
    "-- 2 + 4 + 6 + 8 + 10 = 30<br>\n",
    "evenly_divisible(1, 10, 3) ➞ 18<br>\n",
    "-- 3 + 6 + 9 = 18"
   ]
  },
  {
   "cell_type": "code",
   "execution_count": 1,
   "id": "5455727c",
   "metadata": {},
   "outputs": [],
   "source": [
    "def evenly_divisible(a,b,c):\n",
    "    Sum=0\n",
    "    for i in range(a,b+1):\n",
    "        if i%c==0:\n",
    "            Sum=Sum+i\n",
    "    return Sum "
   ]
  },
  {
   "cell_type": "code",
   "execution_count": 2,
   "id": "94b13edf",
   "metadata": {},
   "outputs": [
    {
     "data": {
      "text/plain": [
       "0"
      ]
     },
     "execution_count": 2,
     "metadata": {},
     "output_type": "execute_result"
    }
   ],
   "source": [
    "evenly_divisible(1, 10, 20) "
   ]
  },
  {
   "cell_type": "code",
   "execution_count": 3,
   "id": "1557ef47",
   "metadata": {},
   "outputs": [
    {
     "data": {
      "text/plain": [
       "30"
      ]
     },
     "execution_count": 3,
     "metadata": {},
     "output_type": "execute_result"
    }
   ],
   "source": [
    "evenly_divisible(1, 10, 2) "
   ]
  },
  {
   "cell_type": "code",
   "execution_count": 4,
   "id": "3f269f73",
   "metadata": {},
   "outputs": [
    {
     "data": {
      "text/plain": [
       "18"
      ]
     },
     "execution_count": 4,
     "metadata": {},
     "output_type": "execute_result"
    }
   ],
   "source": [
    "evenly_divisible(1, 10, 3)"
   ]
  },
  {
   "cell_type": "markdown",
   "id": "36db521f",
   "metadata": {},
   "source": [
    "### Question2. \n",
    "Create a function that returns True if a given inequality expression is correct and False otherwise.<br>\n",
    "\n",
    "**Examples**<br>\n",
    "correct_signs(&quot;3 &lt; 7 &lt; 11&quot;) ➞ True<br>\n",
    "correct_signs(&quot;13 &gt; 44 &gt; 33 &gt; 1&quot;) ➞ False<br>\n",
    "correct_signs(&quot;1 &lt; 2 &lt; 6 &lt; 9 &gt; 3&quot;) ➞ True"
   ]
  },
  {
   "cell_type": "markdown",
   "id": "f9879cac",
   "metadata": {},
   "source": [
    "### eval()-The eval function evaluates the “String” like a python expression and returns the result as an integer."
   ]
  },
  {
   "cell_type": "code",
   "execution_count": 5,
   "id": "d1a720f0",
   "metadata": {},
   "outputs": [],
   "source": [
    "def correct_signs(string): \n",
    "    return eval(string)"
   ]
  },
  {
   "cell_type": "code",
   "execution_count": 6,
   "id": "f9e4f7d3",
   "metadata": {},
   "outputs": [
    {
     "data": {
      "text/plain": [
       "True"
      ]
     },
     "execution_count": 6,
     "metadata": {},
     "output_type": "execute_result"
    }
   ],
   "source": [
    "correct_signs(\"3 < 7 < 11\")"
   ]
  },
  {
   "cell_type": "code",
   "execution_count": 7,
   "id": "610015eb",
   "metadata": {},
   "outputs": [
    {
     "data": {
      "text/plain": [
       "False"
      ]
     },
     "execution_count": 7,
     "metadata": {},
     "output_type": "execute_result"
    }
   ],
   "source": [
    "correct_signs(\"13 > 44 > 33 > 1\")"
   ]
  },
  {
   "cell_type": "code",
   "execution_count": 8,
   "id": "9bd429f1",
   "metadata": {},
   "outputs": [
    {
     "data": {
      "text/plain": [
       "True"
      ]
     },
     "execution_count": 8,
     "metadata": {},
     "output_type": "execute_result"
    }
   ],
   "source": [
    "correct_signs(\"1 < 2 < 6 < 9 > 3\")"
   ]
  },
  {
   "cell_type": "markdown",
   "id": "c8acab19",
   "metadata": {},
   "source": [
    "### Question3. \n",
    "Create a function that replaces all the vowels in a string with a specified character.<br>\n",
    "\n",
    "**Examples**<br>\n",
    "replace_vowels(&quot;the aardvark&quot;, &quot;#&quot;) ➞ &quot;th# ##rdv#rk&quot;<br>\n",
    "replace_vowels(&quot;minnie mouse&quot;, &quot;?&quot;) ➞ &quot;m?nn?? m??s?&quot;<br>\n",
    "replace_vowels(&quot;shakespeare&quot;, &quot; * &quot;) ➞ &quot;sh*k*sp**r*&quot;"
   ]
  },
  {
   "cell_type": "code",
   "execution_count": 9,
   "id": "26b20ad5",
   "metadata": {},
   "outputs": [],
   "source": [
    "def replace_vowels(string,rep):\n",
    "    \n",
    "    for alpha in [\"a\",\"e\",\"i\",\"o\",\"u\",\"A\",\"E\",\"I\",\"O\",\"U\"]:\n",
    "        if alpha in  string:\n",
    "            string=string.replace(alpha,rep)\n",
    "            \n",
    "    return string"
   ]
  },
  {
   "cell_type": "code",
   "execution_count": 10,
   "id": "6ab55713",
   "metadata": {},
   "outputs": [
    {
     "data": {
      "text/plain": [
       "'th# ##rdv#rk'"
      ]
     },
     "execution_count": 10,
     "metadata": {},
     "output_type": "execute_result"
    }
   ],
   "source": [
    "replace_vowels(\"the aardvark\",\"#\") "
   ]
  },
  {
   "cell_type": "code",
   "execution_count": 11,
   "id": "4bc6772f",
   "metadata": {},
   "outputs": [
    {
     "data": {
      "text/plain": [
       "'m?nn?? m??s?'"
      ]
     },
     "execution_count": 11,
     "metadata": {},
     "output_type": "execute_result"
    }
   ],
   "source": [
    "replace_vowels(\"minnie mouse\", \"?\")"
   ]
  },
  {
   "cell_type": "code",
   "execution_count": 12,
   "id": "f856788a",
   "metadata": {},
   "outputs": [
    {
     "data": {
      "text/plain": [
       "'sh*k*sp**r*'"
      ]
     },
     "execution_count": 12,
     "metadata": {},
     "output_type": "execute_result"
    }
   ],
   "source": [
    "replace_vowels(\"shakespeare\", \"*\")"
   ]
  },
  {
   "cell_type": "markdown",
   "id": "cd88fca9",
   "metadata": {},
   "source": [
    "### Question 4\n",
    "\n",
    "Write a function that calculates the factorial of a number recursively.<br>\n",
    "\n",
    "**Examples**<br>\n",
    "factorial(5) ➞ 120<br>\n",
    "factorial(3) ➞ 6<br>\n",
    "factorial(1) ➞ 1<br>\n",
    "factorial(0) ➞ 1"
   ]
  },
  {
   "cell_type": "code",
   "execution_count": 13,
   "id": "6e60dc07",
   "metadata": {},
   "outputs": [],
   "source": [
    "def factorial(num):\n",
    "    if num==1 or num==0:\n",
    "        return 1\n",
    "    else:\n",
    "        for i in range(2,num+1):\n",
    "            return (num*factorial(num-1))"
   ]
  },
  {
   "cell_type": "code",
   "execution_count": 14,
   "id": "78009dad",
   "metadata": {},
   "outputs": [
    {
     "data": {
      "text/plain": [
       "120"
      ]
     },
     "execution_count": 14,
     "metadata": {},
     "output_type": "execute_result"
    }
   ],
   "source": [
    "factorial(5)"
   ]
  },
  {
   "cell_type": "code",
   "execution_count": 15,
   "id": "c96e4e5a",
   "metadata": {},
   "outputs": [
    {
     "data": {
      "text/plain": [
       "6"
      ]
     },
     "execution_count": 15,
     "metadata": {},
     "output_type": "execute_result"
    }
   ],
   "source": [
    "factorial(3)"
   ]
  },
  {
   "cell_type": "code",
   "execution_count": 16,
   "id": "b9af721d",
   "metadata": {},
   "outputs": [
    {
     "data": {
      "text/plain": [
       "1"
      ]
     },
     "execution_count": 16,
     "metadata": {},
     "output_type": "execute_result"
    }
   ],
   "source": [
    "factorial(0)"
   ]
  },
  {
   "cell_type": "code",
   "execution_count": 17,
   "id": "1c4fa1b0",
   "metadata": {},
   "outputs": [
    {
     "data": {
      "text/plain": [
       "1"
      ]
     },
     "execution_count": 17,
     "metadata": {},
     "output_type": "execute_result"
    }
   ],
   "source": [
    "factorial(1)"
   ]
  },
  {
   "cell_type": "markdown",
   "id": "2a92b61a",
   "metadata": {},
   "source": [
    "### Question 5\n",
    "**Hamming distance** is the number of characters that differ between two strings.<br>\n",
    "\n",
    "To illustrate:<br><br>\n",
    "String1: &quot;abcbba&quot;<br>\n",
    "String2: &quot;abcbda&quot;<br><br>\n",
    "Hamming Distance: 1 - &quot;b&quot; vs. &quot;d&quot; is the only difference.<br>\n",
    "Create a function that computes the hamming distance between two strings.<br>\n",
    "\n",
    "**Examples**<br>\n",
    "hamming_distance(&quot;abcde&quot;, &quot;bcdef&quot;) ➞ 5<br>\n",
    "hamming_distance(&quot;abcde&quot;, &quot;abcde&quot;) ➞ 0<br>\n",
    "hamming_distance(&quot;strong&quot;, &quot;strung&quot;) ➞ 1"
   ]
  },
  {
   "cell_type": "code",
   "execution_count": 18,
   "id": "d55fc1ab",
   "metadata": {},
   "outputs": [],
   "source": [
    "def hamming_distance(str1,str2):\n",
    "    result=0\n",
    "    if len(str1)==len(str2):\n",
    "        for i in range(len(str2)):\n",
    "            if str2[i] != str1[i] :\n",
    "                result=result+1 \n",
    "    else:\n",
    "        return \"length of both string not same \"\n",
    "    return result        "
   ]
  },
  {
   "cell_type": "code",
   "execution_count": 19,
   "id": "eb6e783c",
   "metadata": {},
   "outputs": [
    {
     "data": {
      "text/plain": [
       "0"
      ]
     },
     "execution_count": 19,
     "metadata": {},
     "output_type": "execute_result"
    }
   ],
   "source": [
    "hamming_distance(\"abcde\", \"abcde\")"
   ]
  },
  {
   "cell_type": "code",
   "execution_count": 20,
   "id": "424d2c28",
   "metadata": {},
   "outputs": [
    {
     "data": {
      "text/plain": [
       "5"
      ]
     },
     "execution_count": 20,
     "metadata": {},
     "output_type": "execute_result"
    }
   ],
   "source": [
    "hamming_distance(\"abcde\", \"bcdef\") "
   ]
  },
  {
   "cell_type": "code",
   "execution_count": 21,
   "id": "bec6614c",
   "metadata": {},
   "outputs": [
    {
     "data": {
      "text/plain": [
       "1"
      ]
     },
     "execution_count": 21,
     "metadata": {},
     "output_type": "execute_result"
    }
   ],
   "source": [
    "hamming_distance(\"strong\", \"strung\")"
   ]
  }
 ],
 "metadata": {
  "kernelspec": {
   "display_name": "Python 3 (ipykernel)",
   "language": "python",
   "name": "python3"
  },
  "language_info": {
   "codemirror_mode": {
    "name": "ipython",
    "version": 3
   },
   "file_extension": ".py",
   "mimetype": "text/x-python",
   "name": "python",
   "nbconvert_exporter": "python",
   "pygments_lexer": "ipython3",
   "version": "3.9.7"
  }
 },
 "nbformat": 4,
 "nbformat_minor": 5
}