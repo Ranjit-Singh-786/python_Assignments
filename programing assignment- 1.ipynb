{
 "cells": [
  {
   "cell_type": "markdown",
   "id": "76cf0942",
   "metadata": {},
   "source": [
    "##  Python Basic  Programming Assignment 1"
   ]
  },
  {
   "cell_type": "markdown",
   "id": "7b42dcb3",
   "metadata": {},
   "source": [
    "### 1. Write a Python program to print \"Hello Python\"?"
   ]
  },
  {
   "cell_type": "code",
   "execution_count": 1,
   "id": "51c34df6",
   "metadata": {},
   "outputs": [
    {
     "name": "stdout",
     "output_type": "stream",
     "text": [
      "Hello Python\n"
     ]
    }
   ],
   "source": [
    "print(\"Hello Python\")"
   ]
  },
  {
   "cell_type": "markdown",
   "id": "febb1cde",
   "metadata": {},
   "source": [
    "### 2. Write a Python program to do arithmetical operations addition and division.?"
   ]
  },
  {
   "cell_type": "code",
   "execution_count": 2,
   "id": "e66e40a5",
   "metadata": {},
   "outputs": [
    {
     "name": "stdout",
     "output_type": "stream",
     "text": [
      "Enter first value 40\n",
      "Enter second value 6\n",
      "\n",
      "Addition of 40 & 6 is 46\n",
      "\n",
      "Division of 40 & 6 is 6\n"
     ]
    }
   ],
   "source": [
    "#Takeing input with user\n",
    "a=int(input(\"Enter first value \"))\n",
    "b=int(input(\"Enter second value \"))\n",
    "#Addition perform\n",
    "print()\n",
    "print(\"Addition of {} & {} is {}\".format(a,b,a+b))\n",
    "print()\n",
    "#Division perform\n",
    "print(\"Division of {} & {} is {}\".format(a,b,a//b))"
   ]
  },
  {
   "cell_type": "markdown",
   "id": "d1d904a1",
   "metadata": {},
   "source": [
    "### 3. Write a Python program to find the Area of triangle  ?\n",
    "\n",
    "            side = (a+b+c)/2\n",
    "            area = √(s(s-a)*(s-b)*(s-c)) or Area = (s*(s-a)*(s-b)*(s-c)) ** 0.5  "
   ]
  },
  {
   "cell_type": "code",
   "execution_count": 3,
   "id": "fed94866",
   "metadata": {
    "scrolled": true
   },
   "outputs": [
    {
     "name": "stdout",
     "output_type": "stream",
     "text": [
      "Enter first side 8\n",
      "Enter second side 9\n",
      "Enter Third side 7\n",
      "Area of Triangle of side a = 8,b= 9,c= 7 is 26.832815729997478\n"
     ]
    }
   ],
   "source": [
    "#with math libary\n",
    "import math\n",
    "a=int(input(\"Enter first side \"))\n",
    "b=int(input(\"Enter second side \"))\n",
    "c=int(input(\"Enter Third side \"))\n",
    "s=(a+b+c)/2\n",
    "area=math.sqrt(s*(s-a)*(s-b)*(s-c))\n",
    "print(\"Area of Triangle of side a = {},b= {},c= {} is {}\".format(a,b,c,area))\n",
    "\n"
   ]
  },
  {
   "cell_type": "code",
   "execution_count": 4,
   "id": "a0fafc0d",
   "metadata": {},
   "outputs": [
    {
     "name": "stdout",
     "output_type": "stream",
     "text": [
      "Enter first side 8\n",
      "Enter second side 9\n",
      "Enter Third side 7\n",
      "Area of Triangle of side a = 8,b= 9,c= 7 is 26.832815729997478\n"
     ]
    }
   ],
   "source": [
    "#without math libary\n",
    "a=int(input(\"Enter first side \"))\n",
    "b=int(input(\"Enter second side \"))\n",
    "c=int(input(\"Enter Third side \"))\n",
    "s=(a+b+c)/2\n",
    "area1=(s*(s-a)*(s-b)*(s-c))**0.5\n",
    "print(\"Area of Triangle of side a = {},b= {},c= {} is {}\".format(a,b,c,area1))\n"
   ]
  },
  {
   "cell_type": "markdown",
   "id": "5405b0cc",
   "metadata": {},
   "source": [
    "### 4. Write a Python program to swap two variables?\n"
   ]
  },
  {
   "cell_type": "code",
   "execution_count": 5,
   "id": "8a583aa9",
   "metadata": {},
   "outputs": [
    {
     "name": "stdout",
     "output_type": "stream",
     "text": [
      "Enter your first data for swap  Pooja\n",
      "Enter  your second data for swap Das\n",
      "\n",
      "Data : Pooja & Das ----- without swaping\n",
      "\n",
      "Data: Das & Pooja---- with swaping\n"
     ]
    }
   ],
   "source": [
    "a=input(\"Enter your first data for swap  \")\n",
    "b=input(\"Enter  your second data for swap \")\n",
    "print()\n",
    "print (f\"Data : {a} & {b} ----- without swaping\")\n",
    "a,b=b,a\n",
    "print()\n",
    "print (f\"Data: {a} & {b}---- with swaping\")"
   ]
  },
  {
   "cell_type": "markdown",
   "id": "c16f249f",
   "metadata": {},
   "source": [
    "### 5. Write a Python program to generate a random number?"
   ]
  },
  {
   "cell_type": "code",
   "execution_count": 6,
   "id": "59f10c76",
   "metadata": {},
   "outputs": [
    {
     "name": "stdout",
     "output_type": "stream",
     "text": [
      "0.26130109381724786\n",
      "48\n",
      "6\n"
     ]
    }
   ],
   "source": [
    "import random\n",
    "print(random.random())\n",
    "print(random.randint(20,50))\n",
    "print(random.randrange(0,20,2))"
   ]
  }
 ],
 "metadata": {
  "kernelspec": {
   "display_name": "Python 3 (ipykernel)",
   "language": "python",
   "name": "python3"
  },
  "language_info": {
   "codemirror_mode": {
    "name": "ipython",
    "version": 3
   },
   "file_extension": ".py",
   "mimetype": "text/x-python",
   "name": "python",
   "nbconvert_exporter": "python",
   "pygments_lexer": "ipython3",
   "version": "3.9.7"
  }
 },
 "nbformat": 4,
 "nbformat_minor": 5
}