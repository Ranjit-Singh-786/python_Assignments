{
 "cells": [
  {
   "cell_type": "markdown",
   "id": "51634c92",
   "metadata": {},
   "source": [
    "# 1. In the below elements which of them are values or an expression? eg:- values can be integer or string and expressions will be mathematical operators.\n",
    "# * \n",
    "# 'hello'\n",
    "# -87.8\n",
    "# - \n",
    "# / \n",
    "# +\t\n",
    "# 6 \n"
   ]
  },
  {
   "cell_type": "markdown",
   "id": "0c95a795",
   "metadata": {},
   "source": [
    "# Ans :-\n",
    "# *  -- expression\n",
    "# 'hello'   --  string value\n",
    "# -87.8    --- floating value\n",
    "# -           --- expression\n",
    "# /           ---- expression\n",
    "# +          ---- expression\n",
    "# 6           ---- integer value"
   ]
  },
  {
   "cell_type": "markdown",
   "id": "d75cfe7f",
   "metadata": {},
   "source": [
    "# 2. difference between string and variable ?"
   ]
  },
  {
   "cell_type": "markdown",
   "id": "fa1f8ed9",
   "metadata": {},
   "source": [
    "A Variable is a block of memory that can store  information , data,  and a String is a type of information you would store in a Variable. and string is like a data that can store sequnece of alphabet , charctere ."
   ]
  },
  {
   "cell_type": "markdown",
   "id": "75441a71",
   "metadata": {},
   "source": [
    "# 3. Describe three different data types ?"
   ]
  },
  {
   "cell_type": "markdown",
   "id": "b5f012fd",
   "metadata": {},
   "source": [
    "Ans:- Data types are the classification or categorization of data items. It represents the kind of value that tells what operations can be performed on a particular data. Since everything is an object in Python programming, data types are actually classes and variables are instance (object) of these classes.\n",
    "Following are the standard or built-in data type of Python:\n",
    "•\tNumeric\n",
    "•\tSequence Type\n",
    "•\tBoolean\n",
    "•\tSet\n",
    "•\tDictionary\n"
   ]
  },
  {
   "cell_type": "code",
   "execution_count": 3,
   "id": "9c85d90e",
   "metadata": {},
   "outputs": [
    {
     "name": "stdout",
     "output_type": "stream",
     "text": [
      "Type of a:  <class 'int'>\n",
      "\n",
      "Type of b:  <class 'float'>\n",
      "\n",
      "Type of c:  <class 'complex'>\n"
     ]
    }
   ],
   "source": [
    "a = 5\n",
    "print(\"Type of a: \", type(a))\n",
    "  \n",
    "b = 5.0\n",
    "print(\"\\nType of b: \", type(b))\n",
    "  \n",
    "c = 2 + 4j\n",
    "print(\"\\nType of c: \", type(c))\n"
   ]
  },
  {
   "cell_type": "markdown",
   "id": "8cbfb20d",
   "metadata": {},
   "source": [
    "# 4. What is an expression made up of? What do all expressions do?"
   ]
  },
  {
   "cell_type": "markdown",
   "id": "c7919a4b",
   "metadata": {},
   "source": [
    "An expression is a construct made up of variables, operators, and method invocations, which are constructed according to the syntax of the language, that evaluates to a single value."
   ]
  },
  {
   "cell_type": "markdown",
   "id": "23ce27ca",
   "metadata": {},
   "source": [
    "# 5. This assignment statements, like spam = 10. What is the difference between an expression and a statement?"
   ]
  },
  {
   "cell_type": "markdown",
   "id": "813f8fdd",
   "metadata": {},
   "source": [
    "in this assignment statement , one is variable and second one is assignment operator and third one is integer value.\n",
    "assignment operator helps to assign the value in the variable.\n",
    "statement is like part of program that will be execute with the help of expression or operator."
   ]
  },
  {
   "cell_type": "markdown",
   "id": "8db628bc",
   "metadata": {},
   "source": [
    "\n",
    "# 6. After running the following code, what does the variable bacon contain?"
   ]
  },
  {
   "cell_type": "code",
   "execution_count": 7,
   "id": "b30ac1f7",
   "metadata": {},
   "outputs": [
    {
     "name": "stdout",
     "output_type": "stream",
     "text": [
      "variable would be contained 23\n"
     ]
    }
   ],
   "source": [
    "bacon=22\n",
    "bacon+1\n",
    "print('variable would be contained',bacon+1)"
   ]
  },
  {
   "cell_type": "markdown",
   "id": "42b81ae8",
   "metadata": {},
   "source": [
    "\n",
    "# 7. What should the values of the following two terms be?\n",
    "'spam' + 'spamspam'\n",
    "\n",
    "'spam' * 3\n"
   ]
  },
  {
   "cell_type": "code",
   "execution_count": 15,
   "id": "c87b1192",
   "metadata": {},
   "outputs": [
    {
     "name": "stdout",
     "output_type": "stream",
     "text": [
      "both are would be print same value\n",
      "\n",
      "spamspamspam\n",
      "\n",
      "spamspamspam\n"
     ]
    }
   ],
   "source": [
    "print('both are would be print same value')\n",
    "print(\"\\nspam\"+\"spamspam\")\n",
    "print()\n",
    "print('spam'*3)\n"
   ]
  },
  {
   "cell_type": "markdown",
   "id": "b0c7d3b3",
   "metadata": {},
   "source": [
    "# 8. Why is eggs a valid variable name while 100 is invalid?\n"
   ]
  },
  {
   "cell_type": "markdown",
   "id": "17ce1323",
   "metadata": {},
   "source": [
    "according to the variable declaration rule that first character of  variable  can,t start numeric value, that,s why eggs is valid name of variable and 100 is invalid name of variable"
   ]
  },
  {
   "cell_type": "markdown",
   "id": "6e14b8fa",
   "metadata": {},
   "source": [
    "# 9. What three functions can be used to get the integer, floating-point number, or string version of a value?"
   ]
  },
  {
   "cell_type": "markdown",
   "id": "c125c415",
   "metadata": {},
   "source": [
    "following are three function\n",
    "<ul>\n",
    "<li>int()</li>\n",
    "<li>float()</li>\n",
    "<li>str()</li>\n",
    "</ul>"
   ]
  },
  {
   "cell_type": "markdown",
   "id": "950f9d02",
   "metadata": {},
   "source": [
    "# 10. Why does this expression cause an error? How can you fix it ?\n",
    "# ’I have eaten ‘ + 99 + ‘burritos’\n"
   ]
  },
  {
   "cell_type": "code",
   "execution_count": 21,
   "id": "526f82c0",
   "metadata": {},
   "outputs": [
    {
     "name": "stdout",
     "output_type": "stream",
     "text": [
      "i have eaten 99 burritos\n"
     ]
    }
   ],
   "source": [
    "print('i have eaten'+' 99 '+'burritos')  # we can,t add string by the integer that,s why i am converting this 99 value integer to string"
   ]
  }
 ],
 "metadata": {
  "kernelspec": {
   "display_name": "Python 3",
   "language": "python",
   "name": "python3"
  },
  "language_info": {
   "codemirror_mode": {
    "name": "ipython",
    "version": 3
   },
   "file_extension": ".py",
   "mimetype": "text/x-python",
   "name": "python",
   "nbconvert_exporter": "python",
   "pygments_lexer": "ipython3",
   "version": "3.9.2"
  }
 },
 "nbformat": 4,
 "nbformat_minor": 5
}
