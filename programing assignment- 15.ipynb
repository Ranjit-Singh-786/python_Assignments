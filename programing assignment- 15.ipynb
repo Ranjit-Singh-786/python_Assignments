{
 "cells": [
  {
   "cell_type": "markdown",
   "id": "d87b0c77",
   "metadata": {},
   "source": [
    "# Python Basic Programming Assignment 15"
   ]
  },
  {
   "cell_type": "markdown",
   "id": "366ddafe",
   "metadata": {},
   "source": [
    "### Question 1: \n",
    "Please write a program using generator to print the numbers which can be divisible by 5 and 7 between 0 and n in comma separated form while n is input by console.<br>\n",
    "\n",
    "**Example:**<br>\n",
    "\n",
    "    If the following n is given as input to the program:\n",
    "    100\n",
    "    Then, the output of the program should be:\n",
    "    0,35,70"
   ]
  },
  {
   "cell_type": "code",
   "execution_count": 1,
   "id": "03d61870",
   "metadata": {},
   "outputs": [],
   "source": [
    "def gen_divisor(num):\n",
    "    for i in range(num+1):\n",
    "        if i%5==0 and i%7==0:\n",
    "            yield i\n",
    "            \n",
    "#function for print generator you just need to call generator genrate function      \n",
    "\n",
    "def Divisor_generator_values(num):\n",
    "    list_of_gen = []\n",
    "    for i in gen_divisor(num):\n",
    "        list_of_gen.append(str(i))\n",
    "    print (\",\".join(list_of_gen) )        "
   ]
  },
  {
   "cell_type": "code",
   "execution_count": 2,
   "id": "b81793c5",
   "metadata": {},
   "outputs": [
    {
     "name": "stdout",
     "output_type": "stream",
     "text": [
      "0,35,70\n"
     ]
    }
   ],
   "source": [
    "Divisor_generator_values(100)"
   ]
  },
  {
   "cell_type": "code",
   "execution_count": 3,
   "id": "9f34b8e1",
   "metadata": {},
   "outputs": [
    {
     "name": "stdout",
     "output_type": "stream",
     "text": [
      "0,35,70,105,140,175,210,245\n"
     ]
    }
   ],
   "source": [
    "Divisor_generator_values(250)"
   ]
  },
  {
   "cell_type": "markdown",
   "id": "157edb2d",
   "metadata": {},
   "source": [
    "### Question 2:\n",
    "Please write a program using generator to print the even numbers between 0 and n in comma separated form while n is input by console.<br>\n",
    "\n",
    "**Example:**<br>\n",
    "\n",
    "    If the following n is given as input to the program:\n",
    "    10\n",
    "    Then, the output of the program should be:\n",
    "    0,2,4,6,8,10"
   ]
  },
  {
   "cell_type": "code",
   "execution_count": 4,
   "id": "175694b4",
   "metadata": {},
   "outputs": [],
   "source": [
    "def gen_Even(num):\n",
    "    for i in range(num+1):\n",
    "        if i%2==0 :\n",
    "            yield i\n",
    "            \n",
    "#function for print generator you just need to call generator genrate function \n",
    "\n",
    "def Even_generator_values(num):\n",
    "    list_of_gen = []\n",
    "    for i in gen_Even(num):\n",
    "        list_of_gen.append(str(i))\n",
    "    print (\",\".join(list_of_gen) )"
   ]
  },
  {
   "cell_type": "code",
   "execution_count": 5,
   "id": "f1145ef4",
   "metadata": {},
   "outputs": [
    {
     "name": "stdout",
     "output_type": "stream",
     "text": [
      "0,2,4,6,8,10\n"
     ]
    }
   ],
   "source": [
    "Even_generator_values(10)"
   ]
  },
  {
   "cell_type": "code",
   "execution_count": 6,
   "id": "c4daa787",
   "metadata": {},
   "outputs": [
    {
     "name": "stdout",
     "output_type": "stream",
     "text": [
      "0,2,4,6,8,10,12,14,16,18,20,22,24\n"
     ]
    }
   ],
   "source": [
    "Even_generator_values(25)"
   ]
  },
  {
   "cell_type": "markdown",
   "id": "0c96ccde",
   "metadata": {},
   "source": [
    "### Question 3:\n",
    "The Fibonacci Sequence is computed based on the following formula:<br>\n",
    "\n",
    "    f(n)=0 if n=0\n",
    "    f(n)=1 if n=1\n",
    "    f(n)=f(n-1)+f(n-2) if n&gt;1\n",
    "Please write a program using list comprehension to print the Fibonacci Sequence in comma separated form with a given n input by console.<br>\n",
    "\n",
    "**Example:**<br>\n",
    "\n",
    "    If the following n is given as input to the program:\n",
    "    7\n",
    "\n",
    "    Then, the output of the program should be:\n",
    "    0,1,1,2,3,5,8,13"
   ]
  },
  {
   "cell_type": "code",
   "execution_count": 7,
   "id": "f765ae63",
   "metadata": {},
   "outputs": [
    {
     "name": "stdout",
     "output_type": "stream",
     "text": [
      "Enter the number..8\n",
      "\n",
      "0,1,1,2,3,5,8,13,21\n"
     ]
    }
   ],
   "source": [
    "num=int(input(\"Enter the number..\"))\n",
    "print()\n",
    "\n",
    " # number is 0 or 1 directlt print 0 or 1 no need to go in loop\n",
    "if num==0: \n",
    "    print(0)\n",
    "elif num==1:\n",
    "    print(1)\n",
    "    \n",
    "# if number is greater thn 1 cme into loop     \n",
    "else:\n",
    "     #initized list with 0,1,1 as we knw last_num+ first_num= fibonacci_num\n",
    "    initial_list=[0,1,1] \n",
    "    \n",
    "    # list for print without list and seperated with comma\n",
    "    finial_list=[]\n",
    "    \n",
    "    #logic here with list comprehension start loop with 2 till number and add last_num+ first_num frm iniital list\n",
    "    [initial_list.append(initial_list[-2]+initial_list[-1]) for i in range(2,num)]\n",
    "    \n",
    "    # for print the series\n",
    "    for i in initial_list:\n",
    "        finial_list.append(str(i))\n",
    "        \n",
    "    print(\",\".join(finial_list))    \n",
    "    "
   ]
  },
  {
   "cell_type": "markdown",
   "id": "cb7eb980",
   "metadata": {},
   "source": [
    "### Question 4:\n",
    "Assuming that we have some email addresses in the &quot;username@companyname.com&quot; format,please write program to print the user name of a given email address. Both user names and company names are composed of letters only.<br>\n",
    "\n",
    "**Example:**<br>\n",
    "\n",
    "    If the following email address is given as input to the program:\n",
    "    john@google.com\n",
    "    Then, the output of the program should be:\n",
    "    john"
   ]
  },
  {
   "cell_type": "code",
   "execution_count": 8,
   "id": "39915937",
   "metadata": {},
   "outputs": [],
   "source": [
    "def email_user(email):\n",
    "    return email[0:email.find(\"@\")]\n",
    "    "
   ]
  },
  {
   "cell_type": "code",
   "execution_count": 9,
   "id": "4e3a5033",
   "metadata": {},
   "outputs": [
    {
     "data": {
      "text/plain": [
       "'username'"
      ]
     },
     "execution_count": 9,
     "metadata": {},
     "output_type": "execute_result"
    }
   ],
   "source": [
    "email_user(\"username@companyname.com\")"
   ]
  },
  {
   "cell_type": "code",
   "execution_count": 10,
   "id": "8b3584ee",
   "metadata": {},
   "outputs": [
    {
     "data": {
      "text/plain": [
       "'john'"
      ]
     },
     "execution_count": 10,
     "metadata": {},
     "output_type": "execute_result"
    }
   ],
   "source": [
    "email_user(\"john@google.com\")"
   ]
  },
  {
   "cell_type": "markdown",
   "id": "851a0259",
   "metadata": {},
   "source": [
    "### Question 5:\n",
    "\n",
    "Define a class named Shape and its subclass Square. The Square class has an init function\n",
    "which takes a length as argument. Both classes have a area function which can print the area\n",
    "of the shape where Shape&#39;s area is 0 by default."
   ]
  },
  {
   "cell_type": "code",
   "execution_count": 28,
   "id": "465b418f",
   "metadata": {},
   "outputs": [],
   "source": [
    "class Shape:\n",
    "    def __init__(self):\n",
    "        pass\n",
    "    def area(self):\n",
    "        return 0\n",
    "        \n",
    "class Square(Shape):\n",
    "    def __init__(self,length):\n",
    "        Shape.__init__\n",
    "        self.length=length\n",
    "        \n",
    "    def area(self):\n",
    "        return self.length*self.length\n",
    "    "
   ]
  },
  {
   "cell_type": "code",
   "execution_count": 31,
   "id": "f580bffc",
   "metadata": {},
   "outputs": [
    {
     "name": "stdout",
     "output_type": "stream",
     "text": [
      "Area of Square:  81\n",
      "Area of Shape:  0\n"
     ]
    }
   ],
   "source": [
    "obj_square=Square(9)\n",
    "print(\"Area of Square: \",obj_square.area())\n",
    "\n",
    "obj_shape=Shape()\n",
    "print(\"Area of Shape: \",obj_shape.area())\n"
   ]
  }
 ],
 "metadata": {
  "kernelspec": {
   "display_name": "Python 3 (ipykernel)",
   "language": "python",
   "name": "python3"
  },
  "language_info": {
   "codemirror_mode": {
    "name": "ipython",
    "version": 3
   },
   "file_extension": ".py",
   "mimetype": "text/x-python",
   "name": "python",
   "nbconvert_exporter": "python",
   "pygments_lexer": "ipython3",
   "version": "3.9.7"
  }
 },
 "nbformat": 4,
 "nbformat_minor": 5
}