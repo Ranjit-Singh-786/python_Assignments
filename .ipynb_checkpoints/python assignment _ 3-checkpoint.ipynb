{
 "cells": [
  {
   "cell_type": "markdown",
   "id": "c090c5b4",
   "metadata": {},
   "source": [
    "# 1. Why are functions advantageous to have in your programs?"
   ]
  },
  {
   "cell_type": "markdown",
   "id": "9b36ea31",
   "metadata": {},
   "source": [
    "Advantageous to have function in our programs is :\n",
    "1. It reduce our program coding size.      \n",
    "2. once we create any function we can use that function any place in our program and in many time,So advantage is we need not to write same code that much time.\n",
    "\n",
    "3. Once created function, we can use in another program also by import that .py file where that function created.\n",
    "          Example: In program 1  name it \"program1.py\" where we create a function name \"add()\". than in another program 2 name it \"program2.py\" nd if we again add some no. in that code we need not to write code for adding again we simple \"import program1\" and call add function in program2 by \"program1.add()\"\n",
    "\n",
    "4. Easy to update if we need to update."
   ]
  },
  {
   "cell_type": "markdown",
   "id": "99555bb5",
   "metadata": {},
   "source": [
    "# 2. When does the code in a function run: when it's specified or when it's called?"
   ]
  },
  {
   "cell_type": "markdown",
   "id": "6106c014",
   "metadata": {},
   "source": [
    "The code in a function Run when  we called  that function ,when the function is defined it only means that this function  do this specified work and to do that work we need to called it.\n",
    "\n",
    "Example:"
   ]
  },
  {
   "cell_type": "code",
   "execution_count": 2,
   "id": "73b213f6",
   "metadata": {},
   "outputs": [
    {
     "name": "stdout",
     "output_type": "stream",
     "text": [
      "Enter first no. 2\n",
      "Enter Second no. 5\n",
      "Addition of two no.is 7\n"
     ]
    }
   ],
   "source": [
    "def add(n,m):\n",
    "    return n+m\n",
    "\n",
    "\n",
    "#s1 and s2 take input frm user \n",
    "s1=int(input(\"Enter first no. \"))\n",
    "s2=int(input(\"Enter Second no. \"))\n",
    "\n",
    "\n",
    "# calling function add()\n",
    "s=add(s1,s2)\n",
    "\n",
    "#print the s\n",
    "print(\"Addition of two no.is\",s)"
   ]
  },
  {
   "cell_type": "markdown",
   "id": "916d8ccf",
   "metadata": {},
   "source": [
    "# 3 . What statement creates a function?"
   ]
  },
  {
   "cell_type": "markdown",
   "id": "fce10d5f",
   "metadata": {},
   "source": [
    "\"def\" keyword is used to create a function.So the def statement  defines that  a function is  created.\n",
    "\n",
    "  Syntax:     def function_name(arguments_if_any/otherwise keep it empty):\n",
    "                  #body of the function\n",
    "\n",
    "  Example:"
   ]
  },
  {
   "cell_type": "code",
   "execution_count": 3,
   "id": "658658a1",
   "metadata": {},
   "outputs": [
    {
     "data": {
      "text/plain": [
       "11"
      ]
     },
     "execution_count": 3,
     "metadata": {},
     "output_type": "execute_result"
    }
   ],
   "source": [
    "def multi():\n",
    "    pass\n",
    "\n",
    "\n",
    "# defining the function by def keyword  function name is add which take two parameter one is n and other is m and than return n+m\n",
    "def add(n,m):\n",
    "    return n+m\n",
    "\n",
    "# calling multi function is simply pass as no body in multi(), it is basically use to test the empty function so use pass\n",
    "multi()\n",
    "\n",
    "#calling  add () with parameter value(4,6)\n",
    "add(5,6)"
   ]
  },
  {
   "cell_type": "markdown",
   "id": "5eefd142",
   "metadata": {},
   "source": [
    "# 4. What is the difference between a function and a function call?\n",
    "  A function consists of the def statement and the code is inside the def statement.\n",
    "\n",
    "  A function call is the code used to pass control to a function.\n",
    "  "
   ]
  },
  {
   "cell_type": "code",
   "execution_count": 4,
   "id": "a1e67d92",
   "metadata": {},
   "outputs": [
    {
     "data": {
      "text/plain": [
       "13"
      ]
     },
     "execution_count": 4,
     "metadata": {},
     "output_type": "execute_result"
    }
   ],
   "source": [
    "def add(n,m):\n",
    "    return n+m\n",
    "\n",
    "#calling  add () passing control\n",
    "add(7,6)"
   ]
  },
  {
   "cell_type": "markdown",
   "id": "b8330bab",
   "metadata": {},
   "source": [
    "# 5. How many global scopes are there in a Python program? How many local scopes\n",
    "    There's only one global Python scope per program execution. This scope remains in existence until the program.\n",
    "    local scope is created whenever a function is called.\n",
    "\n",
    "    Example"
   ]
  },
  {
   "cell_type": "code",
   "execution_count": 5,
   "id": "d703cb9e",
   "metadata": {},
   "outputs": [
    {
     "name": "stdout",
     "output_type": "stream",
     "text": [
      "Printing global varible outside function is  10\n",
      "\n",
      "After multiple global varible with 2 outside function  20\n",
      "\n",
      "Printing global varible inside function is  20\n",
      "\n",
      "After multiple global varible with 2 inside function 40\n",
      "\n",
      "Printing local varibl is  pooja\n",
      "\n",
      "After multiple local varible with 2 poojapooja\n",
      "\n",
      "Printing varible after function caliing is  poojapooja\n",
      "\n"
     ]
    }
   ],
   "source": [
    "#declare global varible\n",
    "\n",
    "var=10\n",
    "\n",
    "#defining a function name fun() \n",
    "def fun():\n",
    "    # var is a local variable here if we user var directly it will raise UnboundLocalError \n",
    "    # so for using global varible we use \"global\" keyword with var\n",
    "    \n",
    "    global var \n",
    "    \n",
    "    # printing gobal var inside function and multiple with 2\n",
    "    print(\"Printing global varible inside function is \",var,end='\\n'*2)\n",
    "    \n",
    "    var=var*2   # modify globle varible inside function \n",
    "    print(\"After multiple global varible with 2 inside function\", var,end='\\n'*2)\n",
    "        \n",
    "  \n",
    "    \n",
    "    #declare local varible with  same name \"var\"\n",
    "    var=\"pooja\"\n",
    "    print(\"Printing local varibl is \", var,end='\\n'*2)\n",
    "    \n",
    "    var=var*2   #  modifying local varible \n",
    "    print(\"After multiple local varible with 2\", var,end='\\n'*2)\n",
    "    \n",
    "# printing global var outside function and multiple with 2\n",
    "print(\"Printing global varible outside function is \",var,end='\\n'*2)\n",
    " # modify globle varible outside function change   varible inside funcition  also\n",
    "var=var*2    \n",
    "print(\"After multiple global varible with 2 outside function \",var,end='\\n'*2)\n",
    "#time to call function\n",
    "fun()\n",
    "print(\"Printing varible after function caliing is \",var,end='\\n'*2) #var of local"
   ]
  },
  {
   "cell_type": "markdown",
   "id": "17eccb7e",
   "metadata": {},
   "source": [
    "# 6. What happens to variables in a local scope when the function call returns?\n",
    " When a function returns the local scope is destroyed, and all the variables in it are forgotten.\n",
    "\n",
    " Example:"
   ]
  },
  {
   "cell_type": "code",
   "execution_count": 6,
   "id": "8957e4ce",
   "metadata": {},
   "outputs": [
    {
     "name": "stdout",
     "output_type": "stream",
     "text": [
      "Value of 'a' when function calling is 50\n",
      "Value of 'a' when function not called is Pooja\n"
     ]
    }
   ],
   "source": [
    "a=\"Pooja\"\n",
    "\n",
    "#function declaretion and return value of varible  , varible assign with in a function (local varible)\n",
    "def fun():\n",
    "    a=50\n",
    "    return a\n",
    "\n",
    "#function calling\n",
    "print(\"Value of 'a' when function calling is\", fun())\n",
    "\n",
    "print(\"Value of 'a' when function not called is\",a)"
   ]
  },
  {
   "cell_type": "markdown",
   "id": "2411c0bd",
   "metadata": {},
   "source": [
    "# 7. What is the concept of a return value? Is it possible to have a return value in an expression?\n",
    "  Return is a special statement use inside a function or method to send the function's result back to the caller.\n",
    "  Yes, it is possible to have a return value in an expression\n",
    "\n",
    "  Example"
   ]
  },
  {
   "cell_type": "code",
   "execution_count": 7,
   "id": "72fc8ea9",
   "metadata": {},
   "outputs": [
    {
     "name": "stdout",
     "output_type": "stream",
     "text": [
      "66\n"
     ]
    }
   ],
   "source": [
    "#declaring function add()\n",
    "def add(a,b):\n",
    "    return a+b\n",
    "\n",
    "# calling function\n",
    "print(add(10,56))"
   ]
  },
  {
   "cell_type": "markdown",
   "id": "49c4ca10",
   "metadata": {},
   "source": [
    "# 8. If a function does not have a return statement, what is the return value of a call to that function?\n",
    "     If a function does not have a return statement than  the return value of a call to that function is None.Function can exit without a return statement.\n",
    "\n",
    "     Example:"
   ]
  },
  {
   "cell_type": "code",
   "execution_count": 8,
   "id": "f727becf",
   "metadata": {},
   "outputs": [
    {
     "name": "stdout",
     "output_type": "stream",
     "text": [
      "None\n"
     ]
    }
   ],
   "source": [
    "#declaring function add()\n",
    "def add(a,b):\n",
    "    a+b  # return None\n",
    "\n",
    "# calling function\n",
    "print(add(10,56))"
   ]
  },
  {
   "cell_type": "markdown",
   "id": "e216f9c7",
   "metadata": {},
   "source": [
    "# 9. How do you make a function variable refer to the global variable?\n",
    "    By using \"global\" keyward we can make a function refer to the global varible.\n",
    "\n",
    "    Example:"
   ]
  },
  {
   "cell_type": "code",
   "execution_count": 9,
   "id": "6c30ff5f",
   "metadata": {},
   "outputs": [
    {
     "name": "stdout",
     "output_type": "stream",
     "text": [
      "Printing global varible inside function is  10\n"
     ]
    }
   ],
   "source": [
    "#declare global varible\n",
    "\n",
    "var=10\n",
    "\n",
    "#defining a function name fun() \n",
    "def fun():\n",
    "    # var is a local variable here if we user var directly it will raise UnboundLocalError \n",
    "    # so for refering global varible we use \"global\" keyword with var\n",
    "    \n",
    "    global var \n",
    "    \n",
    "    # printing gobal var inside function and multiple with 2\n",
    "    print(\"Printing global varible inside function is \",var)\n",
    "   \n",
    " #calling function\n",
    "fun()"
   ]
  },
  {
   "cell_type": "markdown",
   "id": "c3844388",
   "metadata": {},
   "source": [
    "# 10.What is the data type of None?\n",
    "Data type of 'None' is 'NoneType'\n",
    "\n",
    "Example\n"
   ]
  },
  {
   "cell_type": "code",
   "execution_count": 10,
   "id": "357534b4",
   "metadata": {},
   "outputs": [
    {
     "name": "stdout",
     "output_type": "stream",
     "text": [
      "<class 'NoneType'>\n"
     ]
    }
   ],
   "source": [
    "a=None\n",
    "print(type(a))"
   ]
  },
  {
   "cell_type": "markdown",
   "id": "09cee645",
   "metadata": {},
   "source": [
    "# 11. What does the sentence import areallyourpetsnamederic do?\n",
    " The sentence import areallyourpetsnamederic imports module name \"areallyourpetsnamederic\".This is not real python modula."
   ]
  },
  {
   "cell_type": "code",
   "execution_count": 11,
   "id": "82ef26ed",
   "metadata": {},
   "outputs": [
    {
     "ename": "ModuleNotFoundError",
     "evalue": "No module named 'areallyourpetsnamederic'",
     "output_type": "error",
     "traceback": [
      "\u001b[1;31m---------------------------------------------------------------------------\u001b[0m",
      "\u001b[1;31mModuleNotFoundError\u001b[0m                       Traceback (most recent call last)",
      "Input \u001b[1;32mIn [11]\u001b[0m, in \u001b[0;36m<cell line: 1>\u001b[1;34m()\u001b[0m\n\u001b[1;32m----> 1\u001b[0m \u001b[38;5;28;01mimport\u001b[39;00m \u001b[38;5;21;01mareallyourpetsnamederic\u001b[39;00m\n",
      "\u001b[1;31mModuleNotFoundError\u001b[0m: No module named 'areallyourpetsnamederic'"
     ]
    }
   ],
   "source": [
    "import areallyourpetsnamederic"
   ]
  },
  {
   "cell_type": "markdown",
   "id": "d0d4dd79",
   "metadata": {},
   "source": [
    "# 12. If you had a bacon() feature in a spam module, what would you call it after importing spam?\n",
    "  The function bacon() calling after import spam is \"spam.bacon()\"\n",
    "\n",
    "  Syntax: <Modula_name>.<class_name>.<function_name()>"
   ]
  },
  {
   "cell_type": "markdown",
   "id": "a808e56c",
   "metadata": {},
   "source": [
    "# 13. What can you do to save a programme from crashing if it encounters an error?\n",
    "    To save a programme from crashing if it encounters an error ,I simplily put that line of codes in 'try' clause"
   ]
  },
  {
   "cell_type": "markdown",
   "id": "3d8280e9",
   "metadata": {},
   "source": [
    "# 14. What is the purpose of the try clause? What is the purpose of the except clause?\n",
    "The purpose of the try clause is putting the codes insie  that may cause error .\n",
    "The purpose of the except clause is  it execute only if error cause in try clause.\n",
    "\n",
    "Example"
   ]
  },
  {
   "cell_type": "code",
   "execution_count": 12,
   "id": "77702d33",
   "metadata": {},
   "outputs": [
    {
     "name": "stdout",
     "output_type": "stream",
     "text": [
      "Enter first value 2\n",
      "Enter first value 0\n",
      "You are trying to division by zero, Please again without zero as denominator\n",
      "None\n"
     ]
    }
   ],
   "source": [
    "def div(n,d):\n",
    "    try:\n",
    "        result=n/d\n",
    "        return result\n",
    "    except ZeroDivisionError :\n",
    "        print(\"You are trying to division by zero, Please again without zero as denominator\")\n",
    "        \n",
    "    \n",
    "n=int(input(\"Enter first value \"))\n",
    "d=int(input(\"Enter first value \"))\n",
    "\n",
    "print(div(n,d))"
   ]
  }
 ],
 "metadata": {
  "kernelspec": {
   "display_name": "Python 3 (ipykernel)",
   "language": "python",
   "name": "python3"
  },
  "language_info": {
   "codemirror_mode": {
    "name": "ipython",
    "version": 3
   },
   "file_extension": ".py",
   "mimetype": "text/x-python",
   "name": "python",
   "nbconvert_exporter": "python",
   "pygments_lexer": "ipython3",
   "version": "3.10.4"
  }
 },
 "nbformat": 4,
 "nbformat_minor": 5
}
