{
 "cells": [
  {
   "cell_type": "markdown",
   "id": "31eb5029",
   "metadata": {},
   "source": [
    "# 1. To what does a relative path refer?"
   ]
  },
  {
   "cell_type": "markdown",
   "id": "8107a344",
   "metadata": {},
   "source": [
    "in the python programing language, <br>\n",
    "there are two types of path<br>\n",
    "1. relative path<br>\n",
    "2. absolute path<br>\n",
    "relative path refer to a our path that we has assigned in the python.<br>\n",
    "absolute path in python is that path in which python and standard library are installed."
   ]
  },
  {
   "cell_type": "markdown",
   "id": "5498db3b",
   "metadata": {},
   "source": [
    "# 2. What does an absolute path start with your operating system?"
   ]
  },
  {
   "cell_type": "markdown",
   "id": "e7e44073",
   "metadata": {},
   "source": [
    "whenenver start the PC. first it will load the operating sytem. after loaded the operating system<br>\n",
    "operating sytem load all the program that has installed in the operating system,<br>\n",
    "absolute path is helps to operating system that , this is specific path for the specific program.<br>\n",
    "operating system know all the absolute path of all programs which are installed in the system,<br>\n",
    "for example i don,t know where is my python installed but operating system know very well.<br>\n",
    "whenever i will execute any program in the python , then operating system will be load all requirements library.<br>\n",
    "from the absolute path of my python."
   ]
  },
  {
   "cell_type": "code",
   "execution_count": 10,
   "id": "2be3d43d",
   "metadata": {},
   "outputs": [
    {
     "name": "stdout",
     "output_type": "stream",
     "text": [
      "this is my absolute path of python :-- \n",
      "\n",
      " C:\\Users\\Dell\\AppData\\Local\\Programs\\Python\\Python39\\Scripts\\ \n"
     ]
    }
   ],
   "source": [
    "print(f\"this is my absolute path of python :-- \\n\\n {os.get_exec_path()[0]} \")"
   ]
  },
  {
   "cell_type": "markdown",
   "id": "a934e174",
   "metadata": {},
   "source": [
    "# 3. What do the functions os.getcwd() and os.chdir() do?"
   ]
  },
  {
   "cell_type": "code",
   "execution_count": 11,
   "id": "065fd63e",
   "metadata": {},
   "outputs": [],
   "source": [
    "import os        # importing os moduel from the python library"
   ]
  },
  {
   "cell_type": "code",
   "execution_count": 13,
   "id": "799b04ce",
   "metadata": {},
   "outputs": [
    {
     "data": {
      "text/plain": [
       "'A:\\\\iNeuron\\\\Python assignment'"
      ]
     },
     "execution_count": 13,
     "metadata": {},
     "output_type": "execute_result"
    }
   ],
   "source": [
    "os.getcwd()\n",
    "\n",
    "# getcwd()  :----   \"get current working directory\"\n",
    "# it will return my path of current of current working directory"
   ]
  },
  {
   "cell_type": "code",
   "execution_count": 15,
   "id": "45320903",
   "metadata": {},
   "outputs": [],
   "source": [
    "os.chdir()\n",
    "\n",
    "# chdir()     :---   \"change current working directory\"\n",
    "# if you want to change your current working directory then you can use it function."
   ]
  },
  {
   "cell_type": "code",
   "execution_count": 19,
   "id": "1bceaaff",
   "metadata": {},
   "outputs": [
    {
     "data": {
      "text/plain": [
       "'A:\\\\iNeuron'"
      ]
     },
     "execution_count": 19,
     "metadata": {},
     "output_type": "execute_result"
    }
   ],
   "source": [
    "os.chdir(r'A:\\\\iNeuron\\\\')\n",
    "os.getcwd()\n",
    "# as you can see i has changed my current working directory."
   ]
  },
  {
   "cell_type": "code",
   "execution_count": 23,
   "id": "d5224140",
   "metadata": {},
   "outputs": [
    {
     "data": {
      "text/plain": [
       "'A:\\\\iNeuron\\\\Python assignment'"
      ]
     },
     "execution_count": 23,
     "metadata": {},
     "output_type": "execute_result"
    }
   ],
   "source": [
    "os.chdir(r'A:\\\\iNeuron\\\\Python assignment')\n",
    "os.getcwd()\n",
    "# and now , i came back in my current working directory"
   ]
  },
  {
   "cell_type": "markdown",
   "id": "c28c91f2",
   "metadata": {},
   "source": [
    "# 4. What are the . and .. folders?"
   ]
  },
  {
   "cell_type": "markdown",
   "id": "39b8711b",
   "metadata": {},
   "source": [
    "# 5. In C:\\bacon\\eggs\\spam.txt, which part is the dir name, and which part is the base name?"
   ]
  },
  {
   "cell_type": "markdown",
   "id": "3def4d36",
   "metadata": {},
   "source": [
    "C:\\bacon\\eggs\\         ----->    these are directory it means, it is directory part<br>\n",
    "spam.txt               ----->    this is base name. like file in the directories."
   ]
  },
  {
   "cell_type": "markdown",
   "id": "444206c1",
   "metadata": {},
   "source": [
    "# 6. What are the three “mode” arguments that can be passed to the open() function?"
   ]
  },
  {
   "cell_type": "markdown",
   "id": "25f4e191",
   "metadata": {},
   "source": [
    "in the python programing language, there is open() function that can open any file from any location and<br>\n",
    "if file not exits at specific location then some mode in this function can create the new file and open it.<br>\n",
    "there are three commonly used mode in this function following are :<br>\n",
    "first one is ---->   read mode<br>\n",
    "second one is --->   write mode<br>\n",
    "and third     ---->  append mode"
   ]
  },
  {
   "cell_type": "code",
   "execution_count": 31,
   "id": "5d353915",
   "metadata": {},
   "outputs": [
    {
     "data": {
      "text/plain": [
       "['.git',\n",
       " '.ipynb_checkpoints',\n",
       " 'python assignment - 5.ipynb',\n",
       " 'python assignment - 8.ipynb',\n",
       " 'Python assignment assignment 4.ipynb',\n",
       " 'python assignment-1.ipynb',\n",
       " 'python assignment-2.ipynb',\n",
       " 'python assignment-6.ipynb',\n",
       " 'Untitled.ipynb']"
      ]
     },
     "execution_count": 31,
     "metadata": {},
     "output_type": "execute_result"
    }
   ],
   "source": [
    "os.listdir()"
   ]
  },
  {
   "cell_type": "code",
   "execution_count": 32,
   "id": "5c0ebb68",
   "metadata": {},
   "outputs": [
    {
     "data": {
      "text/plain": [
       "'A:\\\\iNeuron\\\\Python assignment'"
      ]
     },
     "execution_count": 32,
     "metadata": {},
     "output_type": "execute_result"
    }
   ],
   "source": [
    "os.getcwd()"
   ]
  },
  {
   "cell_type": "markdown",
   "id": "904567a9",
   "metadata": {},
   "source": [
    "# 7. What happens if an existing file is opened in write mode?"
   ]
  },
  {
   "cell_type": "markdown",
   "id": "83207fc6",
   "metadata": {},
   "source": [
    "whenever file will be created by the write mode, then if we want to insert a new data in file.<br>\n",
    "then our old data will be los because new data would be overwrite the old data."
   ]
  },
  {
   "cell_type": "code",
   "execution_count": 33,
   "id": "42406297",
   "metadata": {},
   "outputs": [
    {
     "data": {
      "text/plain": [
       "<_io.TextIOWrapper name='A:\\\\iNeuron\\\\Python assignment\\\\ineuron.txt' mode='w' encoding='cp1252'>"
      ]
     },
     "execution_count": 33,
     "metadata": {},
     "output_type": "execute_result"
    }
   ],
   "source": [
    "open('A:\\\\iNeuron\\\\Python assignment\\\\ineuron.txt','w')"
   ]
  },
  {
   "cell_type": "code",
   "execution_count": 43,
   "id": "0df87449",
   "metadata": {},
   "outputs": [
    {
     "name": "stdout",
     "output_type": "stream",
     "text": [
      "file has been created\n"
     ]
    }
   ],
   "source": [
    "if 'ineuron.txt' in os.listdir() :\n",
    "    print('file has been created')\n",
    "# this is simple exam program on the open function.  "
   ]
  },
  {
   "cell_type": "code",
   "execution_count": 41,
   "id": "ff02081a",
   "metadata": {},
   "outputs": [
    {
     "data": {
      "text/plain": [
       "'ineuron.txt'"
      ]
     },
     "execution_count": 41,
     "metadata": {},
     "output_type": "execute_result"
    }
   ],
   "source": [
    "os.listdir()[2]\n",
    "# as you can see i has created a file in write mode"
   ]
  },
  {
   "cell_type": "code",
   "execution_count": 56,
   "id": "3bdb9481",
   "metadata": {},
   "outputs": [
    {
     "ename": "PermissionError",
     "evalue": "[WinError 32] The process cannot access the file because it is being used by another process: 'A:\\\\iNeuron\\\\Python assignment\\\\ineuron.txt'",
     "output_type": "error",
     "traceback": [
      "\u001b[1;31m---------------------------------------------------------------------------\u001b[0m",
      "\u001b[1;31mPermissionError\u001b[0m                           Traceback (most recent call last)",
      "Input \u001b[1;32mIn [56]\u001b[0m, in \u001b[0;36m<cell line: 1>\u001b[1;34m()\u001b[0m\n\u001b[0;32m      1\u001b[0m \u001b[38;5;28;01mif\u001b[39;00m os\u001b[38;5;241m.\u001b[39mpath\u001b[38;5;241m.\u001b[39mexists(\u001b[38;5;124m'\u001b[39m\u001b[38;5;124mineuron.txt\u001b[39m\u001b[38;5;124m'\u001b[39m):\n\u001b[1;32m----> 2\u001b[0m         \u001b[43mos\u001b[49m\u001b[38;5;241;43m.\u001b[39;49m\u001b[43mremove\u001b[49m\u001b[43m(\u001b[49m\u001b[38;5;124;43m'\u001b[39;49m\u001b[38;5;124;43mA:\u001b[39;49m\u001b[38;5;130;43;01m\\\\\u001b[39;49;00m\u001b[38;5;124;43miNeuron\u001b[39;49m\u001b[38;5;130;43;01m\\\\\u001b[39;49;00m\u001b[38;5;124;43mPython assignment\u001b[39;49m\u001b[38;5;130;43;01m\\\\\u001b[39;49;00m\u001b[38;5;124;43mineuron.txt\u001b[39;49m\u001b[38;5;124;43m'\u001b[39;49m\u001b[43m)\u001b[49m\n\u001b[0;32m      3\u001b[0m         \u001b[38;5;28mprint\u001b[39m(\u001b[38;5;124m'\u001b[39m\u001b[38;5;124mfile has been deleted\u001b[39m\u001b[38;5;124m'\u001b[39m)\n",
      "\u001b[1;31mPermissionError\u001b[0m: [WinError 32] The process cannot access the file because it is being used by another process: 'A:\\\\iNeuron\\\\Python assignment\\\\ineuron.txt'"
     ]
    }
   ],
   "source": [
    "if os.path.exists('ineuron.txt'):\n",
    "        os.remove('A:\\\\iNeuron\\\\Python assignment\\\\ineuron.txt')\n",
    "        print('file has been deleted')"
   ]
  },
  {
   "cell_type": "code",
   "execution_count": 57,
   "id": "3e73f5a8",
   "metadata": {},
   "outputs": [
    {
     "name": "stdout",
     "output_type": "stream",
     "text": [
      "this file is using in another function.\n"
     ]
    }
   ],
   "source": [
    "try:\n",
    "    if os.path.exists('ineuron.txt'):\n",
    "        os.remove('A:\\\\iNeuron\\\\Python assignment\\\\ineuron.txt')\n",
    "        print('file has been deleted')\n",
    "except:\n",
    "    print('this file is using in another function.')\n",
    "# i reduced my error "
   ]
  },
  {
   "cell_type": "markdown",
   "id": "4c277286",
   "metadata": {},
   "source": [
    "# 8. How do you tell the difference between read() and readlines()?"
   ]
  },
  {
   "cell_type": "code",
   "execution_count": 79,
   "id": "1076c03e",
   "metadata": {},
   "outputs": [],
   "source": [
    "obj=open('A:\\\\iNeuron\\\\Python assignment\\\\ineuron.txt','w')"
   ]
  },
  {
   "cell_type": "code",
   "execution_count": 80,
   "id": "fa842021",
   "metadata": {},
   "outputs": [
    {
     "data": {
      "text/plain": [
       "124"
      ]
     },
     "execution_count": 80,
     "metadata": {},
     "output_type": "execute_result"
    }
   ],
   "source": [
    "string=\"\"\"\" ineuron is best institution\n",
    "for the coding data sciences purpose\n",
    "i am learning full stack data sciences program by ineuron\"\"\"\n",
    "obj.write(string)"
   ]
  },
  {
   "cell_type": "code",
   "execution_count": 81,
   "id": "84659a08",
   "metadata": {},
   "outputs": [],
   "source": [
    "obj=open('A:\\\\iNeuron\\\\Python assignment\\\\ineuron.txt')"
   ]
  },
  {
   "cell_type": "code",
   "execution_count": 76,
   "id": "7233849f",
   "metadata": {},
   "outputs": [
    {
     "data": {
      "text/plain": [
       "['\" ineuron is best institution\\n',\n",
       " 'for the coding data sciences purpose\\n',\n",
       " 'i am learning full stack data sciences program by ineuron']"
      ]
     },
     "execution_count": 76,
     "metadata": {},
     "output_type": "execute_result"
    }
   ],
   "source": [
    "obj.readlines()\n",
    "# it will  return a list, and inside a list, if in your file 3 lines then it will  it return\n",
    "# three lines element in the list"
   ]
  },
  {
   "cell_type": "code",
   "execution_count": 68,
   "id": "8e0ccc1f",
   "metadata": {},
   "outputs": [
    {
     "data": {
      "text/plain": [
       "list"
      ]
     },
     "execution_count": 68,
     "metadata": {},
     "output_type": "execute_result"
    }
   ],
   "source": [
    "type(obj.readlines())\n"
   ]
  },
  {
   "cell_type": "code",
   "execution_count": 82,
   "id": "ec048866",
   "metadata": {},
   "outputs": [
    {
     "data": {
      "text/plain": [
       "'\" ineuron is best institution\\nfor the coding data sciences purpose\\ni am learning full stack data sciences program by ineuron'"
      ]
     },
     "execution_count": 82,
     "metadata": {},
     "output_type": "execute_result"
    }
   ],
   "source": [
    "obj.read()\n",
    "# it will read all data from the file"
   ]
  },
  {
   "cell_type": "markdown",
   "id": "875a8650",
   "metadata": {},
   "source": [
    "# 9. What data structure does a shelf value resemble?"
   ]
  },
  {
   "cell_type": "markdown",
   "id": "77db2399",
   "metadata": {},
   "source": [
    " A shelf value resembles a dictionary value; it has keys and values, along with keys() and values() methods that work similarly to the dictionary methods of the same names."
   ]
  }
 ],
 "metadata": {
  "kernelspec": {
   "display_name": "Python 3 (ipykernel)",
   "language": "python",
   "name": "python3"
  },
  "language_info": {
   "codemirror_mode": {
    "name": "ipython",
    "version": 3
   },
   "file_extension": ".py",
   "mimetype": "text/x-python",
   "name": "python",
   "nbconvert_exporter": "python",
   "pygments_lexer": "ipython3",
   "version": "3.10.4"
  }
 },
 "nbformat": 4,
 "nbformat_minor": 5
}
