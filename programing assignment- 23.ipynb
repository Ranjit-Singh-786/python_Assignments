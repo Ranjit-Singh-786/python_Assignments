{
 "cells": [
  {
   "cell_type": "markdown",
   "id": "1ae9c138",
   "metadata": {},
   "source": [
    "# Python Basic Programming Assignment 23"
   ]
  },
  {
   "cell_type": "markdown",
   "id": "25396257",
   "metadata": {},
   "source": [
    "### Question 1\n",
    "\n",
    "Create a function that takes a number as an argument and returns True or False depending\n",
    "on whether the number is symmetrical or not. A number is symmetrical when it is the same as\n",
    "its reverse.<br>\n",
    "\n",
    "**Examples**<br>\n",
    "\n",
    "is_symmetrical(7227) ➞ True<br>\n",
    "is_symmetrical(12567) ➞ False<br>\n",
    "is_symmetrical(44444444) ➞ True<br>\n",
    "is_symmetrical(9939) ➞ False<br>\n",
    "is_symmetrical(1112111) ➞ True"
   ]
  },
  {
   "cell_type": "code",
   "execution_count": 1,
   "id": "f74a67db",
   "metadata": {},
   "outputs": [],
   "source": [
    "def is_symmetrical(num):\n",
    "    \n",
    "        \n",
    "    str_num=str(num)\n",
    "    \n",
    "    full_length=len(str_num)\n",
    "    mid_length=full_length//2\n",
    "    \n",
    "    for i in range(mid_length):\n",
    "        \n",
    "        if  str_num[i] !=str_num[full_length-i-1] :\n",
    "            return False\n",
    "    return True\n",
    "        "
   ]
  },
  {
   "cell_type": "code",
   "execution_count": 2,
   "id": "160548e1",
   "metadata": {},
   "outputs": [
    {
     "data": {
      "text/plain": [
       "True"
      ]
     },
     "execution_count": 2,
     "metadata": {},
     "output_type": "execute_result"
    }
   ],
   "source": [
    "is_symmetrical(7227)"
   ]
  },
  {
   "cell_type": "code",
   "execution_count": 3,
   "id": "d592373c",
   "metadata": {},
   "outputs": [
    {
     "data": {
      "text/plain": [
       "False"
      ]
     },
     "execution_count": 3,
     "metadata": {},
     "output_type": "execute_result"
    }
   ],
   "source": [
    "is_symmetrical(12567)"
   ]
  },
  {
   "cell_type": "code",
   "execution_count": 4,
   "id": "9386ff3a",
   "metadata": {},
   "outputs": [
    {
     "data": {
      "text/plain": [
       "True"
      ]
     },
     "execution_count": 4,
     "metadata": {},
     "output_type": "execute_result"
    }
   ],
   "source": [
    "is_symmetrical(44444444)"
   ]
  },
  {
   "cell_type": "code",
   "execution_count": 5,
   "id": "594097d3",
   "metadata": {},
   "outputs": [
    {
     "data": {
      "text/plain": [
       "False"
      ]
     },
     "execution_count": 5,
     "metadata": {},
     "output_type": "execute_result"
    }
   ],
   "source": [
    "is_symmetrical(9939)"
   ]
  },
  {
   "cell_type": "code",
   "execution_count": 6,
   "id": "f79d02e5",
   "metadata": {},
   "outputs": [
    {
     "data": {
      "text/plain": [
       "True"
      ]
     },
     "execution_count": 6,
     "metadata": {},
     "output_type": "execute_result"
    }
   ],
   "source": [
    "is_symmetrical(1112111)"
   ]
  },
  {
   "cell_type": "markdown",
   "id": "8f40b58b",
   "metadata": {},
   "source": [
    "### Question 2\n",
    "Given a string of numbers separated by a comma and space, return the product of the\n",
    "numbers.<br>\n",
    "\n",
    "**Examples**<br>\n",
    "multiply_nums(&quot;2, 3&quot;) ➞ 6<br>\n",
    "multiply_nums(&quot;1, 2, 3, 4&quot;) ➞ 24<br>\n",
    "multiply_nums(&quot;54, 75, 453, 0&quot;) ➞ 0<br>\n",
    "multiply_nums(&quot;10, -2&quot;) ➞ -20<br>"
   ]
  },
  {
   "cell_type": "code",
   "execution_count": 7,
   "id": "3ad96a37",
   "metadata": {},
   "outputs": [],
   "source": [
    "def multiply_nums(string):\n",
    "    mul=1\n",
    "    for i in string.split(\",\"):\n",
    "        mul = mul * int(i.strip())\n",
    "    return mul   \n",
    "\n"
   ]
  },
  {
   "cell_type": "code",
   "execution_count": 8,
   "id": "d628ee95",
   "metadata": {},
   "outputs": [
    {
     "data": {
      "text/plain": [
       "6"
      ]
     },
     "execution_count": 8,
     "metadata": {},
     "output_type": "execute_result"
    }
   ],
   "source": [
    "multiply_nums(\"2, 3\")"
   ]
  },
  {
   "cell_type": "code",
   "execution_count": 9,
   "id": "fcf4e510",
   "metadata": {},
   "outputs": [
    {
     "data": {
      "text/plain": [
       "24"
      ]
     },
     "execution_count": 9,
     "metadata": {},
     "output_type": "execute_result"
    }
   ],
   "source": [
    "multiply_nums(\"1, 2, 3, 4\")"
   ]
  },
  {
   "cell_type": "code",
   "execution_count": 10,
   "id": "ffbc6687",
   "metadata": {},
   "outputs": [
    {
     "data": {
      "text/plain": [
       "0"
      ]
     },
     "execution_count": 10,
     "metadata": {},
     "output_type": "execute_result"
    }
   ],
   "source": [
    "multiply_nums(\"54, 75, 453, 0\")"
   ]
  },
  {
   "cell_type": "code",
   "execution_count": 11,
   "id": "5dabd4cc",
   "metadata": {},
   "outputs": [
    {
     "data": {
      "text/plain": [
       "-20"
      ]
     },
     "execution_count": 11,
     "metadata": {},
     "output_type": "execute_result"
    }
   ],
   "source": [
    "multiply_nums(\"10, -2\")"
   ]
  },
  {
   "cell_type": "markdown",
   "id": "909f4edc",
   "metadata": {},
   "source": [
    "### Question 3\n",
    "Create a function that squares every digit of a number.<br>\n",
    "**Examples**<br>\n",
    "square_digits(9119) ➞ 811181<br>\n",
    "square_digits(2483) ➞ 416649<br>\n",
    "square_digits(3212) ➞ 9414<br>\n",
    "**Notes**<br>\n",
    "The function receives an integer and must return an integer."
   ]
  },
  {
   "cell_type": "code",
   "execution_count": 12,
   "id": "9b6c5a0d",
   "metadata": {},
   "outputs": [],
   "source": [
    "def square_digits(num):\n",
    "    squ=\"\"\n",
    "    for i in str(num):\n",
    "        s=int(i)*int(i)\n",
    "        squ=squ+str(s)\n",
    "    return int(squ)    "
   ]
  },
  {
   "cell_type": "code",
   "execution_count": 13,
   "id": "93121ee6",
   "metadata": {},
   "outputs": [
    {
     "data": {
      "text/plain": [
       "811181"
      ]
     },
     "execution_count": 13,
     "metadata": {},
     "output_type": "execute_result"
    }
   ],
   "source": [
    "square_digits(9119)"
   ]
  },
  {
   "cell_type": "code",
   "execution_count": 14,
   "id": "1764b29e",
   "metadata": {},
   "outputs": [
    {
     "data": {
      "text/plain": [
       "416649"
      ]
     },
     "execution_count": 14,
     "metadata": {},
     "output_type": "execute_result"
    }
   ],
   "source": [
    "square_digits(2483)"
   ]
  },
  {
   "cell_type": "code",
   "execution_count": 15,
   "id": "3d6da0d0",
   "metadata": {},
   "outputs": [
    {
     "data": {
      "text/plain": [
       "9414"
      ]
     },
     "execution_count": 15,
     "metadata": {},
     "output_type": "execute_result"
    }
   ],
   "source": [
    "square_digits(3212) "
   ]
  },
  {
   "cell_type": "markdown",
   "id": "b56e02fb",
   "metadata": {},
   "source": [
    "### Question 4\n",
    "Create a function that sorts a list and removes all duplicate items from it.<br>\n",
    "\n",
    "**Examples**<br>\n",
    "setify([1, 3, 3, 5, 5]) ➞ [1, 3, 5]<br>\n",
    "setify([4, 4, 4, 4]) ➞ [4]<br>\n",
    "setify([5, 7, 8, 9, 10, 15]) ➞ [5, 7, 8, 9, 10, 15]<br>\n",
    "setify([3, 3, 3, 2, 1]) ➞ [1, 2, 3]"
   ]
  },
  {
   "cell_type": "code",
   "execution_count": 16,
   "id": "fcba5c84",
   "metadata": {},
   "outputs": [],
   "source": [
    "def setify(lst):\n",
    "    return list(set(lst))"
   ]
  },
  {
   "cell_type": "code",
   "execution_count": 17,
   "id": "c02ac2e4",
   "metadata": {},
   "outputs": [
    {
     "data": {
      "text/plain": [
       "[1, 3, 5]"
      ]
     },
     "execution_count": 17,
     "metadata": {},
     "output_type": "execute_result"
    }
   ],
   "source": [
    "setify([1, 3, 3, 5, 5])"
   ]
  },
  {
   "cell_type": "code",
   "execution_count": 18,
   "id": "4ec5c8e2",
   "metadata": {},
   "outputs": [
    {
     "data": {
      "text/plain": [
       "[4]"
      ]
     },
     "execution_count": 18,
     "metadata": {},
     "output_type": "execute_result"
    }
   ],
   "source": [
    "setify([4, 4, 4, 4])"
   ]
  },
  {
   "cell_type": "code",
   "execution_count": 19,
   "id": "1cce716c",
   "metadata": {},
   "outputs": [
    {
     "data": {
      "text/plain": [
       "[5, 7, 8, 9, 10, 15]"
      ]
     },
     "execution_count": 19,
     "metadata": {},
     "output_type": "execute_result"
    }
   ],
   "source": [
    "setify([5, 7, 8, 9, 10, 15]) "
   ]
  },
  {
   "cell_type": "code",
   "execution_count": 20,
   "id": "228a7dd8",
   "metadata": {},
   "outputs": [
    {
     "data": {
      "text/plain": [
       "[1, 2, 3]"
      ]
     },
     "execution_count": 20,
     "metadata": {},
     "output_type": "execute_result"
    }
   ],
   "source": [
    "setify([3, 3, 3, 2, 1])"
   ]
  },
  {
   "cell_type": "markdown",
   "id": "86e195c8",
   "metadata": {},
   "source": [
    "### Question 5\n",
    "Create a function that returns the mean of all digits.<br>\n",
    "\n",
    "**Examples**<br>\n",
    "mean(42) ➞ 3<br>\n",
    "mean(12345) ➞ 3<br>\n",
    "mean(666) ➞ 6<br>\n",
    "\n",
    "**Notes**<br>\n",
    "* The mean of all digits is the sum of digits / how many digits there are (e.g. mean of digits in\n",
    "512 is (5+1+2)/3(number of digits) = 8/3=2).<br>\n",
    "* The mean will always be an integer."
   ]
  },
  {
   "cell_type": "code",
   "execution_count": 21,
   "id": "d262cc97",
   "metadata": {},
   "outputs": [],
   "source": [
    "def mean(num):\n",
    "    result=0\n",
    "    for i in str(num):\n",
    "        result=result+int(i)\n",
    "    return result//len(str(num))    "
   ]
  },
  {
   "cell_type": "code",
   "execution_count": 22,
   "id": "7dd5ad3c",
   "metadata": {
    "scrolled": true
   },
   "outputs": [
    {
     "data": {
      "text/plain": [
       "3"
      ]
     },
     "execution_count": 22,
     "metadata": {},
     "output_type": "execute_result"
    }
   ],
   "source": [
    "mean(42)"
   ]
  },
  {
   "cell_type": "code",
   "execution_count": 23,
   "id": "1d087e18",
   "metadata": {},
   "outputs": [
    {
     "data": {
      "text/plain": [
       "3"
      ]
     },
     "execution_count": 23,
     "metadata": {},
     "output_type": "execute_result"
    }
   ],
   "source": [
    "mean(12345)"
   ]
  },
  {
   "cell_type": "code",
   "execution_count": 24,
   "id": "ceb426d5",
   "metadata": {},
   "outputs": [
    {
     "data": {
      "text/plain": [
       "6"
      ]
     },
     "execution_count": 24,
     "metadata": {},
     "output_type": "execute_result"
    }
   ],
   "source": [
    "mean(666) "
   ]
  }
 ],
 "metadata": {
  "kernelspec": {
   "display_name": "Python 3 (ipykernel)",
   "language": "python",
   "name": "python3"
  },
  "language_info": {
   "codemirror_mode": {
    "name": "ipython",
    "version": 3
   },
   "file_extension": ".py",
   "mimetype": "text/x-python",
   "name": "python",
   "nbconvert_exporter": "python",
   "pygments_lexer": "ipython3",
   "version": "3.9.7"
  }
 },
 "nbformat": 4,
 "nbformat_minor": 5
}