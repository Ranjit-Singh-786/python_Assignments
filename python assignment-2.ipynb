{
 "cells": [
  {
   "cell_type": "markdown",
   "id": "8b0adef5",
   "metadata": {},
   "source": [
    "# 1.What are the two values of the Boolean data type? How do you write them?"
   ]
  },
  {
   "cell_type": "markdown",
   "id": "b22348cf",
   "metadata": {},
   "source": [
    "in boolean data type in the python programing languange only two value first one is True , and second value is False.\n",
    "writing structure boolean data type.\n"
   ]
  },
  {
   "cell_type": "code",
   "execution_count": 4,
   "id": "7fd9dde5",
   "metadata": {},
   "outputs": [
    {
     "name": "stdout",
     "output_type": "stream",
     "text": [
      "this is the first value of bool True and this is second value False \n",
      "\n",
      "True represents is 1 , and False refers the 0 in boolean data type\n"
     ]
    }
   ],
   "source": [
    "one= True\n",
    "zero= False\n",
    "print(f\"this is the first value of bool {one} and this is second value {zero} \")\n",
    "print()\n",
    "print('True represents is 1 , and False refers the 0 in boolean data type')"
   ]
  },
  {
   "cell_type": "markdown",
   "id": "4e7aac14",
   "metadata": {},
   "source": [
    "# 2. What are the three different types of Boolean operators?"
   ]
  },
  {
   "cell_type": "markdown",
   "id": "94134c46",
   "metadata": {},
   "source": [
    "following are mentioned in the below.\n",
    "<ul>\n",
    "    <li>AND</li>\n",
    "    <li>OR</li>\n",
    "    <li>NOT</li>\n",
    "    </ul>"
   ]
  },
  {
   "cell_type": "markdown",
   "id": "505bec4f",
   "metadata": {},
   "source": [
    "# 3. Make a list of each Boolean operator's truth tables (i.e. every possible combination of Boolean values for the operator and what it evaluate )."
   ]
  },
  {
   "cell_type": "code",
   "execution_count": 2,
   "id": "f444ed65",
   "metadata": {},
   "outputs": [],
   "source": [
    "lst_for_and =['(0 -- 0 == 0)','(0 -- 1 == 0)','( 1-- 0 == 0)','(1 -- 1 == 1)']\n",
    "lst_for_or =['(0 -- 0 == 0)','(0 -- 1 == 1)','( 1-- 0 == 1)','(1 -- 1 == 1)']\n",
    "lst_for_not =['(0 == 1)','(1 == 0)']"
   ]
  },
  {
   "cell_type": "code",
   "execution_count": 18,
   "id": "8ab87a2a",
   "metadata": {},
   "outputs": [
    {
     "name": "stdout",
     "output_type": "stream",
     "text": [
      "\n",
      "NOT operation combinations\n",
      "['(0 -- 0 == 0)', '(0 -- 1 == 0)', '( 1-- 0 == 0)', '(1 -- 1 == 1)']\n",
      "\n",
      "NOT operation combinations\n",
      "['(0 -- 0 == 0)', '(0 -- 1 == 1)', '( 1-- 0 == 1)', '(1 -- 1 == 1)']\n",
      "\n",
      "NOT operation combinations\n",
      "['(0 == 1)', '(1 == 0)']\n"
     ]
    }
   ],
   "source": [
    "combination_of_list=[lst_for_and,lst_for_or,lst_for_not]\n",
    "for i in combination_of_list:\n",
    "    if i==0:\n",
    "        print('\\nAND operation combinations')\n",
    "        print(i)\n",
    "    elif i==1:\n",
    "        print('\\nOR operation combinations')\n",
    "    else:\n",
    "        print('\\nNOT operation combinations')\n",
    "        print(i)"
   ]
  },
  {
   "cell_type": "code",
   "execution_count": 8,
   "id": "cf15424f",
   "metadata": {},
   "outputs": [
    {
     "data": {
      "text/plain": [
       "3"
      ]
     },
     "execution_count": 8,
     "metadata": {},
     "output_type": "execute_result"
    }
   ],
   "source": [
    "len(combination_of_list)"
   ]
  },
  {
   "cell_type": "markdown",
   "id": "bd495cc7",
   "metadata": {},
   "source": [
    "# 4. What are the values of the following expressions?\n",
    "(5 > 4) and (3 == 5)\n",
    "\n",
    "not (5 > 4)\n",
    "\n",
    "(5 > 4) or (3 == 5)\n",
    "\n",
    "not ((5 > 4) or (3 == 5))\n",
    "\n",
    "(True and True) and (True == False)\n",
    "\n",
    "(not False) or (not True)\n"
   ]
  },
  {
   "cell_type": "markdown",
   "id": "111b85f7",
   "metadata": {},
   "source": [
    "# solution by programe with comment mentioned in below cell"
   ]
  },
  {
   "cell_type": "code",
   "execution_count": 5,
   "id": "9590b894",
   "metadata": {},
   "outputs": [
    {
     "data": {
      "text/plain": [
       "False"
      ]
     },
     "execution_count": 5,
     "metadata": {},
     "output_type": "execute_result"
    }
   ],
   "source": [
    "(5>4)and(3==5)  # it is returning False because 1 - 0 == 0"
   ]
  },
  {
   "cell_type": "code",
   "execution_count": 6,
   "id": "29c0eed8",
   "metadata": {},
   "outputs": [
    {
     "data": {
      "text/plain": [
       "False"
      ]
     },
     "execution_count": 6,
     "metadata": {},
     "output_type": "execute_result"
    }
   ],
   "source": [
    "not (5 > 4)  \n",
    "\n",
    "\n",
    "# 0 -- 1\n",
    "inside the parenthesis is True but not operator are perform not operatiion\n",
    "on the 1 that,s why, i got False. because complement of True is False"
   ]
  },
  {
   "cell_type": "code",
   "execution_count": 7,
   "id": "d25132a7",
   "metadata": {},
   "outputs": [
    {
     "data": {
      "text/plain": [
       "True"
      ]
     },
     "execution_count": 7,
     "metadata": {},
     "output_type": "execute_result"
    }
   ],
   "source": [
    "(5 > 4) or (3 == 5)\n",
    "\n",
    "# (1) OR (0) == 1 It is logic behing this problem\n"
   ]
  },
  {
   "cell_type": "code",
   "execution_count": 9,
   "id": "dc16e428",
   "metadata": {},
   "outputs": [
    {
     "data": {
      "text/plain": [
       "False"
      ]
     },
     "execution_count": 9,
     "metadata": {},
     "output_type": "execute_result"
    }
   ],
   "source": [
    "not ((5 > 4) or (3 == 5))\n",
    "\n",
    "#  ((1) OR (0) == 1) == 1   ---> it is returning one it means True but\n",
    "# after get the True NOt operator are performing NOt operation hence we got the Falee"
   ]
  },
  {
   "cell_type": "code",
   "execution_count": 10,
   "id": "e0ca6f76",
   "metadata": {},
   "outputs": [
    {
     "data": {
      "text/plain": [
       "False"
      ]
     },
     "execution_count": 10,
     "metadata": {},
     "output_type": "execute_result"
    }
   ],
   "source": [
    "(True and True) and (True == False)\n",
    "\n",
    "\n",
    "# (1 AND 1 )==1\n",
    "# (1 == 0) ==0\n",
    "#  (1) AND (0) == 0"
   ]
  },
  {
   "cell_type": "code",
   "execution_count": 12,
   "id": "02e12550",
   "metadata": {},
   "outputs": [
    {
     "data": {
      "text/plain": [
       "True"
      ]
     },
     "execution_count": 12,
     "metadata": {},
     "output_type": "execute_result"
    }
   ],
   "source": [
    "(not False) or (not True)\n",
    "\n",
    "# not False == 1\n",
    "# not True == 0\n",
    "# (1 OR 0 )== 1"
   ]
  },
  {
   "cell_type": "markdown",
   "id": "30a2d056",
   "metadata": {},
   "source": [
    "# 5. What are the six comparison operators?"
   ]
  },
  {
   "cell_type": "markdown",
   "id": "7460eaf2",
   "metadata": {},
   "source": [
    "# Ans :- \n",
    "Python has six comparison operators:\n",
    "<ul>\n",
    "    <li>less than ( < )</li>\n",
    "    <li>less than or equal to (<=) </li>\n",
    "    <li>greater than ( > )\n",
    "</li>\n",
    "    <li>greater than or equal to ( >= )</li>\n",
    "    <li>equal to ( == ) </li>\n",
    "    <li>and not equal to ( != )</li>\n",
    "    </ul>\n"
   ]
  },
  {
   "cell_type": "markdown",
   "id": "651314e5",
   "metadata": {},
   "source": [
    "# 6. How do you tell the difference between the equal to and assignment operators?Describe a condition and when you would use one."
   ]
  },
  {
   "cell_type": "markdown",
   "id": "6151076c",
   "metadata": {},
   "source": [
    "equal too --->   equal to is a comparison oparator, it is used for compare the value but\n",
    "\n",
    "assignment --->  assignment is operator that assign the value to a particular variable.\n",
    "\n",
    "e.g are mentioned below"
   ]
  },
  {
   "cell_type": "code",
   "execution_count": 19,
   "id": "a6947c66",
   "metadata": {},
   "outputs": [
    {
     "data": {
      "text/plain": [
       "10"
      ]
     },
     "execution_count": 19,
     "metadata": {},
     "output_type": "execute_result"
    }
   ],
   "source": [
    "var1=10\n",
    "var1\n",
    "\n",
    "##  this is assignment operator and it is assigning the 10 value in the variable"
   ]
  },
  {
   "cell_type": "code",
   "execution_count": 20,
   "id": "6234c1ed",
   "metadata": {},
   "outputs": [
    {
     "data": {
      "text/plain": [
       "False"
      ]
     },
     "execution_count": 20,
     "metadata": {},
     "output_type": "execute_result"
    }
   ],
   "source": [
    "var1==5\n",
    "\n",
    "# it is returning False boolean value because it is comparing"
   ]
  },
  {
   "cell_type": "markdown",
   "id": "d6fef31f",
   "metadata": {},
   "source": [
    "# 7. Identify the three blocks in this code:\n",
    "spam = 0\n",
    "\n",
    "if spam == 10:\n",
    "\n",
    "print('eggs')\n",
    "\n",
    "if spam > 5:\n",
    "\n",
    "print('bacon')\n",
    "\n",
    "else:\n",
    "\n",
    "print('ham')\n",
    "\n",
    "print('spam')\n",
    "\n",
    "print('spam')\n"
   ]
  },
  {
   "cell_type": "markdown",
   "id": "bf79032c",
   "metadata": {},
   "source": [
    " first of all as noted above programe in this program indatation did not maintan properly<br>\n",
    " hence, it would be appear an indetation error. as you can see below"
   ]
  },
  {
   "cell_type": "code",
   "execution_count": 21,
   "id": "d9613eb1",
   "metadata": {},
   "outputs": [
    {
     "ename": "IndentationError",
     "evalue": "expected an indented block (<ipython-input-21-2e7ddb46af5d>, line 5)",
     "output_type": "error",
     "traceback": [
      "\u001b[1;36m  File \u001b[1;32m\"<ipython-input-21-2e7ddb46af5d>\"\u001b[1;36m, line \u001b[1;32m5\u001b[0m\n\u001b[1;33m    print('eggs')\u001b[0m\n\u001b[1;37m    ^\u001b[0m\n\u001b[1;31mIndentationError\u001b[0m\u001b[1;31m:\u001b[0m expected an indented block\n"
     ]
    }
   ],
   "source": [
    "spam = 0\n",
    "\n",
    "if spam == 10:\n",
    "print('eggs')\n",
    "if spam > 5:\n",
    "print('bacon')\n",
    "else:\n",
    "print('ham')\n",
    "print('spam')\n",
    "print('spam')           # and now i will fix this error"
   ]
  },
  {
   "cell_type": "code",
   "execution_count": 22,
   "id": "cc0f8b41",
   "metadata": {},
   "outputs": [
    {
     "name": "stdout",
     "output_type": "stream",
     "text": [
      "ham\n",
      "spam\n",
      "spam\n"
     ]
    }
   ],
   "source": [
    "spam = 0\n",
    "\n",
    "if spam == 10:\n",
    "    print('eggs')\n",
    "if spam > 5:\n",
    "    print('bacon')\n",
    "else:\n",
    "    print('ham')\n",
    "    print('spam')\n",
    "    print('spam')   "
   ]
  },
  {
   "cell_type": "markdown",
   "id": "68890799",
   "metadata": {},
   "source": [
    "# 8. Write code that prints Hello if 1 is stored in spam, prints Howdy if 2 is stored in spam, and prints Greetings! if anything else is stored in spam."
   ]
  },
  {
   "cell_type": "code",
   "execution_count": 4,
   "id": "40d4ebed",
   "metadata": {},
   "outputs": [
    {
     "name": "stdout",
     "output_type": "stream",
     "text": [
      "in this list stored 1 printed  :--Hello\n",
      "in this list stored 2 printed  :--Howdy\n",
      "Greetings!\n"
     ]
    }
   ],
   "source": [
    "spam=[1,2,3]\n",
    "for i in spam:\n",
    "    if i==1:\n",
    "        print('in this list stored 1 printed  :--Hello')\n",
    "    elif i== 2:\n",
    "        print('in this list stored 2 printed  :--Howdy')\n",
    "    else:\n",
    "        print('Greetings!')\n"
   ]
  },
  {
   "cell_type": "markdown",
   "id": "f097e505",
   "metadata": {},
   "source": [
    "# 9.If your programme is stuck in an endless loop, what keys you’ll press?"
   ]
  },
  {
   "cell_type": "markdown",
   "id": "4845231f",
   "metadata": {},
   "source": [
    "# Ans:-  ctrl+C"
   ]
  },
  {
   "cell_type": "markdown",
   "id": "ea0a0658",
   "metadata": {},
   "source": [
    "# 10. How can you tell the difference between break and continue?"
   ]
  },
  {
   "cell_type": "markdown",
   "id": "4aefff4d",
   "metadata": {},
   "source": [
    "# Ans :- \n",
    "Break keyword is used for stop the execution of program and <br>\n",
    "continue keyword is used for the ignore some particular value <br>\n",
    "and both are iteration keyword, which are using in looping statement."
   ]
  },
  {
   "cell_type": "markdown",
   "id": "802e398b",
   "metadata": {},
   "source": [
    "# 11. In a for loop, what is the difference between range(10), range(0, 10), and range(0, 10, 1)?"
   ]
  },
  {
   "cell_type": "markdown",
   "id": "25bbb41c",
   "metadata": {},
   "source": [
    "Ans :- according to the output of these program, there is differnce between in range(10), range(0,10),range(0,10,1).\n",
    "range of these functions are same is 0 to 9     ---->  [0, 1, 2, 3, 4, 5, 6, 7, 8, 9].\n",
    "as you can see below in my program."
   ]
  },
  {
   "cell_type": "code",
   "execution_count": 9,
   "id": "3773d44a",
   "metadata": {},
   "outputs": [
    {
     "name": "stdout",
     "output_type": "stream",
     "text": [
      "first statement :-- range(0, 10)\n",
      "second statement :-- range(0, 10)\n",
      "third statement :-- range(0, 10)\n"
     ]
    }
   ],
   "source": [
    "print('first statement :--',range(10))\n",
    "print('second statement :--',range(0,10))\n",
    "print('third statement :--',range(0,10,1))"
   ]
  },
  {
   "cell_type": "markdown",
   "id": "fa8c6478",
   "metadata": {},
   "source": [
    "# 12. Write a short program that prints the numbers 1 to 10 using a for loop. Then write an equivalent program that prints the numbers 1 to 10 using a while loop."
   ]
  },
  {
   "cell_type": "code",
   "execution_count": 14,
   "id": "79e25005",
   "metadata": {},
   "outputs": [
    {
     "name": "stdout",
     "output_type": "stream",
     "text": [
      "0\n",
      "1\n",
      "2\n",
      "3\n",
      "4\n",
      "5\n",
      "6\n",
      "7\n",
      "8\n",
      "9\n",
      "10\n"
     ]
    }
   ],
   "source": [
    "for i in range(0,11):\n",
    "    print(i)"
   ]
  },
  {
   "cell_type": "code",
   "execution_count": 17,
   "id": "779c1525",
   "metadata": {},
   "outputs": [
    {
     "name": "stdout",
     "output_type": "stream",
     "text": [
      "1\n",
      "2\n",
      "3\n",
      "4\n",
      "5\n",
      "6\n",
      "7\n",
      "8\n",
      "9\n",
      "10\n"
     ]
    }
   ],
   "source": [
    "num=1\n",
    "while num <11:\n",
    "    print(num)\n",
    "    num+=1"
   ]
  },
  {
   "cell_type": "markdown",
   "id": "3273fd0f",
   "metadata": {},
   "source": [
    "# 13. If you had a function named bacon() inside a module named spam, how would you call it after importing spam?"
   ]
  },
  {
   "cell_type": "markdown",
   "id": "ee0c3598",
   "metadata": {},
   "source": [
    "# Ans :\n",
    "let us suppose i have module <b>spam</b><br>\n",
    "thene first we will import module then, <br>\n",
    "we will call the function by using module. because we are importing module not a function. <br>\n",
    "For eg. i am importing os module of python after that i will call the getcwd() function of this module."
   ]
  },
  {
   "cell_type": "code",
   "execution_count": 2,
   "id": "687555fc",
   "metadata": {},
   "outputs": [
    {
     "data": {
      "text/plain": [
       "'A:\\\\iNeuron\\\\Python'"
      ]
     },
     "execution_count": 2,
     "metadata": {},
     "output_type": "execute_result"
    }
   ],
   "source": [
    "import os\n",
    "os.getcwd()"
   ]
  },
  {
   "cell_type": "code",
   "execution_count": null,
   "id": "fa265b05",
   "metadata": {},
   "outputs": [],
   "source": []
  },
  {
   "cell_type": "code",
   "execution_count": null,
   "id": "fe245393",
   "metadata": {},
   "outputs": [],
   "source": []
  },
  {
   "cell_type": "code",
   "execution_count": null,
   "id": "67052a63",
   "metadata": {},
   "outputs": [],
   "source": []
  }
 ],
 "metadata": {
  "kernelspec": {
   "display_name": "Python 3",
   "language": "python",
   "name": "python3"
  },
  "language_info": {
   "codemirror_mode": {
    "name": "ipython",
    "version": 3
   },
   "file_extension": ".py",
   "mimetype": "text/x-python",
   "name": "python",
   "nbconvert_exporter": "python",
   "pygments_lexer": "ipython3",
   "version": "3.9.2"
  }
 },
 "nbformat": 4,
 "nbformat_minor": 5
}
