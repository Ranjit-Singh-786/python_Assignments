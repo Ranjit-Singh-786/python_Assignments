{
 "cells": [
  {
   "cell_type": "markdown",
   "id": "6c4f3b95",
   "metadata": {},
   "source": [
    "# 1. How do you distinguish between shutil.copy() and shutil.copytree()?"
   ]
  },
  {
   "cell_type": "code",
   "execution_count": 1,
   "id": "19c24241",
   "metadata": {},
   "outputs": [
    {
     "name": "stdout",
     "output_type": "stream",
     "text": [
      "library imported\n"
     ]
    }
   ],
   "source": [
    "import shutil as stl\n",
    "import os\n",
    "print('library imported')"
   ]
  },
  {
   "cell_type": "code",
   "execution_count": 4,
   "id": "8e1cf781",
   "metadata": {},
   "outputs": [
    {
     "data": {
      "text/plain": [
       "'A:\\\\iNeuron\\\\Python assignment'"
      ]
     },
     "execution_count": 4,
     "metadata": {},
     "output_type": "execute_result"
    }
   ],
   "source": [
    "os.getcwd()"
   ]
  },
  {
   "cell_type": "code",
   "execution_count": 8,
   "id": "493bdfca",
   "metadata": {},
   "outputs": [
    {
     "data": {
      "text/plain": [
       "'cse 3.pdf'"
      ]
     },
     "execution_count": 8,
     "metadata": {},
     "output_type": "execute_result"
    }
   ],
   "source": [
    "os.listdir(r'C:\\Users\\Dell\\Desktop')[5]"
   ]
  },
  {
   "cell_type": "code",
   "execution_count": 9,
   "id": "f5862d42",
   "metadata": {},
   "outputs": [
    {
     "data": {
      "text/plain": [
       "['.git',\n",
       " '.ipynb_checkpoints',\n",
       " 'ineuron.txt',\n",
       " 'python assignment - 10.ipynb',\n",
       " 'python assignment - 5.ipynb',\n",
       " 'python assignment - 8.ipynb',\n",
       " 'python assignment - 9.ipynb',\n",
       " 'Python assignment assignment 4.ipynb',\n",
       " 'python assignment-1.ipynb',\n",
       " 'python assignment-2.ipynb',\n",
       " 'python assignment-6.ipynb']"
      ]
     },
     "execution_count": 9,
     "metadata": {},
     "output_type": "execute_result"
    }
   ],
   "source": [
    "os.listdir(os.getcwd())\n",
    "\n",
    "# copy() is used for the copy the file one location to another location\n",
    "# it is my current working directory, you can see now. here is cs3.pdf file"
   ]
  },
  {
   "cell_type": "code",
   "execution_count": 10,
   "id": "76fa1237",
   "metadata": {},
   "outputs": [
    {
     "data": {
      "text/plain": [
       "'A:\\\\iNeuron\\\\Python assignment\\\\cse 3.pdf'"
      ]
     },
     "execution_count": 10,
     "metadata": {},
     "output_type": "execute_result"
    }
   ],
   "source": [
    "stl.copy(r'C:\\Users\\Dell\\Desktop\\cse 3.pdf','A:\\iNeuron\\Python assignment')\n",
    "\n",
    "# i am copying a file to desktop folder to my current working directory"
   ]
  },
  {
   "cell_type": "code",
   "execution_count": 12,
   "id": "95a41107",
   "metadata": {},
   "outputs": [
    {
     "data": {
      "text/plain": [
       "'cse 3.pdf'"
      ]
     },
     "execution_count": 12,
     "metadata": {},
     "output_type": "execute_result"
    }
   ],
   "source": [
    "os.listdir(os.getcwd())[2]\n",
    "\n",
    "# as you can see i has copied cs3.pdf file by using shutil"
   ]
  },
  {
   "cell_type": "code",
   "execution_count": 31,
   "id": "055b9517",
   "metadata": {},
   "outputs": [
    {
     "data": {
      "text/plain": [
       "'src'"
      ]
     },
     "execution_count": 31,
     "metadata": {},
     "output_type": "execute_result"
    }
   ],
   "source": [
    "os.listdir(r'C:\\Users\\Dell\\Desktop')[-2] "
   ]
  },
  {
   "cell_type": "code",
   "execution_count": 39,
   "id": "279315b1",
   "metadata": {},
   "outputs": [
    {
     "data": {
      "text/plain": [
       "[]"
      ]
     },
     "execution_count": 39,
     "metadata": {},
     "output_type": "execute_result"
    }
   ],
   "source": [
    "os.listdir(r'A:\\\\iNeuron\\\\Python assignment\\\\destination')\n",
    "# there is no"
   ]
  },
  {
   "cell_type": "code",
   "execution_count": 40,
   "id": "fd6f36e9",
   "metadata": {},
   "outputs": [
    {
     "name": "stdout",
     "output_type": "stream",
     "text": [
      "exist src folder\n"
     ]
    }
   ],
   "source": [
    "if 'src' in os.listdir(r'C:\\Users\\Dell\\Desktop'):\n",
    "    print('exist src folder')"
   ]
  },
  {
   "cell_type": "code",
   "execution_count": 45,
   "id": "95fa971f",
   "metadata": {},
   "outputs": [
    {
     "data": {
      "text/plain": [
       "'A:/iNeuron/Python assignment/destination/raj'"
      ]
     },
     "execution_count": 45,
     "metadata": {},
     "output_type": "execute_result"
    }
   ],
   "source": [
    "stl.copytree('C:/Users/Dell/Desktop/src','A:/iNeuron/Python assignment/destination/raj')\n",
    "\n",
    "\n",
    "# i has copy a directory with rename"
   ]
  },
  {
   "cell_type": "code",
   "execution_count": 49,
   "id": "8dd4cb9f",
   "metadata": {},
   "outputs": [
    {
     "data": {
      "text/plain": [
       "['raj']"
      ]
     },
     "execution_count": 49,
     "metadata": {},
     "output_type": "execute_result"
    }
   ],
   "source": [
    "os.listdir('A:/iNeuron/Python assignment/destination')\n",
    "\n",
    "# as you can see raj folder in my destination folder"
   ]
  },
  {
   "cell_type": "markdown",
   "id": "9c863f81",
   "metadata": {},
   "source": [
    "# 2. What function is used to rename files??"
   ]
  },
  {
   "cell_type": "code",
   "execution_count": null,
   "id": "a88ebbe0",
   "metadata": {},
   "outputs": [],
   "source": [
    "os.rename()          # this functin is used for rename the %%file"
   ]
  },
  {
   "cell_type": "code",
   "execution_count": 50,
   "id": "153ad758",
   "metadata": {},
   "outputs": [
    {
     "data": {
      "text/plain": [
       "['.git',\n",
       " '.ipynb_checkpoints',\n",
       " 'cse 3.pdf',\n",
       " 'destination',\n",
       " 'python assignment - 10.ipynb',\n",
       " 'python assignment - 5.ipynb',\n",
       " 'python assignment - 8.ipynb',\n",
       " 'python assignment - 9.ipynb',\n",
       " 'Python assignment assignment 4.ipynb',\n",
       " 'python assignment-1.ipynb',\n",
       " 'python assignment-2.ipynb',\n",
       " 'python assignment-6.ipynb']"
      ]
     },
     "execution_count": 50,
     "metadata": {},
     "output_type": "execute_result"
    }
   ],
   "source": [
    "os.getcwd()\n",
    "# there is no ineuron.txt file"
   ]
  },
  {
   "cell_type": "code",
   "execution_count": 52,
   "id": "ac03692a",
   "metadata": {},
   "outputs": [
    {
     "data": {
      "text/plain": [
       "<_io.TextIOWrapper name='A:\\\\iNeuron\\\\Python assignment\\\\ineuron.txt' mode='w' encoding='cp1252'>"
      ]
     },
     "execution_count": 52,
     "metadata": {},
     "output_type": "execute_result"
    }
   ],
   "source": [
    "open('A:\\\\iNeuron\\\\Python assignment\\\\ineuron.txt','w')\n",
    "\n",
    "# i has created ineuron.txt file"
   ]
  },
  {
   "cell_type": "code",
   "execution_count": 3,
   "id": "3641122f",
   "metadata": {},
   "outputs": [
    {
     "data": {
      "text/plain": [
       "'ineuron.txt'"
      ]
     },
     "execution_count": 3,
     "metadata": {},
     "output_type": "execute_result"
    }
   ],
   "source": [
    "os.listdir()[4]"
   ]
  },
  {
   "cell_type": "code",
   "execution_count": 4,
   "id": "85e444b9",
   "metadata": {},
   "outputs": [],
   "source": [
    "os.rename('ineuron.txt','ineuron_renamed')"
   ]
  },
  {
   "cell_type": "code",
   "execution_count": 6,
   "id": "696617ef",
   "metadata": {},
   "outputs": [
    {
     "data": {
      "text/plain": [
       "'ineuron_renamed'"
      ]
     },
     "execution_count": 6,
     "metadata": {},
     "output_type": "execute_result"
    }
   ],
   "source": [
    "os.listdir()[4]\n",
    "\n",
    "# as you can see i has renamed ineuron folder with the ineuron_renamed"
   ]
  },
  {
   "cell_type": "markdown",
   "id": "ec7b945f",
   "metadata": {},
   "source": [
    "# 3. What is the difference between the delete functions in the send2trash and shutil modules?"
   ]
  },
  {
   "cell_type": "markdown",
   "id": "a0d29d6d",
   "metadata": {},
   "source": [
    "# Ans:-\n",
    "as the  name suggest of this module 'send2trsh'. if it will delete the folder. then it will send the <br>\n",
    "deleted folder into the trash or recyclebin. but <br>\n",
    "if we will delete the folder by using shutil then it will delete the folder permantly<br>\n"
   ]
  },
  {
   "cell_type": "markdown",
   "id": "ddf07f9e",
   "metadata": {},
   "source": [
    "# 4.ZipFile objects have a close() method just like File objects’ close() method. What ZipFile method is equivalent to File objects’ open() method?"
   ]
  },
  {
   "cell_type": "markdown",
   "id": "11bbe421",
   "metadata": {},
   "source": [
    "# Ans:-\n",
    "yes this is ryt that zipfile objects have close() method. and both are equivalent to each other<br>\n"
   ]
  },
  {
   "cell_type": "code",
   "execution_count": 3,
   "id": "20fab2e1",
   "metadata": {},
   "outputs": [],
   "source": [
    "obj=open('cse 3.pdf','r')"
   ]
  },
  {
   "cell_type": "code",
   "execution_count": 7,
   "id": "9f93385d",
   "metadata": {},
   "outputs": [],
   "source": [
    "obj.close()"
   ]
  },
  {
   "cell_type": "markdown",
   "id": "ed7bf829",
   "metadata": {},
   "source": [
    "# 5. Create a programme that searches a folder tree for files with a certain file extension (such as .pdfor .jpg). Copy these files from whatever location they are in to a new folder."
   ]
  },
  {
   "cell_type": "code",
   "execution_count": 10,
   "id": "283fc0db",
   "metadata": {},
   "outputs": [
    {
     "data": {
      "text/plain": [
       "['240601_Leopard.jpg',\n",
       " 'alien-1905155_1920.png',\n",
       " 'area.png',\n",
       " 'area2.png',\n",
       " 'arrow-42916_1280.png',\n",
       " 'banglore.txt',\n",
       " 'c2.jpg',\n",
       " 'delhi.docx',\n",
       " 'file_folder',\n",
       " 'goa.docx',\n",
       " 'gujrat.docx',\n",
       " 'gurgaav.pdf',\n",
       " 'hhhhh.jpg',\n",
       " 'IMG_20210613_093355.jpg',\n",
       " 'IMG_20211104_134237.jpg',\n",
       " 'ineuron.txt',\n",
       " 'jpg_folder',\n",
       " 'mummai.txt',\n",
       " 'pdf_folder',\n",
       " 'png_folder',\n",
       " 'raj.pdf',\n",
       " 'word_folder']"
      ]
     },
     "execution_count": 10,
     "metadata": {},
     "output_type": "execute_result"
    }
   ],
   "source": [
    "os.listdir('A:\\\\iNeuron\\\\Python assignment\\\\project')\n",
    "\n",
    "\n",
    "# this is folder structure in which many kinds of file are available here\n",
    "# and i has created some empty folder for filter the files\n",
    "# whenever i will find out the png file, i will in the png_folder, similarly to other files"
   ]
  },
  {
   "cell_type": "code",
   "execution_count": 25,
   "id": "7da9176d",
   "metadata": {},
   "outputs": [
    {
     "data": {
      "text/plain": [
       "[]"
      ]
     },
     "execution_count": 25,
     "metadata": {},
     "output_type": "execute_result"
    }
   ],
   "source": [
    "os.listdir('A:\\\\iNeuron\\\\Python assignment\\\\project\\\\png_folder')\n",
    "\n",
    "# png folder is empty in startine"
   ]
  },
  {
   "cell_type": "code",
   "execution_count": 26,
   "id": "e0ac265b",
   "metadata": {},
   "outputs": [
    {
     "data": {
      "text/plain": [
       "[]"
      ]
     },
     "execution_count": 26,
     "metadata": {},
     "output_type": "execute_result"
    }
   ],
   "source": [
    "os.listdir('A:\\\\iNeuron\\\\Python assignment\\\\project\\\\jpg_folder')\n",
    "\n",
    "# jpg folder also empty"
   ]
  },
  {
   "cell_type": "code",
   "execution_count": 27,
   "id": "f8c1eede",
   "metadata": {},
   "outputs": [
    {
     "data": {
      "text/plain": [
       "[]"
      ]
     },
     "execution_count": 27,
     "metadata": {},
     "output_type": "execute_result"
    }
   ],
   "source": [
    "os.listdir('A:\\\\iNeuron\\\\Python assignment\\\\project\\\\word_folder')\n",
    "\n",
    "# word folder again empty"
   ]
  },
  {
   "cell_type": "code",
   "execution_count": 28,
   "id": "b4118077",
   "metadata": {},
   "outputs": [
    {
     "data": {
      "text/plain": [
       "[]"
      ]
     },
     "execution_count": 28,
     "metadata": {},
     "output_type": "execute_result"
    }
   ],
   "source": [
    "os.listdir('A:\\\\iNeuron\\\\Python assignment\\\\project\\\\pdf_folder')\n",
    "# pdf folder also empty"
   ]
  },
  {
   "cell_type": "code",
   "execution_count": 29,
   "id": "693ff6e0",
   "metadata": {},
   "outputs": [],
   "source": [
    "for item in os.listdir('A:\\\\iNeuron\\\\Python assignment\\\\project'):\n",
    "    if item.endswith('png'):\n",
    "        stl.move('A:\\\\iNeuron\\\\Python assignment\\\\project\\\\'+item,'A:\\\\iNeuron\\\\Python assignment\\\\project\\\\png_folder')\n",
    "    if item.endswith('jpg'):\n",
    "        stl.move('A:\\\\iNeuron\\\\Python assignment\\\\project\\\\'+item,'A:\\\\iNeuron\\\\Python assignment\\\\project\\\\jpg_folder')\n",
    "    if item.endswith('txt'):\n",
    "        stl.move('A:\\\\iNeuron\\\\Python assignment\\\\project\\\\'+item,'A:\\\\iNeuron\\\\Python assignment\\\\project\\\\file_folder')\n",
    "    if item.endswith('docx'):\n",
    "        stl.move('A:\\\\iNeuron\\\\Python assignment\\\\project\\\\'+item,'A:\\\\iNeuron\\\\Python assignment\\\\project\\\\word_folder')\n",
    "    if item.endswith('pdf'):\n",
    "        stl.move('A:\\\\iNeuron\\\\Python assignment\\\\project\\\\'+item,'A:\\\\iNeuron\\\\Python assignment\\\\project\\\\pdf_folder')\n",
    "    \n",
    "# by using this function i am identifieng what type of item then filter it or move into with concerned folder"
   ]
  },
  {
   "cell_type": "code",
   "execution_count": 30,
   "id": "2f5d45cd",
   "metadata": {},
   "outputs": [
    {
     "data": {
      "text/plain": [
       "['file_folder', 'jpg_folder', 'pdf_folder', 'png_folder', 'word_folder']"
      ]
     },
     "execution_count": 30,
     "metadata": {},
     "output_type": "execute_result"
    }
   ],
   "source": [
    "os.listdir('A:\\\\iNeuron\\\\Python assignment\\\\project')\n",
    "\n",
    "# and now i have only my folders\n",
    "# all files are filterd"
   ]
  },
  {
   "cell_type": "code",
   "execution_count": 31,
   "id": "5c7fb145",
   "metadata": {},
   "outputs": [
    {
     "data": {
      "text/plain": [
       "['alien-1905155_1920.png', 'area.png', 'area2.png', 'arrow-42916_1280.png']"
      ]
     },
     "execution_count": 31,
     "metadata": {},
     "output_type": "execute_result"
    }
   ],
   "source": [
    "os.listdir('A:\\\\iNeuron\\\\Python assignment\\\\project\\\\png_folder')\n",
    "\n",
    "# in the png folder all the png files are available there"
   ]
  },
  {
   "cell_type": "code",
   "execution_count": 32,
   "id": "7a8da03a",
   "metadata": {},
   "outputs": [
    {
     "data": {
      "text/plain": [
       "['delhi.docx', 'goa.docx', 'gujrat.docx']"
      ]
     },
     "execution_count": 32,
     "metadata": {},
     "output_type": "execute_result"
    }
   ],
   "source": [
    "os.listdir('A:\\\\iNeuron\\\\Python assignment\\\\project\\\\word_folder')\n"
   ]
  },
  {
   "cell_type": "code",
   "execution_count": 33,
   "id": "c105902d",
   "metadata": {},
   "outputs": [
    {
     "data": {
      "text/plain": [
       "['gurgaav.pdf', 'raj.pdf']"
      ]
     },
     "execution_count": 33,
     "metadata": {},
     "output_type": "execute_result"
    }
   ],
   "source": [
    "os.listdir('A:\\\\iNeuron\\\\Python assignment\\\\project\\\\pdf_folder')"
   ]
  },
  {
   "cell_type": "code",
   "execution_count": 34,
   "id": "316b57f5",
   "metadata": {},
   "outputs": [
    {
     "data": {
      "text/plain": [
       "['240601_Leopard.jpg',\n",
       " 'c2.jpg',\n",
       " 'hhhhh.jpg',\n",
       " 'IMG_20210613_093355.jpg',\n",
       " 'IMG_20211104_134237.jpg']"
      ]
     },
     "execution_count": 34,
     "metadata": {},
     "output_type": "execute_result"
    }
   ],
   "source": [
    "os.listdir('A:\\\\iNeuron\\\\Python assignment\\\\project\\\\jpg_folder')\n",
    "\n",
    "# in the jpg folder all the jpg file has been move"
   ]
  }
 ],
 "metadata": {
  "kernelspec": {
   "display_name": "Python 3 (ipykernel)",
   "language": "python",
   "name": "python3"
  },
  "language_info": {
   "codemirror_mode": {
    "name": "ipython",
    "version": 3
   },
   "file_extension": ".py",
   "mimetype": "text/x-python",
   "name": "python",
   "nbconvert_exporter": "python",
   "pygments_lexer": "ipython3",
   "version": "3.10.4"
  }
 },
 "nbformat": 4,
 "nbformat_minor": 5
}
