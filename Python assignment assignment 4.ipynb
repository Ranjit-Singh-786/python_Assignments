{
 "cells": [
  {
   "cell_type": "markdown",
   "id": "004ae654",
   "metadata": {},
   "source": [
    "# 1. 1. What exactly is []?"
   ]
  },
  {
   "cell_type": "markdown",
   "id": "83a96cde",
   "metadata": {},
   "source": [
    "# Ans :-\n",
    "<b>square brackets </b>"
   ]
  },
  {
   "cell_type": "markdown",
   "id": "e468f1c5",
   "metadata": {},
   "source": [
    "#  2. In a list of values stored in a variable called spam, how would you assign the value 'hello' as the third value? (Assume [2, 4, 6, 8, 10] are in spam.)"
   ]
  },
  {
   "cell_type": "code",
   "execution_count": 2,
   "id": "ae47709e",
   "metadata": {},
   "outputs": [
    {
     "data": {
      "text/plain": [
       "[2, 4, 6, 8, 10]"
      ]
     },
     "execution_count": 2,
     "metadata": {},
     "output_type": "execute_result"
    }
   ],
   "source": [
    "spam=[2, 4, 6, 8, 10]\n",
    "spam"
   ]
  },
  {
   "cell_type": "code",
   "execution_count": 5,
   "id": "794277df",
   "metadata": {},
   "outputs": [
    {
     "data": {
      "text/plain": [
       "[2, 4, 'hello', 'hello', 10]"
      ]
     },
     "execution_count": 5,
     "metadata": {},
     "output_type": "execute_result"
    }
   ],
   "source": [
    "spam[2]='hello'\n",
    "spam"
   ]
  },
  {
   "cell_type": "markdown",
   "id": "c6e5dd92",
   "metadata": {},
   "source": [
    "# Let's pretend the spam includes the list ['a', 'b', 'c', 'd'] for the next three queries.\n",
    "<ul>\n",
    "    <li>3. What is the value of spam[int(int('3' * 2) / 11)]?</li>\n",
    "    <li>4. What is the value of spam[-1]?</li>\n",
    "    <li>5. What is the value of spam[:2]?</li>\n",
    "    </ul>\n",
    "\n"
   ]
  },
  {
   "cell_type": "code",
   "execution_count": 7,
   "id": "6836af42",
   "metadata": {},
   "outputs": [
    {
     "data": {
      "text/plain": [
       "['a', 'b', 'c', 'd']"
      ]
     },
     "execution_count": 7,
     "metadata": {},
     "output_type": "execute_result"
    }
   ],
   "source": [
    "spam=['a','b','c','d']\n",
    "spam"
   ]
  },
  {
   "cell_type": "markdown",
   "id": "03483c15",
   "metadata": {},
   "source": [
    "# 3. What is the value of spam[int(int('3' * 2) / 11)] ?\n"
   ]
  },
  {
   "cell_type": "code",
   "execution_count": 8,
   "id": "c5464813",
   "metadata": {},
   "outputs": [
    {
     "data": {
      "text/plain": [
       "'d'"
      ]
     },
     "execution_count": 8,
     "metadata": {},
     "output_type": "execute_result"
    }
   ],
   "source": [
    "spam[int(int('3'*2)/11)]\n",
    "\n",
    "# explaination\n",
    "# '3 ''* 2 == '33' then converted into int --> 33\n",
    "# after that 33/11==3\n",
    "# then spam[3]=='D'"
   ]
  },
  {
   "cell_type": "markdown",
   "id": "99a9a6c3",
   "metadata": {},
   "source": [
    "# 4. What is the value of spam[-1]?"
   ]
  },
  {
   "cell_type": "code",
   "execution_count": 9,
   "id": "799c92ee",
   "metadata": {},
   "outputs": [
    {
     "data": {
      "text/plain": [
       "'d'"
      ]
     },
     "execution_count": 9,
     "metadata": {},
     "output_type": "execute_result"
    }
   ],
   "source": [
    "spam[-1]        # last element of the spam"
   ]
  },
  {
   "cell_type": "markdown",
   "id": "b87dc938",
   "metadata": {},
   "source": [
    "# 5. What is the value of spam[:2]?"
   ]
  },
  {
   "cell_type": "code",
   "execution_count": 10,
   "id": "5be5c224",
   "metadata": {},
   "outputs": [
    {
     "data": {
      "text/plain": [
       "['a', 'b']"
      ]
     },
     "execution_count": 10,
     "metadata": {},
     "output_type": "execute_result"
    }
   ],
   "source": [
    "spam[:2]             # 0 to 1 because 2 is excluded number"
   ]
  },
  {
   "cell_type": "markdown",
   "id": "ad6010a6",
   "metadata": {},
   "source": [
    "# Let's pretend bacon has the list [3.14, 'cat,' 11, 'cat,' True] for the next three questions.\n",
    "<ul>\n",
    "    <li>6. What is the value of bacon.index('cat')?</li>\n",
    "    <li>7. How does bacon.append(99) change the look of the list value in bacon?</li>\n",
    "    <li>8. How does bacon.remove('cat') change the look of the list in bacon?</li>\n",
    "    </ul>\n",
    "\n"
   ]
  },
  {
   "cell_type": "code",
   "execution_count": 14,
   "id": "9aeeb801",
   "metadata": {},
   "outputs": [
    {
     "data": {
      "text/plain": [
       "[3.14, 'cat', 11, 'cat', True]"
      ]
     },
     "execution_count": 14,
     "metadata": {},
     "output_type": "execute_result"
    }
   ],
   "source": [
    "bacon=[3.14, 'cat', 11, 'cat', True]\n",
    "bacon"
   ]
  },
  {
   "cell_type": "markdown",
   "id": "16094e77",
   "metadata": {},
   "source": [
    "# 6. What is the value of bacon.index('cat')?"
   ]
  },
  {
   "cell_type": "code",
   "execution_count": 15,
   "id": "8a0056b3",
   "metadata": {},
   "outputs": [
    {
     "data": {
      "text/plain": [
       "1"
      ]
     },
     "execution_count": 15,
     "metadata": {},
     "output_type": "execute_result"
    }
   ],
   "source": [
    "bacon.index('cat')       # it is returnig index no. of 'cat'"
   ]
  },
  {
   "cell_type": "markdown",
   "id": "1831ff9f",
   "metadata": {},
   "source": [
    "# 7. How does bacon.append(99) change the look of the list value in bacon?"
   ]
  },
  {
   "cell_type": "code",
   "execution_count": 16,
   "id": "ebe86416",
   "metadata": {},
   "outputs": [
    {
     "data": {
      "text/plain": [
       "[3.14, 'cat', 11, 'cat', True, 99]"
      ]
     },
     "execution_count": 16,
     "metadata": {},
     "output_type": "execute_result"
    }
   ],
   "source": [
    "bacon.append(99)        # it is added new element at the last index of the list\n",
    "bacon"
   ]
  },
  {
   "cell_type": "markdown",
   "id": "b3db50c1",
   "metadata": {},
   "source": [
    "# 8. How does bacon.remove('cat') change the look of the list in bacon?"
   ]
  },
  {
   "cell_type": "code",
   "execution_count": 18,
   "id": "6c705729",
   "metadata": {},
   "outputs": [
    {
     "data": {
      "text/plain": [
       "[3.14, 11, True, 99]"
      ]
     },
     "execution_count": 18,
     "metadata": {},
     "output_type": "execute_result"
    }
   ],
   "source": [
    "bacon.remove('cat')\n",
    "bacon\n",
    "\n",
    "# it removed the cat element by using element not a index"
   ]
  },
  {
   "cell_type": "markdown",
   "id": "397df2ea",
   "metadata": {},
   "source": [
    "# 9. What are the list concatenation and list replication operators?"
   ]
  },
  {
   "cell_type": "markdown",
   "id": "880af064",
   "metadata": {},
   "source": [
    "# Ans :-\n",
    "<b>concatenation :- </b> it added the two list of list in a single list"
   ]
  },
  {
   "cell_type": "code",
   "execution_count": 28,
   "id": "4ba114ad",
   "metadata": {},
   "outputs": [],
   "source": [
    "a=[1,2,3]\n",
    "b=[4,5,6]\n",
    "a+b"
   ]
  },
  {
   "cell_type": "markdown",
   "id": "12012744",
   "metadata": {},
   "source": [
    "# replication\n",
    "it repeat the element of the list"
   ]
  },
  {
   "cell_type": "code",
   "execution_count": 20,
   "id": "6d4aeaf8",
   "metadata": {},
   "outputs": [
    {
     "data": {
      "text/plain": [
       "[1, 2, 3]"
      ]
     },
     "execution_count": 20,
     "metadata": {},
     "output_type": "execute_result"
    }
   ],
   "source": [
    "a"
   ]
  },
  {
   "cell_type": "code",
   "execution_count": 21,
   "id": "47e3bc90",
   "metadata": {},
   "outputs": [
    {
     "data": {
      "text/plain": [
       "[1, 2, 3, 1, 2, 3, 1, 2, 3]"
      ]
     },
     "execution_count": 21,
     "metadata": {},
     "output_type": "execute_result"
    }
   ],
   "source": [
    "a*3         # it repeating the ement of a list three times"
   ]
  },
  {
   "cell_type": "markdown",
   "id": "181067b5",
   "metadata": {},
   "source": [
    "# 10. What is difference between the list methods append() and insert()?"
   ]
  },
  {
   "cell_type": "markdown",
   "id": "b0a5c8b1",
   "metadata": {},
   "source": [
    "Ans :- append always add the new element in the list at the last position of the list but\n",
    "    insert have more property we can insert a new element at any position by using insert function of the list.\n",
    "    insert take two arguments first one is index value and one is element that you want to put over there."
   ]
  },
  {
   "cell_type": "markdown",
   "id": "c8c903a6",
   "metadata": {},
   "source": [
    "# 11. What are the two methods for removing items from a list?"
   ]
  },
  {
   "cell_type": "markdown",
   "id": "758dcbce",
   "metadata": {},
   "source": [
    "remove()<br>\n",
    "pop()"
   ]
  },
  {
   "cell_type": "code",
   "execution_count": 29,
   "id": "9c67d5d5",
   "metadata": {},
   "outputs": [
    {
     "data": {
      "text/plain": [
       "[1, 2, 3]"
      ]
     },
     "execution_count": 29,
     "metadata": {},
     "output_type": "execute_result"
    }
   ],
   "source": [
    "a"
   ]
  },
  {
   "cell_type": "code",
   "execution_count": 30,
   "id": "a9046fb3",
   "metadata": {},
   "outputs": [
    {
     "data": {
      "text/plain": [
       "[1, 2]"
      ]
     },
     "execution_count": 30,
     "metadata": {},
     "output_type": "execute_result"
    }
   ],
   "source": [
    "a.remove(3)   # it takes the element which you want to delet\n",
    "a"
   ]
  },
  {
   "cell_type": "code",
   "execution_count": 31,
   "id": "8e823471",
   "metadata": {},
   "outputs": [
    {
     "data": {
      "text/plain": [
       "[1]"
      ]
     },
     "execution_count": 31,
     "metadata": {},
     "output_type": "execute_result"
    }
   ],
   "source": [
    "a.pop()         # it removes  the element at the endth position of this list\n",
    "a"
   ]
  },
  {
   "cell_type": "markdown",
   "id": "e1cbf39e",
   "metadata": {},
   "source": [
    "# 12. Describe how list values and string values are identical."
   ]
  },
  {
   "cell_type": "markdown",
   "id": "1d6c75b9",
   "metadata": {},
   "source": [
    " Ans :-\n",
    " string is immutable and list is mutable , and string is a sequence of character or alphabet, symbols with in the <br>\n",
    " single quates or double quates it may be in tripple quates, but <br>\n",
    " list list can store multiple types of data and group of the element , it may be string , integer , float , bool etc <br>\n",
    " with in the square brackets.\n",
    " "
   ]
  },
  {
   "cell_type": "markdown",
   "id": "adb8b2c6",
   "metadata": {},
   "source": [
    "# 13. What's the difference between tuples and lists?\n"
   ]
  },
  {
   "cell_type": "markdown",
   "id": "7e0aad18",
   "metadata": {},
   "source": [
    "Ans :-\n",
    "tuples are immutable data structure in python but list are mutable data structure in python <br>\n",
    "and tuples always contains elementes in the parenthesis but <br>\n",
    "list contains the data element in square brackets"
   ]
  },
  {
   "cell_type": "markdown",
   "id": "fbbf3e87",
   "metadata": {},
   "source": [
    "# 14. How do you type a tuple value that only contains the integer 42?"
   ]
  },
  {
   "cell_type": "code",
   "execution_count": 35,
   "id": "70bfdf40",
   "metadata": {},
   "outputs": [
    {
     "name": "stdout",
     "output_type": "stream",
     "text": [
      "<class 'tuple'> and type of the data <class 'int'> \n"
     ]
    }
   ],
   "source": [
    "tpl=(42,)\n",
    "print(f\"{type(tpl)} and type of the data {type(tpl[0])} \")"
   ]
  },
  {
   "cell_type": "markdown",
   "id": "82d3b564",
   "metadata": {},
   "source": [
    "# 15. How do you get a list value's tuple form? How do you get a tuple value's list form?"
   ]
  },
  {
   "cell_type": "code",
   "execution_count": 37,
   "id": "ca08ea54",
   "metadata": {},
   "outputs": [],
   "source": [
    "# example on this question\n",
    "\n",
    "tpl1 =(1,2,3,4,['list_value_from_the_tuple'])\n",
    "tpl2 =[1,2,3,4,('tuple_value_from_the_list')]"
   ]
  },
  {
   "cell_type": "code",
   "execution_count": 38,
   "id": "073620d2",
   "metadata": {},
   "outputs": [
    {
     "data": {
      "text/plain": [
       "((1, 2, 3, 4, ['list_value_from_the_tuple']),\n",
       " [1, 2, 3, 4, 'tuple_value_from_the_list'])"
      ]
     },
     "execution_count": 38,
     "metadata": {},
     "output_type": "execute_result"
    }
   ],
   "source": [
    "tpl1,tpl2      # and now i will get the value"
   ]
  },
  {
   "cell_type": "code",
   "execution_count": 39,
   "id": "d1fd5ffd",
   "metadata": {},
   "outputs": [
    {
     "data": {
      "text/plain": [
       "['list_value_from_the_tuple']"
      ]
     },
     "execution_count": 39,
     "metadata": {},
     "output_type": "execute_result"
    }
   ],
   "source": [
    "tpl1[4]        "
   ]
  },
  {
   "cell_type": "code",
   "execution_count": 40,
   "id": "fd522e28",
   "metadata": {},
   "outputs": [
    {
     "data": {
      "text/plain": [
       "'tuple_value_from_the_list'"
      ]
     },
     "execution_count": 40,
     "metadata": {},
     "output_type": "execute_result"
    }
   ],
   "source": [
    "tpl2[4]"
   ]
  },
  {
   "cell_type": "markdown",
   "id": "e73ca27c",
   "metadata": {},
   "source": [
    "# 17. How do you distinguish between copy.copy() and copy.deepcopy()?"
   ]
  },
  {
   "cell_type": "code",
   "execution_count": 41,
   "id": "279c053c",
   "metadata": {},
   "outputs": [],
   "source": [
    "a=[1,2,3,4,5]\n",
    "b=a.copy()          #Return a shallow copy of the list."
   ]
  },
  {
   "cell_type": "code",
   "execution_count": 42,
   "id": "0821220c",
   "metadata": {},
   "outputs": [
    {
     "data": {
      "text/plain": [
       "[1, 2, 3, 4, 5]"
      ]
     },
     "execution_count": 42,
     "metadata": {},
     "output_type": "execute_result"
    }
   ],
   "source": [
    "b"
   ]
  },
  {
   "cell_type": "markdown",
   "id": "e5ecb10a",
   "metadata": {},
   "source": [
    "in which deepcopy process, firs it will construct a new collection object , then <br>\n",
    " then recursively populating it with copies of the child objects found in the original"
   ]
  },
  {
   "cell_type": "code",
   "execution_count": null,
   "id": "73ab334c",
   "metadata": {},
   "outputs": [],
   "source": []
  }
 ],
 "metadata": {
  "kernelspec": {
   "display_name": "Python 3",
   "language": "python",
   "name": "python3"
  },
  "language_info": {
   "codemirror_mode": {
    "name": "ipython",
    "version": 3
   },
   "file_extension": ".py",
   "mimetype": "text/x-python",
   "name": "python",
   "nbconvert_exporter": "python",
   "pygments_lexer": "ipython3",
   "version": "3.9.2"
  }
 },
 "nbformat": 4,
 "nbformat_minor": 5
}
