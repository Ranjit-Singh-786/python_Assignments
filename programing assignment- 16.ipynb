{
 "cells": [
  {
   "cell_type": "markdown",
   "id": "3084ede6",
   "metadata": {},
   "source": [
    "# Python Basic Programming Assignment 16"
   ]
  },
  {
   "cell_type": "markdown",
   "id": "94997e66",
   "metadata": {},
   "source": [
    "### Question1. \n",
    "Write a function that stutters a word as if someone is struggling to read it. The first two letters are repeated twice with an ellipsis ... and space after each, and then the word is pronounced with a question mark ?.<br>\n",
    "\n",
    "**Examples**<br>\n",
    "stutter(&quot;incredible&quot;) ➞ &quot;in... in... incredible?&quot;<br>\n",
    "stutter(&quot;enthusiastic&quot;) ➞ &quot;en... en... enthusiastic?&quot;<br>\n",
    "stutter(&quot;outstanding&quot;) ➞ &quot;ou... ou... outstanding?&quot;"
   ]
  },
  {
   "cell_type": "code",
   "execution_count": 1,
   "id": "8a28ffa5",
   "metadata": {},
   "outputs": [],
   "source": [
    "def stutter(string):\n",
    "#     return f'{string[0:2]}... {string[0:2]}... {string}?'\n",
    "    return (string[0:2]+\"... \")*2+string+\"?\"\n"
   ]
  },
  {
   "cell_type": "code",
   "execution_count": 2,
   "id": "3ce6fe02",
   "metadata": {},
   "outputs": [
    {
     "data": {
      "text/plain": [
       "'in... in... incredible?'"
      ]
     },
     "execution_count": 2,
     "metadata": {},
     "output_type": "execute_result"
    }
   ],
   "source": [
    "stutter(\"incredible\") "
   ]
  },
  {
   "cell_type": "code",
   "execution_count": 3,
   "id": "58b4590f",
   "metadata": {},
   "outputs": [
    {
     "data": {
      "text/plain": [
       "'en... en... enthusiastic?'"
      ]
     },
     "execution_count": 3,
     "metadata": {},
     "output_type": "execute_result"
    }
   ],
   "source": [
    "stutter(\"enthusiastic\")"
   ]
  },
  {
   "cell_type": "code",
   "execution_count": 4,
   "id": "1373ede4",
   "metadata": {},
   "outputs": [
    {
     "data": {
      "text/plain": [
       "'ou... ou... outstanding?'"
      ]
     },
     "execution_count": 4,
     "metadata": {},
     "output_type": "execute_result"
    }
   ],
   "source": [
    "stutter(\"outstanding\")"
   ]
  },
  {
   "cell_type": "code",
   "execution_count": 5,
   "id": "0e7129c4",
   "metadata": {},
   "outputs": [
    {
     "data": {
      "text/plain": [
       "'po... po... pooja?'"
      ]
     },
     "execution_count": 5,
     "metadata": {},
     "output_type": "execute_result"
    }
   ],
   "source": [
    "stutter(\"pooja\")"
   ]
  },
  {
   "cell_type": "markdown",
   "id": "aae870d5",
   "metadata": {},
   "source": [
    "### Question 2.\n",
    "Create a function that takes an angle in radians and returns the corresponding angle in degrees rounded to one decimal place.<br>\n",
    "\n",
    "**Examples**<br>\n",
    "radians_to_degrees(1) ➞ 57.3<br>\n",
    "radians_to_degrees(20) ➞ 1145.9<br>\n",
    "radians_to_degrees(50) ➞ 2864.8\n",
    "\n",
    "\n",
    "Radians =  Degrees * π / 180 <br>\n",
    "Radians * 180 / π = Degrees"
   ]
  },
  {
   "cell_type": "code",
   "execution_count": 6,
   "id": "f4d0cd63",
   "metadata": {},
   "outputs": [],
   "source": [
    "def radians_to_degrees(rad):\n",
    "    import math\n",
    "    return round((180*rad)/math.pi,1)\n"
   ]
  },
  {
   "cell_type": "code",
   "execution_count": 7,
   "id": "0071b03b",
   "metadata": {},
   "outputs": [
    {
     "data": {
      "text/plain": [
       "57.3"
      ]
     },
     "execution_count": 7,
     "metadata": {},
     "output_type": "execute_result"
    }
   ],
   "source": [
    "radians_to_degrees(1)"
   ]
  },
  {
   "cell_type": "code",
   "execution_count": 8,
   "id": "55b411a2",
   "metadata": {},
   "outputs": [
    {
     "data": {
      "text/plain": [
       "1145.9"
      ]
     },
     "execution_count": 8,
     "metadata": {},
     "output_type": "execute_result"
    }
   ],
   "source": [
    "radians_to_degrees(20)"
   ]
  },
  {
   "cell_type": "code",
   "execution_count": 9,
   "id": "321b5a83",
   "metadata": {},
   "outputs": [
    {
     "data": {
      "text/plain": [
       "2864.8"
      ]
     },
     "execution_count": 9,
     "metadata": {},
     "output_type": "execute_result"
    }
   ],
   "source": [
    "radians_to_degrees(50)"
   ]
  },
  {
   "cell_type": "markdown",
   "id": "84f31456",
   "metadata": {},
   "source": [
    "### Question 3. \n",
    "In this challenge, establish if a given integer num is a Curzon number. If 1 plus 2 elevated to num is exactly divisible by 1 plus 2 multiplied by num, then num is a Curzon number.<br>\n",
    "\n",
    "Given a non-negative integer num, implement a function that returns True if num is a Curzon number, or False otherwise.<br>\n",
    "\n",
    "**Examples**<br>\n",
    "\n",
    "is_curzon(5) ➞ True<br>\n",
    "\n",
    "    2 ** 5 + 1 = 33\n",
    "    2 * 5 + 1 = 11\n",
    "    33 is a multiple of 11\n",
    "    \n",
    "is_curzon(10) ➞ False<br>\n",
    "\n",
    "    2 ** 10 + 1 = 1025\n",
    "    2 * 10 + 1 = 21\n",
    "    1025 is not a multiple of 21\n",
    "    \n",
    "is_curzon(14) ➞ True <br>\n",
    "\n",
    "     2 ** 14 + 1 = 16385\n",
    "     2 * 14 + 1 = 29\n",
    "     16385 is a multiple of 29"
   ]
  },
  {
   "cell_type": "code",
   "execution_count": 10,
   "id": "5f1d1447",
   "metadata": {},
   "outputs": [],
   "source": [
    "def is_curzon(num):\n",
    "    if (2**num+1 ) % (2*num+1) ==0:\n",
    "        return True\n",
    "    else:\n",
    "        return False"
   ]
  },
  {
   "cell_type": "code",
   "execution_count": 11,
   "id": "7b879d53",
   "metadata": {},
   "outputs": [
    {
     "data": {
      "text/plain": [
       "True"
      ]
     },
     "execution_count": 11,
     "metadata": {},
     "output_type": "execute_result"
    }
   ],
   "source": [
    "is_curzon(5) "
   ]
  },
  {
   "cell_type": "code",
   "execution_count": 12,
   "id": "20c952c8",
   "metadata": {},
   "outputs": [
    {
     "data": {
      "text/plain": [
       "False"
      ]
     },
     "execution_count": 12,
     "metadata": {},
     "output_type": "execute_result"
    }
   ],
   "source": [
    "is_curzon(10)"
   ]
  },
  {
   "cell_type": "code",
   "execution_count": 13,
   "id": "d4b4a1b2",
   "metadata": {},
   "outputs": [
    {
     "data": {
      "text/plain": [
       "True"
      ]
     },
     "execution_count": 13,
     "metadata": {},
     "output_type": "execute_result"
    }
   ],
   "source": [
    "is_curzon(14) "
   ]
  },
  {
   "cell_type": "markdown",
   "id": "a3e8acf1",
   "metadata": {},
   "source": [
    "### Question 4.\n",
    "Given the side length x find the area of a hexagon.<br>\n",
    "\n",
    "**Examples**<br>\n",
    "\n",
    "area_of_hexagon(1) ➞ 2.6<br>\n",
    "area_of_hexagon(2) ➞ 10.4<br>\n",
    "area_of_hexagon(3) ➞ 23.4\n",
    "\n",
    "\n",
    "Area = (3√3 *s2)/2"
   ]
  },
  {
   "cell_type": "code",
   "execution_count": 14,
   "id": "5f45deeb",
   "metadata": {},
   "outputs": [],
   "source": [
    "def area_of_hexagon(side):\n",
    "    import math\n",
    "    return round((3*math.sqrt(3)*side**2)/2,1)\n",
    "    "
   ]
  },
  {
   "cell_type": "code",
   "execution_count": 15,
   "id": "fbbce28d",
   "metadata": {},
   "outputs": [
    {
     "data": {
      "text/plain": [
       "2.6"
      ]
     },
     "execution_count": 15,
     "metadata": {},
     "output_type": "execute_result"
    }
   ],
   "source": [
    "area_of_hexagon(1)"
   ]
  },
  {
   "cell_type": "code",
   "execution_count": 16,
   "id": "7d8bfdd9",
   "metadata": {},
   "outputs": [
    {
     "data": {
      "text/plain": [
       "10.4"
      ]
     },
     "execution_count": 16,
     "metadata": {},
     "output_type": "execute_result"
    }
   ],
   "source": [
    "area_of_hexagon(2)"
   ]
  },
  {
   "cell_type": "code",
   "execution_count": 17,
   "id": "32e5850b",
   "metadata": {},
   "outputs": [
    {
     "data": {
      "text/plain": [
       "23.4"
      ]
     },
     "execution_count": 17,
     "metadata": {},
     "output_type": "execute_result"
    }
   ],
   "source": [
    "area_of_hexagon(3) "
   ]
  },
  {
   "cell_type": "markdown",
   "id": "9322d7ac",
   "metadata": {},
   "source": [
    "### Question 5.\n",
    "Create a function that returns a base-2 (binary) representation of a base-10 (decimal) string number. To convert is simple((2) means base-2 and (10) means base-10) 010101001(2) = 1 + 8 + 32 + 128.<br>\n",
    "\n",
    "Going from right to left, the value of the most right bit is 1, now from that every bit to the left will be x2 the value, value of an 8 bit binary numbers are (256, 128, 64, 32, 16, 8, 4, 2, 1).<br>\n",
    "\n",
    "**Examples**<br>\n",
    "\n",
    "binary(1) ➞ &quot;1&quot;<br>\n",
    "\n",
    "     1*1 = 1\n",
    "     \n",
    "binary(5) ➞ &quot;101&quot;<br>\n",
    "    \n",
    "    1*1 + 1*4 = 5\n",
    "    \n",
    "binary(10) ➞ &quot;1010&quot;<br>\n",
    "    \n",
    "    1*2 + 1*8 = 10"
   ]
  },
  {
   "cell_type": "code",
   "execution_count": 18,
   "id": "ef927f86",
   "metadata": {},
   "outputs": [],
   "source": [
    "def binary(num):\n",
    "    \n",
    "#     return bin(num)[2:] \n",
    "# logic \n",
    "    l=[]\n",
    "    for i in range(num,0,-1):\n",
    "#         print(i)\n",
    "        l.append(str(num%2))\n",
    "        num=num//2\n",
    "    return str(int(\"\".join(l[::-1])))   \n",
    "        "
   ]
  },
  {
   "cell_type": "code",
   "execution_count": 19,
   "id": "9f452b06",
   "metadata": {},
   "outputs": [
    {
     "data": {
      "text/plain": [
       "'101'"
      ]
     },
     "execution_count": 19,
     "metadata": {},
     "output_type": "execute_result"
    }
   ],
   "source": [
    "binary(5)"
   ]
  },
  {
   "cell_type": "code",
   "execution_count": 20,
   "id": "249c412f",
   "metadata": {},
   "outputs": [
    {
     "data": {
      "text/plain": [
       "'1'"
      ]
     },
     "execution_count": 20,
     "metadata": {},
     "output_type": "execute_result"
    }
   ],
   "source": [
    "binary(1)"
   ]
  },
  {
   "cell_type": "code",
   "execution_count": 21,
   "id": "5b9eda75",
   "metadata": {},
   "outputs": [
    {
     "data": {
      "text/plain": [
       "'1010'"
      ]
     },
     "execution_count": 21,
     "metadata": {},
     "output_type": "execute_result"
    }
   ],
   "source": [
    "binary(10)"
   ]
  }
 ],
 "metadata": {
  "kernelspec": {
   "display_name": "Python 3 (ipykernel)",
   "language": "python",
   "name": "python3"
  },
  "language_info": {
   "codemirror_mode": {
    "name": "ipython",
    "version": 3
   },
   "file_extension": ".py",
   "mimetype": "text/x-python",
   "name": "python",
   "nbconvert_exporter": "python",
   "pygments_lexer": "ipython3",
   "version": "3.9.7"
  }
 },
 "nbformat": 4,
 "nbformat_minor": 5
}