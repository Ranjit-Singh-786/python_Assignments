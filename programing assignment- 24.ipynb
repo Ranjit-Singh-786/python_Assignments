{
 "cells": [
  {
   "cell_type": "markdown",
   "id": "c26bfda2",
   "metadata": {},
   "source": [
    "# Python Basic Programming Assignment 24"
   ]
  },
  {
   "cell_type": "markdown",
   "id": "8823c8a1",
   "metadata": {},
   "source": [
    "### Question1\n",
    "Create a function that takes an integer and returns a list from 1 to the given number, where:<br>\n",
    "\n",
    "1. If the number **can be divided** evenly by 4, amplify it by 10 (i.e. return 10 times the number).<br>\n",
    "2. If the number **cannot be divided** evenly by 4, simply return the number.\n",
    "\n",
    "**Examples**<br>\n",
    "amplify(4) ➞ [1, 2, 3, 40]<br>\n",
    "amplify(3) ➞ [1, 2, 3]<br>\n",
    "amplify(25) ➞ [1, 2, 3, 40, 5, 6, 7, 80, 9, 10, 11, 120, 13, 14, 15, 160,17, 18, 19, 200, 21, 22, 23, 240, 25]<br>\n",
    "\n",
    "**Notes**<br>\n",
    "* The given integer will always be equal to or greater than 1.\n",
    "* Include the number (see example above).\n",
    "* To perform this problem with its intended purpose, try doing it with list comprehensions. \n",
    "   If that&#39;s too difficult, just solve the challenge any way you can."
   ]
  },
  {
   "cell_type": "code",
   "execution_count": 1,
   "id": "18df3afa",
   "metadata": {},
   "outputs": [],
   "source": [
    "def amplify(num):\n",
    "    list_of_num=[(i*10) if i %4==0 else i for i in range(1,num+1)]\n",
    "    return list_of_num       "
   ]
  },
  {
   "cell_type": "code",
   "execution_count": 2,
   "id": "c0dd5b88",
   "metadata": {},
   "outputs": [
    {
     "data": {
      "text/plain": [
       "[1, 2, 3, 40]"
      ]
     },
     "execution_count": 2,
     "metadata": {},
     "output_type": "execute_result"
    }
   ],
   "source": [
    "amplify(4)"
   ]
  },
  {
   "cell_type": "code",
   "execution_count": 3,
   "id": "3270ea27",
   "metadata": {},
   "outputs": [
    {
     "data": {
      "text/plain": [
       "[1, 2, 3]"
      ]
     },
     "execution_count": 3,
     "metadata": {},
     "output_type": "execute_result"
    }
   ],
   "source": [
    "amplify(3)"
   ]
  },
  {
   "cell_type": "code",
   "execution_count": 4,
   "id": "9336b466",
   "metadata": {},
   "outputs": [
    {
     "name": "stdout",
     "output_type": "stream",
     "text": [
      "[1, 2, 3, 40, 5, 6, 7, 80, 9, 10, 11, 120, 13, 14, 15, 160, 17, 18, 19, 200, 21, 22, 23, 240, 25] "
     ]
    }
   ],
   "source": [
    "print(amplify(25),end=\" \")"
   ]
  },
  {
   "cell_type": "markdown",
   "id": "ece81db8",
   "metadata": {},
   "source": [
    "### Question2\n",
    "Create a function that takes a list of numbers and return the number that&#39;s unique.<br>\n",
    "\n",
    "**Examples**<br>\n",
    "unique([3, 3, 3, 7, 3, 3]) ➞ 7<br>\n",
    "unique([0, 0, 0.77, 0, 0]) ➞ 0.77<br>\n",
    "unique([0, 1, 1, 1, 1, 1, 1, 1]) ➞ 0<br>\n",
    "\n",
    "**Notes**<br>\n",
    "Test cases will always have exactly one unique number while all others are the same."
   ]
  },
  {
   "cell_type": "code",
   "execution_count": 5,
   "id": "b2c44f06",
   "metadata": {},
   "outputs": [],
   "source": [
    "def unique(lst):\n",
    "    for i in list(set(lst)):\n",
    "        if i in lst and lst.count(i)==1:\n",
    "            return i"
   ]
  },
  {
   "cell_type": "code",
   "execution_count": 6,
   "id": "2535bc4d",
   "metadata": {},
   "outputs": [
    {
     "data": {
      "text/plain": [
       "4"
      ]
     },
     "execution_count": 6,
     "metadata": {},
     "output_type": "execute_result"
    }
   ],
   "source": [
    "unique([3,6, 1,1,3, 3,4, 7, 3,5, 3]) "
   ]
  },
  {
   "cell_type": "code",
   "execution_count": 7,
   "id": "a5da7749",
   "metadata": {},
   "outputs": [
    {
     "data": {
      "text/plain": [
       "0.77"
      ]
     },
     "execution_count": 7,
     "metadata": {},
     "output_type": "execute_result"
    }
   ],
   "source": [
    "unique([0, 0, 0.77, 0, 0])"
   ]
  },
  {
   "cell_type": "code",
   "execution_count": 8,
   "id": "dbee99b0",
   "metadata": {},
   "outputs": [
    {
     "data": {
      "text/plain": [
       "0"
      ]
     },
     "execution_count": 8,
     "metadata": {},
     "output_type": "execute_result"
    }
   ],
   "source": [
    "unique([0, 1, 1, 1, 1, 1, 1, 1])"
   ]
  },
  {
   "cell_type": "markdown",
   "id": "2ea7c2b7",
   "metadata": {},
   "source": [
    "### Question3\n",
    "Your task is to create a Circle constructor that creates a circle with a radius provided by an argument. The circles constructed must have two getters getArea() (PIr^2) and getPerimeter() (2PI*r) which give both respective areas and perimeter (circumference).<br>\n",
    "\n",
    "For help with this class, I have provided you with a Rectangle constructor which you can use as a base example.<br>\n",
    "\n",
    "**Examples**<br>\n",
    "\n",
    "circy = Circle(11)<br>\n",
    "circy.getArea()<br>\n",
    "\n",
    "--Should return 380.132711084365<br>\n",
    "\n",
    "circy = Circle(4.44)<br>\n",
    "circy.getPerimeter()<br>\n",
    "\n",
    "--Should return 27.897342763877365<br>\n",
    "\n",
    "**Notes**<br>\n",
    "Round results up to the nearest integer."
   ]
  },
  {
   "cell_type": "code",
   "execution_count": 9,
   "id": "0276707a",
   "metadata": {},
   "outputs": [],
   "source": [
    "import math\n",
    "class Circle:\n",
    "    def __init__(self,r):\n",
    "        self.r=r\n",
    "        \n",
    "    def getArea(self):\n",
    "        return math.pi*self.r**2\n",
    "    \n",
    "    def getPerimeter(self):\n",
    "        return 2*math.pi*self.r\n",
    "    "
   ]
  },
  {
   "cell_type": "code",
   "execution_count": 10,
   "id": "e2a99a4a",
   "metadata": {},
   "outputs": [
    {
     "data": {
      "text/plain": [
       "380.132711084365"
      ]
     },
     "execution_count": 10,
     "metadata": {},
     "output_type": "execute_result"
    }
   ],
   "source": [
    "circy = Circle(11)\n",
    "circy.getArea()"
   ]
  },
  {
   "cell_type": "code",
   "execution_count": 11,
   "id": "cfaf6e40",
   "metadata": {},
   "outputs": [
    {
     "data": {
      "text/plain": [
       "27.897342763877365"
      ]
     },
     "execution_count": 11,
     "metadata": {},
     "output_type": "execute_result"
    }
   ],
   "source": [
    "circy = Circle(4.44)\n",
    "circy.getPerimeter()"
   ]
  },
  {
   "cell_type": "markdown",
   "id": "c3a48060",
   "metadata": {},
   "source": [
    "### Question4\n",
    "Create a function that takes a list of strings and return a list, sorted from shortest to longest.<br><br>\n",
    "**Examples**<br>\n",
    "sort_by_length([&quot;Google&quot;, &quot;Apple&quot;, &quot;Microsoft&quot;])➞ [&quot;Apple&quot;, &quot;Google&quot;, &quot;Microsoft&quot;]<br>\n",
    "sort_by_length([&quot;Leonardo&quot;, &quot;Michelangelo&quot;, &quot;Raphael&quot;, &quot;Donatello&quot;])➞ [&quot;Raphael&quot;, &quot;Leonardo&quot;, &quot;Donatello&quot;, &quot;Michelangelo&quot;]<br>\n",
    "sort_by_length([&quot;Turing&quot;, &quot;Einstein&quot;, &quot;Jung&quot;])➞ [&quot;Jung&quot;, &quot;Turing&quot;, &quot;Einstein&quot;]\n",
    "\n",
    "**Notes**<br>\n",
    "All test cases contain lists with strings of different lengths, so you won&#39;t have to deal with<br>\n",
    "multiple strings of the same length."
   ]
  },
  {
   "cell_type": "code",
   "execution_count": 12,
   "id": "929a35cb",
   "metadata": {},
   "outputs": [],
   "source": [
    "def sort_by_length(lst):\n",
    "    return sorted(lst,key=len)"
   ]
  },
  {
   "cell_type": "code",
   "execution_count": 13,
   "id": "9ef8911f",
   "metadata": {},
   "outputs": [
    {
     "data": {
      "text/plain": [
       "['Apple', 'Google', 'Microsoft']"
      ]
     },
     "execution_count": 13,
     "metadata": {},
     "output_type": "execute_result"
    }
   ],
   "source": [
    "sort_by_length([\"Google\", \"Apple\", \"Microsoft\"])"
   ]
  },
  {
   "cell_type": "code",
   "execution_count": 14,
   "id": "0a0f0acf",
   "metadata": {},
   "outputs": [
    {
     "data": {
      "text/plain": [
       "['Raphael', 'Leonardo', 'Donatello', 'Michelangelo']"
      ]
     },
     "execution_count": 14,
     "metadata": {},
     "output_type": "execute_result"
    }
   ],
   "source": [
    "sort_by_length([\"Leonardo\", \"Michelangelo\", \"Raphael\", \"Donatello\"])"
   ]
  },
  {
   "cell_type": "code",
   "execution_count": 15,
   "id": "c9662420",
   "metadata": {},
   "outputs": [
    {
     "data": {
      "text/plain": [
       "['Jung', 'Turing', 'Einstein']"
      ]
     },
     "execution_count": 15,
     "metadata": {},
     "output_type": "execute_result"
    }
   ],
   "source": [
    "sort_by_length([\"Turing\", \"Einstein\", \"Jung\"])"
   ]
  },
  {
   "cell_type": "markdown",
   "id": "8fb9c66b",
   "metadata": {},
   "source": [
    "### Question5\n",
    "Create a function that validates whether three given integers form a Pythagorean triplet. The sum of the squares of the two smallest integers must equal the square of the largest number to be validated.<br>\n",
    "\n",
    "**Examples**<br>\n",
    "is_triplet(3, 4, 5) ➞ True<br>\n",
    "    3² + 4² = 25<br>\n",
    "    5² = 25<br>\n",
    "is_triplet(13, 5, 12) ➞ True<br>\n",
    "    5² + 12² = 169<br>\n",
    "    13² = 169<br>\n",
    "is_triplet(1, 2, 3) ➞ False<br>\n",
    "    1² + 2² = 5<br>\n",
    "    3² = 9<br>\n",
    "**Notes**<br>\n",
    "Numbers may not be given in a sorted order."
   ]
  },
  {
   "cell_type": "code",
   "execution_count": 16,
   "id": "6a651e4d",
   "metadata": {},
   "outputs": [],
   "source": [
    "def is_triplet(*lst):\n",
    "    lst=sorted(lst)\n",
    "    for i in range(len(lst)):\n",
    "        if (lst[i]**2 + lst[i+1]**2) == (lst[-1]**2):\n",
    "            return True\n",
    "        else:\n",
    "            return False"
   ]
  },
  {
   "cell_type": "code",
   "execution_count": 17,
   "id": "067b432a",
   "metadata": {},
   "outputs": [
    {
     "data": {
      "text/plain": [
       "True"
      ]
     },
     "execution_count": 17,
     "metadata": {},
     "output_type": "execute_result"
    }
   ],
   "source": [
    "is_triplet(3, 4, 5)"
   ]
  },
  {
   "cell_type": "code",
   "execution_count": 18,
   "id": "842ed3df",
   "metadata": {},
   "outputs": [
    {
     "data": {
      "text/plain": [
       "True"
      ]
     },
     "execution_count": 18,
     "metadata": {},
     "output_type": "execute_result"
    }
   ],
   "source": [
    "is_triplet(13, 5, 12)"
   ]
  },
  {
   "cell_type": "code",
   "execution_count": 19,
   "id": "052b13f3",
   "metadata": {},
   "outputs": [
    {
     "data": {
      "text/plain": [
       "False"
      ]
     },
     "execution_count": 19,
     "metadata": {},
     "output_type": "execute_result"
    }
   ],
   "source": [
    "is_triplet(1, 2, 3) "
   ]
  }
 ],
 "metadata": {
  "kernelspec": {
   "display_name": "Python 3 (ipykernel)",
   "language": "python",
   "name": "python3"
  },
  "language_info": {
   "codemirror_mode": {
    "name": "ipython",
    "version": 3
   },
   "file_extension": ".py",
   "mimetype": "text/x-python",
   "name": "python",
   "nbconvert_exporter": "python",
   "pygments_lexer": "ipython3",
   "version": "3.9.7"
  }
 },
 "nbformat": 4,
 "nbformat_minor": 5
}